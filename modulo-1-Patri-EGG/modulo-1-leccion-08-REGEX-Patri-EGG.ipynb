{
 "cells": [
  {
   "cell_type": "code",
   "execution_count": 6,
   "metadata": {},
   "outputs": [],
   "source": [
    "import re"
   ]
  },
  {
   "cell_type": "markdown",
   "metadata": {},
   "source": [
    "1. Write a Python program to check that a string contains only a certain set of characters (in this case a-z, A-Z and 0-9)."
   ]
  },
  {
   "cell_type": "code",
   "execution_count": 62,
   "metadata": {},
   "outputs": [
    {
     "name": "stdout",
     "output_type": "stream",
     "text": [
      "Es válido\n"
     ]
    }
   ],
   "source": [
    "input_string = input(\"Ingresa una cadena de palabras\")\n",
    "patron_regex = r\"^[A-Za-z0-9\\s]$\"\n",
    "\n",
    "elementos_validos = True\n",
    "\n",
    "for elementos in input_string:\n",
    "    if not re.match(patron_regex,elementos):\n",
    "        elementos_validos = False\n",
    "        break\n",
    "\n",
    "if elementos_validos:\n",
    "    print(\"Es válido\")\n",
    "else:\n",
    "    print(\"No es válido\")"
   ]
  },
  {
   "cell_type": "markdown",
   "metadata": {},
   "source": [
    " 2. Write a Python program that matches a string that has an \"a\" followed by zero or more \"b's\"."
   ]
  },
  {
   "cell_type": "code",
   "execution_count": 76,
   "metadata": {},
   "outputs": [
    {
     "name": "stdout",
     "output_type": "stream",
     "text": [
      "Han habido 6 coincidencias\n"
     ]
    }
   ],
   "source": [
    "input_2 = \"hola el abecedario empieza por abc o a b y c.\"\n",
    "input_2_lista = list(input_2)\n",
    "patron_2 = r\"a(b*)\"\n",
    "\n",
    "matches = [elementos_validos for elementos_validos in input_2_lista if re.match(patron_2,elementos_validos)]\n",
    "print(f\"Han habido {len(matches)} coincidencias\")"
   ]
  },
  {
   "cell_type": "markdown",
   "metadata": {},
   "source": []
  },
  {
   "cell_type": "code",
   "execution_count": null,
   "metadata": {},
   "outputs": [],
   "source": []
  },
  {
   "cell_type": "raw",
   "metadata": {
    "vscode": {
     "languageId": "raw"
    }
   },
   "source": []
  }
 ],
 "metadata": {
  "kernelspec": {
   "display_name": "base",
   "language": "python",
   "name": "python3"
  },
  "language_info": {
   "codemirror_mode": {
    "name": "ipython",
    "version": 3
   },
   "file_extension": ".py",
   "mimetype": "text/x-python",
   "name": "python",
   "nbconvert_exporter": "python",
   "pygments_lexer": "ipython3",
   "version": "3.11.8"
  }
 },
 "nbformat": 4,
 "nbformat_minor": 2
}
