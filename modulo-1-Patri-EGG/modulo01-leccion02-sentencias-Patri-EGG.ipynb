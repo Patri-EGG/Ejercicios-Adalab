{
 "cells": [
  {
   "cell_type": "markdown",
   "metadata": {},
   "source": [
    "1. Crea las siguientes variables:\n",
    "    var1 sea un número con el valor 8.\n",
    "\n",
    "    var2 sea un número con el valor 2.\n",
    "\n",
    "    var3 sea un número con el valor 8."
   ]
  },
  {
   "cell_type": "code",
   "execution_count": 153,
   "metadata": {},
   "outputs": [],
   "source": [
    "var1 = 8"
   ]
  },
  {
   "cell_type": "code",
   "execution_count": 154,
   "metadata": {},
   "outputs": [],
   "source": [
    "var2 = 2"
   ]
  },
  {
   "cell_type": "code",
   "execution_count": 155,
   "metadata": {},
   "outputs": [],
   "source": [
    "var3 = 8"
   ]
  },
  {
   "cell_type": "markdown",
   "metadata": {},
   "source": [
    "2. Comprueba si var1 es mayor que 6, y si es así imprime ¡Es enorme!"
   ]
  },
  {
   "cell_type": "code",
   "execution_count": 156,
   "metadata": {},
   "outputs": [
    {
     "name": "stdout",
     "output_type": "stream",
     "text": [
      "¡Es enorme!\n"
     ]
    }
   ],
   "source": [
    "if var1 > 6:\n",
    "    print(\"¡Es enorme!\")"
   ]
  },
  {
   "cell_type": "markdown",
   "metadata": {},
   "source": [
    "3. Comprueba si var2 es mayor que 6, y si es así imprime ¡Es enorme también!"
   ]
  },
  {
   "cell_type": "code",
   "execution_count": 157,
   "metadata": {},
   "outputs": [],
   "source": [
    "if var2 > 6 :\n",
    "    print(\"¡Es enorme también!\")\n",
    "\n"
   ]
  },
  {
   "cell_type": "markdown",
   "metadata": {},
   "source": []
  },
  {
   "cell_type": "markdown",
   "metadata": {},
   "source": [
    "4. Comprueba si var3 es mayor que 6, y si es así imprime ¡Es enorme! seguido por ¡Pero de verdad! en otra línea (deberéis tener dos print)."
   ]
  },
  {
   "cell_type": "code",
   "execution_count": 158,
   "metadata": {},
   "outputs": [
    {
     "name": "stdout",
     "output_type": "stream",
     "text": [
      "Es enorme!\n",
      "Pero de verdad\n"
     ]
    }
   ],
   "source": [
    "if var3 > 6 : \n",
    "    print(\"Es enorme!\"),\n",
    "    print(\"Pero de verdad\")"
   ]
  },
  {
   "cell_type": "markdown",
   "metadata": {},
   "source": [
    "5. Comprueba si var1 es igual que var3, y si es así imprime Son iguales."
   ]
  },
  {
   "cell_type": "code",
   "execution_count": 159,
   "metadata": {},
   "outputs": [
    {
     "name": "stdout",
     "output_type": "stream",
     "text": [
      "Son iguales\n"
     ]
    }
   ],
   "source": [
    "if var1 == var3 : \n",
    "    print(\"Son iguales\")\n"
   ]
  },
  {
   "cell_type": "markdown",
   "metadata": {},
   "source": [
    "6. Comprueba si var1 es igual que var2, y si es así imprime Son iguales."
   ]
  },
  {
   "cell_type": "code",
   "execution_count": 160,
   "metadata": {},
   "outputs": [],
   "source": [
    "if var1 == var2 : \n",
    "    print(\"Son iguales\")"
   ]
  },
  {
   "cell_type": "markdown",
   "metadata": {},
   "source": [
    "7. Comprueba si var1 es mayor o igual que var2, y si es así calcula la diferencia entre var1 y var2, guardala en la variable dif, e imprime 'La diferencia es',dif."
   ]
  },
  {
   "cell_type": "code",
   "execution_count": 161,
   "metadata": {},
   "outputs": [
    {
     "name": "stdout",
     "output_type": "stream",
     "text": [
      "6\n"
     ]
    }
   ],
   "source": [
    "if var1 >= var2 :\n",
    "    dif = var1 - var2 \n",
    "    print(dif)"
   ]
  },
  {
   "cell_type": "markdown",
   "metadata": {},
   "source": [
    "8. Comprueba si var1 es mayor que 6, y si es así imprime ¡Es enorme!. Si no es así imprime Es chiquitín."
   ]
  },
  {
   "cell_type": "code",
   "execution_count": 162,
   "metadata": {},
   "outputs": [
    {
     "name": "stdout",
     "output_type": "stream",
     "text": [
      "Es enorme!\n"
     ]
    }
   ],
   "source": [
    "if var1 > 6 :\n",
    "    print(\"Es enorme!\")\n",
    "else :\n",
    "    print(\"Es chiquitín\")"
   ]
  },
  {
   "cell_type": "markdown",
   "metadata": {},
   "source": [
    "9. Comprueba si var2 es mayor que 6, y si es así imprime ¡Es enorme también!. Si no es así imprime Es chiquitín también."
   ]
  },
  {
   "cell_type": "code",
   "execution_count": 163,
   "metadata": {},
   "outputs": [
    {
     "name": "stdout",
     "output_type": "stream",
     "text": [
      "Es chiquitín también\n"
     ]
    }
   ],
   "source": [
    "if var2 > 6 :\n",
    "    print(\"Es enorme también!\")\n",
    "else :\n",
    "    print(\"Es chiquitín también\")"
   ]
  },
  {
   "cell_type": "markdown",
   "metadata": {},
   "source": [
    "10. Comprueba si var1 es igual a var3, y si es así imprime Son iguales. Si no es así imprime Son distintos."
   ]
  },
  {
   "cell_type": "code",
   "execution_count": 164,
   "metadata": {},
   "outputs": [
    {
     "name": "stdout",
     "output_type": "stream",
     "text": [
      "Son iguales.\n"
     ]
    }
   ],
   "source": [
    "if var1 == var3 : \n",
    "    print(\"Son iguales.\")\n",
    "else :\n",
    "    print(\"Son distintos\")"
   ]
  },
  {
   "cell_type": "markdown",
   "metadata": {},
   "source": [
    "11. Escribe un programa para una empresa que tiene salas de juegos para todas las edades y quiere calcular de forma automática el precio que debe cobrar a sus clientes por entrar. El programa debe preguntar al usuario:\n",
    "\n",
    "La edad del cliente.\n",
    "\n",
    "Las condiciones que tendremos que chequear:\n",
    "\n",
    "Si el cliente es menor de 4 años puede entrar gratis,\n",
    "\n",
    "Si tiene entre 4 y 18 años debe pagar 5€ y\n",
    "\n",
    "Si es mayor de 18 años, 10€."
   ]
  },
  {
   "cell_type": "code",
   "execution_count": 165,
   "metadata": {},
   "outputs": [],
   "source": [
    "edadCliente = int(input(\"Cuántos años tienes\"))"
   ]
  },
  {
   "cell_type": "code",
   "execution_count": 166,
   "metadata": {},
   "outputs": [
    {
     "name": "stdout",
     "output_type": "stream",
     "text": [
      "5€\n"
     ]
    }
   ],
   "source": [
    "if edadCliente < 4 :\n",
    "    print(\"Es gratis!\") \n",
    "elif edadCliente >= 4 and edadCliente < 18 :\n",
    "    print(\"5€\") \n",
    "else : \n",
    "    print(\"10€\")\n"
   ]
  },
  {
   "cell_type": "markdown",
   "metadata": {},
   "source": [
    "12. Inicia la varible ahorros con un valor de 5. Crea un bucle while que mientras los ahorros sean igual o menor que 20 imprima por pantalla la cantidad de ahorros que tenemos, y añádele 5 más. Cuando la variable ahorros supere el valor de 20 el bucle deberá parar."
   ]
  },
  {
   "cell_type": "code",
   "execution_count": 171,
   "metadata": {},
   "outputs": [],
   "source": [
    "ahorros = 5 "
   ]
  },
  {
   "cell_type": "code",
   "execution_count": 174,
   "metadata": {},
   "outputs": [
    {
     "ename": "SyntaxError",
     "evalue": "expected ':' (2513562121.py, line 4)",
     "output_type": "error",
     "traceback": [
      "\u001b[0;36m  Cell \u001b[0;32mIn[174], line 4\u001b[0;36m\u001b[0m\n\u001b[0;31m    if ahorros >= 20\u001b[0m\n\u001b[0m                     ^\u001b[0m\n\u001b[0;31mSyntaxError\u001b[0m\u001b[0;31m:\u001b[0m expected ':'\n"
     ]
    }
   ],
   "source": [
    "while ahorros <= 20 :\n",
    "    print(ahorros)\n",
    "    ahorros += 5 \n",
    "if ahorros >= 20 \n",
    "  \n",
    "    \n",
    "  "
   ]
  },
  {
   "cell_type": "code",
   "execution_count": null,
   "metadata": {},
   "outputs": [],
   "source": []
  }
 ],
 "metadata": {
  "kernelspec": {
   "display_name": "base",
   "language": "python",
   "name": "python3"
  },
  "language_info": {
   "codemirror_mode": {
    "name": "ipython",
    "version": 3
   },
   "file_extension": ".py",
   "mimetype": "text/x-python",
   "name": "python",
   "nbconvert_exporter": "python",
   "pygments_lexer": "ipython3",
   "version": "3.11.8"
  }
 },
 "nbformat": 4,
 "nbformat_minor": 2
}
