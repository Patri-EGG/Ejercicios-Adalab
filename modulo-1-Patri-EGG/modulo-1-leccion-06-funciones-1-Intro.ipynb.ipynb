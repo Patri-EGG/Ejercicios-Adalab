{
 "cells": [
  {
   "cell_type": "markdown",
   "metadata": {},
   "source": [
    "1. Escribe una función que reciba una cadena de texto como parámetro y devuelva un diccionario con las frecuencias de cada letra en la cadena. Los espacios no deben ser considerados."
   ]
  },
  {
   "cell_type": "code",
   "execution_count": 15,
   "metadata": {},
   "outputs": [
    {
     "name": "stdout",
     "output_type": "stream",
     "text": [
      "{'H': 1, 'o': 4, 'l': 1, 'a': 2, 't': 1, 'd': 1, 's': 3, 'm': 1, 'i': 2, 'v': 1, 'e': 1, 'c': 1, 'n': 1}\n"
     ]
    }
   ],
   "source": [
    "cadena = \"Hola a todos mis vecinos\"\n",
    "\n",
    "def contar_frecuencias(cadena):\n",
    "    frecuencias = {}  # Diccionario vacío para almacenar las frecuencias\n",
    "    for caracter in cadena:\n",
    "        if caracter != ' ':  # Ignorar espacios\n",
    "            if caracter in frecuencias:\n",
    "                frecuencias[caracter] += 1  # Incrementar el contador para el caracter existente\n",
    "            else:\n",
    "                frecuencias[caracter] = 1  # Iniciar el contador para un nuevo caracter\n",
    "    return frecuencias\n",
    "\n",
    "# Ejemplo de uso\n",
    "\n",
    "frecuencias = contar_frecuencias(cadena)\n",
    "print(frecuencias)\n"
   ]
  },
  {
   "cell_type": "markdown",
   "metadata": {},
   "source": [
    "2. Escribe una función que reciba una cadena de texto como parámetro y devuelva una lista con todas las palabras que tienen más de 5 letras."
   ]
  },
  {
   "cell_type": "code",
   "execution_count": 16,
   "metadata": {},
   "outputs": [
    {
     "name": "stdout",
     "output_type": "stream",
     "text": [
      "['Cuantas', 'veces', 'tengo', 'escribir']\n"
     ]
    }
   ],
   "source": [
    "cadena2 = \"Cuantas veces más tengo que escribir \"\n",
    "\n",
    "def medidor_palabras(cadena2) : \n",
    "    palabras_largas = []\n",
    "    palabras = cadena2.split()   #divide la cadena en palabras\n",
    "    for palabra in palabras :\n",
    "        if len(palabra) >= 5 :\n",
    "            palabras_largas.append(palabra)\n",
    "    return palabras_largas\n",
    "\n",
    "palabras_largas = medidor_palabras(cadena2)\n",
    "print(palabras_largas) \n"
   ]
  },
  {
   "cell_type": "markdown",
   "metadata": {},
   "source": [
    "3. Crea una función que tome una lista de palabras como entrada y devuelva una lista de palabras que contengan más de una vocal."
   ]
  },
  {
   "cell_type": "code",
   "execution_count": 17,
   "metadata": {},
   "outputs": [],
   "source": [
    "# def palabras_con_vocales(lista_palabras):\n",
    "#     vocales = set('aeiouáéíóú')  # Conjunto de vocales (incluyendo vocales acentuadas)\n",
    "#     palabras_seleccionadas = []  # Lista para almacenar palabras que cumplen el criterio\n",
    "\n",
    "#     for palabra in lista_palabras:\n",
    "#         # Contador de vocales en la palabra\n",
    "#         contador_vocales = sum(1 for letra in palabra if letra.lower() in vocales)\n",
    "        \n",
    "#         # Si la palabra tiene más de una vocal, se añade a la lista de resultados\n",
    "#         if contador_vocales > 1:\n",
    "#             palabras_seleccionadas.append(palabra)\n",
    "\n",
    "#     return palabras_seleccionadas\n",
    "\n",
    "# # Lista de palabras para probar la función\n",
    "# lista_palabras = [\"perro\", \"gato\", \"escritorio\", \"lápiz\", \"rinoceronte\"]\n",
    "\n",
    "# # Llamada a la función y muestra de resultados\n",
    "# palabras_seleccionadas = palabras_con_vocales(lista_palabras)\n",
    "# print(palabras_seleccionadas)\n"
   ]
  },
  {
   "cell_type": "markdown",
   "metadata": {},
   "source": [
    "4. Crea una función que tome una lista de números y calcule la suma de todos los números pares en la lista."
   ]
  },
  {
   "cell_type": "code",
   "execution_count": 23,
   "metadata": {},
   "outputs": [
    {
     "name": "stdout",
     "output_type": "stream",
     "text": [
      "10\n"
     ]
    }
   ],
   "source": [
    "list_numeros = [2,3,5,7,8,9,3]\n",
    "\n",
    "def suma_pares(list_numeros) :\n",
    "    suma = 0\n",
    "    for nums in list_numeros:\n",
    "        if nums % 2 == 0 :\n",
    "            suma += nums \n",
    "\n",
    "    return suma\n",
    "suma_nums_pares =suma_pares(list_numeros)\n",
    "print(suma_nums_pares)\n",
    "   "
   ]
  },
  {
   "cell_type": "markdown",
   "metadata": {},
   "source": [
    "5. Escribe una función que tome una lista de números como entrada y calcule el promedio de esos números."
   ]
  },
  {
   "cell_type": "code",
   "execution_count": 35,
   "metadata": {},
   "outputs": [
    {
     "name": "stdout",
     "output_type": "stream",
     "text": [
      "3.0\n"
     ]
    }
   ],
   "source": [
    "lista_numeros2 = [1,2,3,4,5]\n",
    "\n",
    "def calculador_promedio(lista_numeros2) : \n",
    "    return sum(lista_numeros2) / len(lista_numeros2)\n",
    "\n",
    "promedio = calculador_promedio(lista_numeros2)\n",
    "print(promedio)"
   ]
  },
  {
   "cell_type": "markdown",
   "metadata": {},
   "source": [
    "6. Crea una función que determine el próximo año en el que las cifras del año de tu cumpleaños no se repitan. La función toma un año de tu cumpleaños como entrada y calcula el próximo año en el que las cifras no se repitan, es decir, todas las cifras en el año son diferentes entre sí."
   ]
  },
  {
   "cell_type": "code",
   "execution_count": 37,
   "metadata": {},
   "outputs": [
    {
     "data": {
      "text/plain": [
       "1985"
      ]
     },
     "execution_count": 37,
     "metadata": {},
     "output_type": "execute_result"
    }
   ],
   "source": [
    "mi_cumple = \"1985\"\n",
    "\n",
    "def calculador_año(mi_cumple) :\n",
    "    mi_cumple += 1 \n",
    "    while True: \n",
    "\n",
    "\n",
    "\n",
    "\n"
   ]
  },
  {
   "cell_type": "markdown",
   "metadata": {},
   "source": []
  },
  {
   "cell_type": "code",
   "execution_count": null,
   "metadata": {},
   "outputs": [],
   "source": []
  }
 ],
 "metadata": {
  "kernelspec": {
   "display_name": "base",
   "language": "python",
   "name": "python3"
  },
  "language_info": {
   "codemirror_mode": {
    "name": "ipython",
    "version": 3
   },
   "file_extension": ".py",
   "mimetype": "text/x-python",
   "name": "python",
   "nbconvert_exporter": "python",
   "pygments_lexer": "ipython3",
   "version": "3.11.8"
  }
 },
 "nbformat": 4,
 "nbformat_minor": 2
}
