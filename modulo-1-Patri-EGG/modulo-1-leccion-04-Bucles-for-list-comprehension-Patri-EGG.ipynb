{
 "cells": [
  {
   "cell_type": "markdown",
   "metadata": {},
   "source": [
    "1. Usando la siguiente lista:\n",
    "\n",
    "temperaturas = [2,45,67,23, 45,66,12,1,34,67,99,98,67,64, 44, 100]\n",
    "Crea tres listas nuevas, donde:\n",
    "\n",
    "En la primera tengamos temperaturas entre 0 - 10, llama a la nueva lista bajas_temp.\n",
    "\n",
    "En la segunda tengamos temperaturas entre 11- 20, llama a la nueva lista medias_temp.\n",
    "\n",
    "En la tercera tengamos temperaturas por encima de 20, llama a la nueva lista altas_temp"
   ]
  },
  {
   "cell_type": "code",
   "execution_count": null,
   "metadata": {},
   "outputs": [],
   "source": [
    "temperaturas = [2,45,67,23, 45,66,12,1,34,67,99,98,67,64, 44, 100]\n",
    "\n",
    "bajas_temps = [temps for temps in temperaturas if temps <= 10]\n",
    "medias_temps = [temps for temps in temperaturas if temps > 10  and temps <= 20]\n",
    "altas_temps = [temps for temps in temperaturas if temps > 20]"
   ]
  },
  {
   "cell_type": "markdown",
   "metadata": {},
   "source": [
    "2. Las temperaturas están grados centígrados. Para cada una de las listas creadas en el ejercicio anterior, convertid las temperaturas a grados fahrenheit\n",
    "\n",
    "    La relacion de grados celsius y fahrenheit es:\n",
    "    (0 °C × 9 / 5) + 32 = 32 °F"
   ]
  },
  {
   "cell_type": "code",
   "execution_count": 22,
   "metadata": {},
   "outputs": [
    {
     "name": "stdout",
     "output_type": "stream",
     "text": [
      "2 Celcius, con 35.6 grados Farenheit\n",
      "1 Celcius, con 33.8 grados Farenheit\n"
     ]
    }
   ],
   "source": [
    "for temps in bajas_temps :\n",
    "    temp_farenheit = (temps * 9 / 5) + 32\n",
    "    print(temps,\"Celcius, con\", temp_farenheit, \"grados Farenheit\")"
   ]
  },
  {
   "cell_type": "code",
   "execution_count": 23,
   "metadata": {},
   "outputs": [
    {
     "name": "stdout",
     "output_type": "stream",
     "text": [
      "12 Celcius, son  53.6 grados Farenheit\n"
     ]
    }
   ],
   "source": [
    "for temps in medias_temps :\n",
    "    temp_farenheit = (temps * 9 / 5) + 32\n",
    "    print(temps, \"Celcius, son \", temp_farenheit, \"grados Farenheit\")"
   ]
  },
  {
   "cell_type": "code",
   "execution_count": 24,
   "metadata": {},
   "outputs": [
    {
     "name": "stdout",
     "output_type": "stream",
     "text": [
      "45 Celcius, son  113.0 grados Farenheit\n",
      "67 Celcius, son  152.6 grados Farenheit\n",
      "23 Celcius, son  73.4 grados Farenheit\n",
      "45 Celcius, son  113.0 grados Farenheit\n",
      "66 Celcius, son  150.8 grados Farenheit\n",
      "34 Celcius, son  93.2 grados Farenheit\n",
      "67 Celcius, son  152.6 grados Farenheit\n",
      "99 Celcius, son  210.2 grados Farenheit\n",
      "98 Celcius, son  208.4 grados Farenheit\n",
      "67 Celcius, son  152.6 grados Farenheit\n",
      "64 Celcius, son  147.2 grados Farenheit\n",
      "44 Celcius, son  111.2 grados Farenheit\n",
      "100 Celcius, son  212.0 grados Farenheit\n"
     ]
    }
   ],
   "source": [
    "for temps in altas_temps :\n",
    "    temp_farenheit = (temps * 9 / 5) + 32\n",
    "    print(temps, \"Celcius, son \", temp_farenheit, \"grados Farenheit\")"
   ]
  },
  {
   "cell_type": "markdown",
   "metadata": {},
   "source": [
    "3. Define e imprime un rango de 0 a 6 (excluido)"
   ]
  },
  {
   "cell_type": "code",
   "execution_count": 30,
   "metadata": {},
   "outputs": [
    {
     "name": "stdout",
     "output_type": "stream",
     "text": [
      "[0, 1, 2, 3, 4, 5]\n"
     ]
    }
   ],
   "source": [
    "rango_1 = list(range(0, 6))\n",
    "print(rango_1)"
   ]
  },
  {
   "cell_type": "markdown",
   "metadata": {},
   "source": [
    "4. Define e imprime un rango de 3 a 6 ambos incluidos."
   ]
  },
  {
   "cell_type": "code",
   "execution_count": 32,
   "metadata": {},
   "outputs": [
    {
     "name": "stdout",
     "output_type": "stream",
     "text": [
      "[3, 4, 5, 6]\n"
     ]
    }
   ],
   "source": [
    "rango_2 = list(range(3, 7))\n",
    "print(rango_2)"
   ]
  },
  {
   "cell_type": "markdown",
   "metadata": {},
   "source": [
    "5. Define e imprime un rango de 5 a 9 ambos excluidos."
   ]
  },
  {
   "cell_type": "code",
   "execution_count": 34,
   "metadata": {},
   "outputs": [
    {
     "name": "stdout",
     "output_type": "stream",
     "text": [
      "[6, 7, 8]\n"
     ]
    }
   ],
   "source": [
    "rango_3 = list(range(6, 9))\n",
    "print(rango_3)"
   ]
  },
  {
   "cell_type": "markdown",
   "metadata": {},
   "source": [
    "6. Define e imprime un rango de 3 números que empiece en 2."
   ]
  },
  {
   "cell_type": "code",
   "execution_count": 35,
   "metadata": {},
   "outputs": [
    {
     "name": "stdout",
     "output_type": "stream",
     "text": [
      "[2, 3, 4]\n"
     ]
    }
   ],
   "source": [
    "rango_4 = list(range(2, 5))\n",
    "print(rango_4)"
   ]
  },
  {
   "cell_type": "markdown",
   "metadata": {},
   "source": [
    "7. Define e imprime un rango que empiece en 2, aumentando cada paso por 3, que pare antes de llegar al número 13."
   ]
  },
  {
   "cell_type": "code",
   "execution_count": 36,
   "metadata": {},
   "outputs": [
    {
     "name": "stdout",
     "output_type": "stream",
     "text": [
      "[2, 5, 8, 11]\n"
     ]
    }
   ],
   "source": [
    "rango_5 = list(range(2, 13, 3))\n",
    "print(rango_5)"
   ]
  },
  {
   "cell_type": "markdown",
   "metadata": {},
   "source": [
    "8. Define e imprime un rango con todos los valores impares que hay hasta 10."
   ]
  },
  {
   "cell_type": "code",
   "execution_count": 37,
   "metadata": {},
   "outputs": [
    {
     "name": "stdout",
     "output_type": "stream",
     "text": [
      "[1, 3, 5, 7, 9]\n"
     ]
    }
   ],
   "source": [
    "rango_5 = list(range(1, 11, 2))\n",
    "print(rango_5)"
   ]
  },
  {
   "cell_type": "markdown",
   "metadata": {},
   "source": [
    "9. Crea una lista nueva donde tengamos los números de la lista temperaturas elevados al cuadrado."
   ]
  },
  {
   "cell_type": "code",
   "execution_count": 39,
   "metadata": {},
   "outputs": [
    {
     "name": "stdout",
     "output_type": "stream",
     "text": [
      "[4, 2025, 4489, 529, 2025, 4356, 144, 1, 1156, 4489, 9801, 9604, 4489, 4096, 1936, 10000]\n"
     ]
    }
   ],
   "source": [
    "lista_cuadrada = [temps ** 2 for temps in temperaturas]\n",
    "print(lista_cuadrada)\n"
   ]
  },
  {
   "cell_type": "markdown",
   "metadata": {},
   "source": [
    "10. Crea una lista nueva donde tengamos el resto de la división de cada uno de los números entre 2."
   ]
  },
  {
   "cell_type": "code",
   "execution_count": 41,
   "metadata": {},
   "outputs": [
    {
     "name": "stdout",
     "output_type": "stream",
     "text": [
      "[0, 1, 1, 1, 1, 0, 0, 1, 0, 1, 1, 0, 1, 0, 0, 0]\n"
     ]
    }
   ],
   "source": [
    "lista_resto = [ temps % 2 for temps in temperaturas]\n",
    "print(lista_resto)"
   ]
  },
  {
   "cell_type": "markdown",
   "metadata": {},
   "source": [
    "11. Crea una lista nueva donde tengamos solo los elementos pares de la lista temperaturas"
   ]
  },
  {
   "cell_type": "code",
   "execution_count": 48,
   "metadata": {},
   "outputs": [
    {
     "name": "stdout",
     "output_type": "stream",
     "text": [
      "[2, 66, 12, 34, 98, 64, 44, 100]\n"
     ]
    }
   ],
   "source": [
    "lista_pares = [ temps for temps in temperaturas if temps % 2 == 0 ]\n",
    "print(lista_pares)"
   ]
  },
  {
   "cell_type": "markdown",
   "metadata": {},
   "source": [
    "12. Crea una lista nueva donde tengamos solo los elementos que sean menores que 50."
   ]
  },
  {
   "cell_type": "code",
   "execution_count": 49,
   "metadata": {},
   "outputs": [
    {
     "name": "stdout",
     "output_type": "stream",
     "text": [
      "[2, 45, 23, 45, 12, 1, 34, 44]\n"
     ]
    }
   ],
   "source": [
    "lista_menores = [temps for temps in temperaturas if temps < 50]\n",
    "print(lista_menores) "
   ]
  },
  {
   "cell_type": "markdown",
   "metadata": {},
   "source": [
    "13. Crea una lista donde tengamos los valores \"par\" e \"impar\" en función de los valores de la lista original. La lista resultante tiene que ser como la que indicamos a continuación:\n",
    "\n",
    "lista_strings = [\"par\",\"impar\",\"impar\",\"impar\", \"impar\",\"par\",\"par\",\"impar\",\"par\",\"impar\",\"impar\",\"par\",\"impar\",\"par\", \"par\", \"par\"]"
   ]
  },
  {
   "cell_type": "code",
   "execution_count": 56,
   "metadata": {},
   "outputs": [
    {
     "name": "stdout",
     "output_type": "stream",
     "text": [
      "['par', 'impar', 'impar', 'impar', 'impar', 'par', 'par', 'impar', 'par', 'impar', 'impar', 'par', 'impar', 'par', 'par', 'par']\n"
     ]
    }
   ],
   "source": [
    "\n",
    "lista_string = [\"par\" if temps % 2 == 0 else \"impar\" for temps in temperaturas]\n",
    "print(lista_string)"
   ]
  },
  {
   "cell_type": "markdown",
   "metadata": {},
   "source": [
    "14. Pide al usuario un número entero positivo y suma los números pares e impares por separado hasta ese número."
   ]
  },
  {
   "cell_type": "markdown",
   "metadata": {},
   "source": [
    "15. Pide al usuario ingresar una cadena y cuenta cuántas veces aparece cada vocal (a, e, i, o, u) en la cadena."
   ]
  },
  {
   "cell_type": "code",
   "execution_count": 61,
   "metadata": {},
   "outputs": [
    {
     "name": "stdout",
     "output_type": "stream",
     "text": [
      "La vocal 'a' aparece 0 veces.\n",
      "La vocal 'e' aparece 1 veces.\n",
      "La vocal 'i' aparece 0 veces.\n",
      "La vocal 'o' aparece 0 veces.\n",
      "La vocal 'u' aparece 0 veces.\n"
     ]
    }
   ],
   "source": [
    "cadena_usuario = input(\"Ingresa una cadena_usuario de texto: \").lower()\n",
    "\n",
    "contador_vocales = {\"a\": 0, \"e\": 0, \"i\": 0, \"o\": 0, \"u\": 0}\n",
    "\n",
    "# Esto cuenta  cuantas veces aparace cada vocal en la cadena_usuario\n",
    "for letras in cadena_usuario:\n",
    "    if letras in contador_vocales:\n",
    "        contador_vocales[letras] += 1\n",
    "\n",
    "\n",
    "for vocal, cuenta in contador_vocales.items():\n",
    "    print(f\"La vocal '{vocal}' aparece {cuenta} veces.\")\n",
    "\n"
   ]
  },
  {
   "cell_type": "code",
   "execution_count": null,
   "metadata": {},
   "outputs": [],
   "source": []
  }
 ],
 "metadata": {
  "kernelspec": {
   "display_name": "Python 3 (ipykernel)",
   "language": "python",
   "name": "python3"
  },
  "language_info": {
   "codemirror_mode": {
    "name": "ipython",
    "version": 3
   },
   "file_extension": ".py",
   "mimetype": "text/x-python",
   "name": "python",
   "nbconvert_exporter": "python",
   "pygments_lexer": "ipython3",
   "version": "3.11.8"
  }
 },
 "nbformat": 4,
 "nbformat_minor": 4
}
