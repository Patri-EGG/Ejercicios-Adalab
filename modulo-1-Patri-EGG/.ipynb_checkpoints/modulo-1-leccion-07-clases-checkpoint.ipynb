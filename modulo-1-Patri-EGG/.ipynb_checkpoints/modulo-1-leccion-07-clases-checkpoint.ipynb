{
 "cells": [
  {
   "cell_type": "markdown",
   "metadata": {},
   "source": [
    "Ejercicio Clases :\n",
    "\n",
    "Crea una clase llamada Vehiculo que representa un vehículo genérico. Esta clase tiene la capacidad de realizar acciones relacionadas con el vehículo, como encenderlo, apagarlo, acelerar, frenar y detenerlo gradualmente. Cada método en la clase tiene una descripción específica de su función. A continuación, se detallan los aspectos clave de esta clase:\n",
    "\n",
    "Atributos:\n",
    "\n",
    "marca: Una cadena que representa la marca del vehículo.\n",
    "\n",
    "modelo: Una cadena que representa el modelo del vehículo.\n",
    "\n",
    "año: Un número entero que representa el año de fabricación del vehículo.\n",
    "\n",
    "velocidad_actual: Un número entero que representa la velocidad actual del vehículo en km/h.\n",
    "\n",
    "encendido: Un valor booleano que indica si el vehículo está encendido (True) o apagado (False).\n",
    "\n",
    "Métodos:\n",
    "\n",
    "__init__(self, marca, modelo, año): El constructor de la clase que inicializa los atributos del vehículo, incluyendo la marca, el modelo, el año, la velocidad actual (inicialmente 0) y el estado del encendido (inicialmente apagado).\n",
    "\n",
    "informacion(self): Un método que devuelve una cadena de texto con la información básica del vehículo, incluyendo la marca, el modelo y el año.\n",
    "\n",
    "encender(self): Un método que enciende el vehículo si está apagado y devuelve un mensaje de confirmación. Si el vehículo ya está encendido, devuelve un mensaje indicando que ya está en funcionamiento.\n",
    "\n",
    "apagar(self): Un método que apaga el vehículo si está encendido, establece la velocidad actual en 0 y devuelve un mensaje de confirmación. Si el vehículo ya está apagado, devuelve un mensaje indicando que ya está apagado.\n",
    "\n",
    "acelerar(self, velocidad): Un método que aumenta la velocidad actual del vehículo según la cantidad de velocidad proporcionada como argumento. Si el vehículo está encendido, aumenta la velocidad y devuelve un mensaje con la nueva velocidad actual. Si el vehículo está apagado, devuelve un mensaje indicando que no se puede acelerar.\n",
    "\n",
    "frenar(self, velocidad): Un método que reduce la velocidad actual del vehículo según la cantidad de velocidad proporcionada como argumento. Si el vehículo está encendido, reduce la velocidad y devuelve un mensaje con la nueva velocidad actual. Si el vehículo está apagado, devuelve un mensaje indicando que no se puede frenar.\n",
    "\n",
    "detener(self): Un método que detiene gradualmente el vehículo reduciendo la velocidad en incrementos de 5 km/h hasta que alcance una velocidad de 0 km/h. Si el vehículo está encendido, detiene el vehículo y devuelve un mensaje de confirmación. Si el vehículo está apagado, devuelve un mensaje indicando que no se puede detener.\n",
    "\n",
    "Crea la subclase Coche que hereda de la clase base Vehiculo y representa un coche específico. Además de los atributos y métodos heredados, la clase Coche tiene un atributo adicional:\n",
    "\n",
    "Atributos:\n",
    "\n",
    "combustible: Una cadena que representa el tipo de combustible que utiliza el coche.\n",
    "Métodos:\n",
    "\n",
    "__init__(self, marca, modelo, año, combustible): Constructor que inicializa los atributos de la clase base y el atributo específico del coche.\n",
    "\n",
    "informacion(self): Devuelve una cadena con la información del coche, incluyendo la marca, el modelo, el año y el tipo de combustible."
   ]
  },
  {
   "cell_type": "code",
   "execution_count": 56,
   "metadata": {},
   "outputs": [],
   "source": [
    "class Vehiculo :\n",
    "    def __init__(self, marca, modelo, año):\n",
    "        self.marca = marca \n",
    "        self.modelo = modelo\n",
    "        self.año = año\n",
    "        self.velocidad_actual = 0\n",
    "        self.encendido = False\n",
    "        \n",
    "    def informacion(self):\n",
    "        return f\"Vehículo {self.marca} {self.modelo} del año {self.año}\"\n",
    "    \n",
    "    def encender(self):\n",
    "        if  self.encendido == False:\n",
    "            return f\"Has encendido el coche\" \n",
    "        else: \n",
    "            return f\"El coche ya estaba encendido\"\n",
    "        \n",
    "    def apagar(self):\n",
    "        if self.encendido == \"Encendido\":\n",
    "            self.velocidad_actual = 0\n",
    "            return f\"Has apagado el coche\"\n",
    "        else: \n",
    "            return f\"El coche ya estaba apagado\"\n",
    "        \n",
    "    def acelerar(self, velocidad):\n",
    "        if self.encendido == \"Encendido\":\n",
    "            self.velocidad_actual += velocidad\n",
    "            return f\" velocidad actual: {self.velocidad_actual}\"\n",
    "        else: \n",
    "            return f\"El coche está apagado. No puedes acelerar\"\n",
    "        \n",
    "    def frenar(self, velocidad):\n",
    "        if self.encendido == \"Encendido\" : \n",
    "            nueva_velocidad = self.velocidad_actual - velocidad\n",
    "            self.velocidad_actual = max(0, nueva_velocidad)\n",
    "            return f\"Velocidad actual: {self.velocidad_actual}\"\n",
    "        else: self.encendido == False \n",
    "        return f\"El coche está apagado. No puedes frenar\"\n",
    "        \n",
    "    def detener(self):\n",
    "        if self.velocidad_actual == \"Encendido\":\n",
    "            while self.velocidad_actual > 0:\n",
    "                self.velocidad_actual = max(0,self.velocidad_actual-5) \n",
    "            return f\"Has detenido el coche\"\n",
    "        else : \n",
    "            return f\"El coche está apagado.\"\n",
    "    \n",
    "\n",
    "\n"
   ]
  },
  {
   "cell_type": "code",
   "execution_count": 79,
   "metadata": {},
   "outputs": [],
   "source": [
    "class Coche(Vehiculo):\n",
    "    def __init__(self, marca, modelo, año, combustible) :\n",
    "        super().__init__(marca, modelo, año)\n",
    "        self.combustible = combustible\n",
    "    \n",
    "    def informacion(self) :\n",
    "     return f\"el coche es de marca {self.marca}, modelo, {self.modelo} del año {self.año} y consume {self.combustible}.\"\n",
    "    \n"
   ]
  },
  {
   "cell_type": "code",
   "execution_count": 85,
   "metadata": {},
   "outputs": [
    {
     "name": "stdout",
     "output_type": "stream",
     "text": [
      "Gasolina\n",
      "el coche es de marca Ford, modelo, Explorer del año 2018 y consume Gasolina.\n",
      "Gasolina\n",
      "Ford\n",
      "2018\n"
     ]
    }
   ],
   "source": [
    "\n",
    "# miCoche = Vehiculo(\"Ford\", \"Explorer\", 2018, )\n",
    "# miCoche.marca\n",
    "# miCoche.año\n",
    "# miCoche.informacion()\n",
    "\n",
    "miCoche = Coche(\"Ford\", \"Explorer\", 2018, \"Gasolina\")\n",
    "tipo_de_combustible = miCoche.combustible\n",
    "print(miCoche.combustible)\n",
    "print(miCoche.informacion())\n",
    "print(miCoche.combustible)\n",
    "print(miCoche.marca)\n",
    "print(miCoche.año)\n"
   ]
  },
  {
   "cell_type": "code",
   "execution_count": null,
   "metadata": {},
   "outputs": [],
   "source": []
  }
 ],
 "metadata": {
  "kernelspec": {
   "display_name": "base",
   "language": "python",
   "name": "python3"
  },
  "language_info": {
   "codemirror_mode": {
    "name": "ipython",
    "version": 3
   },
   "file_extension": ".py",
   "mimetype": "text/x-python",
   "name": "python",
   "nbconvert_exporter": "python",
   "pygments_lexer": "ipython3",
   "version": "3.11.8"
  }
 },
 "nbformat": 4,
 "nbformat_minor": 2
}
