{
 "cells": [
  {
   "cell_type": "code",
   "execution_count": 1,
   "metadata": {},
   "outputs": [],
   "source": [
    "import numpy as np"
   ]
  },
  {
   "cell_type": "markdown",
   "metadata": {},
   "source": [
    "# Ejercicios\n",
    "\n",
    "1.  Genera un *array* bidimensional de 4 x 3 con valores aleatorios enteros entre el 34 y el 98. Una vez creado cada array comprueba las dimensiones y los tipos de datos que tenemos en el array. \n",
    "\n",
    "2. Crea dos *arrays* (unidimensional, bidimensional) usando el método `np.array()`. \n",
    "\n",
    "    Las listas para crear los *arrays* son las siguientes\n",
    "\n",
    "    ```python\n",
    "    lista1 = [34,56,71,98, 10]\n",
    "    lista2 = [[23,45,89, 56], [12,43,82,44]]\n",
    "    ```\n",
    "\n",
    "    **Bonus** Haz una pequeña descripción de cada *array* usando los métodos de exploración de *arrays* que hemos aprendido.\n"
   ]
  },
  {
   "cell_type": "code",
   "execution_count": 14,
   "metadata": {},
   "outputs": [
    {
     "name": "stdout",
     "output_type": "stream",
     "text": [
      "Array bidimensional de 4x3:\n",
      "[[68 44 81]\n",
      " [93 94 70]\n",
      " [40 69 69]\n",
      " [72 42 75]]\n",
      "\n",
      "Dimensiones del array: (4, 3)\n",
      "Tipo de datos del array: int64\n"
     ]
    }
   ],
   "source": [
    "# Generar el array bidimensional de 4 x 3 con valores aleatorios enteros entre 34 y 98\n",
    "array_4x3 = np.random.randint(34, 99, size=(4, 3))\n",
    "\n",
    "# Comprobar las dimensiones del array\n",
    "dimensiones = array_4x3.shape\n",
    "\n",
    "# Comprobar el tipo de datos del array\n",
    "tipo_datos = array_4x3.dtype\n",
    "\n",
    "print(\"Array bidimensional de 4x3:\")\n",
    "print(array_4x3)\n",
    "print(\"\\nDimensiones del array:\", dimensiones)\n",
    "print(\"Tipo de datos del array:\", tipo_datos)\n"
   ]
  },
  {
   "cell_type": "code",
   "execution_count": 15,
   "metadata": {},
   "outputs": [
    {
     "name": "stdout",
     "output_type": "stream",
     "text": [
      "Array unidimensional:\n",
      "[34 56 71 98 10]\n",
      "Dimensiones: (5,)\n",
      "Tipo de datos: int64\n",
      "Número de elementos: 5\n",
      "\n",
      "Array bidimensional:\n",
      "[[23 45 89 56]\n",
      " [12 43 82 44]]\n",
      "Dimensiones: (2, 4)\n",
      "Tipo de datos: int64\n",
      "Número de elementos: 8\n"
     ]
    }
   ],
   "source": [
    "lista1 = [34, 56, 71, 98, 10]\n",
    "lista2 = [[23, 45, 89, 56], [12, 43, 82, 44]]\n",
    "\n",
    "# Crear los arrays\n",
    "array_unidimensional = np.array(lista1)\n",
    "array_bidimensional = np.array(lista2)\n",
    "\n",
    "# Descripción de los arrays\n",
    "print(\"Array unidimensional:\")\n",
    "print(array_unidimensional)\n",
    "print(\"Dimensiones:\", array_unidimensional.shape)\n",
    "print(\"Tipo de datos:\", array_unidimensional.dtype)\n",
    "print(\"Número de elementos:\", array_unidimensional.size)\n",
    "\n",
    "print(\"\\nArray bidimensional:\")\n",
    "print(array_bidimensional)\n",
    "print(\"Dimensiones:\", array_bidimensional.shape)\n",
    "print(\"Tipo de datos:\", array_bidimensional.dtype)\n",
    "print(\"Número de elementos:\", array_bidimensional.size)"
   ]
  },
  {
   "cell_type": "markdown",
   "metadata": {},
   "source": [
    "# Ejercicios\n",
    "\n",
    "\n",
    "1. Crea un *array* unidimensional con 50 elementos con el método que prefieras y extrae: \n",
    "\n",
    "    - El primer elemento.\n",
    "\n",
    "\n",
    "    - Lo elementos que están en posición impar.\n",
    "\n",
    "\n",
    "    - Los cuatro primeros elementos.\n",
    "\n",
    "\n",
    "    - Los últimos tres elementos.\n",
    "\n",
    "\n",
    "    - Los elementos entre el 4 y el 8 (incluido). \n",
    "\n",
    "2. Crea un *array* de dos dimensiones de 4 x 5 con el método que prefieras y extrae:\n",
    "\n",
    "    - La primera fila y todas las columnas.\n",
    "\n",
    "\n",
    "    - Todas las filas pares.\n",
    "\n",
    "\n",
    "    - La primera columna y todas las filas.\n"
   ]
  },
  {
   "cell_type": "code",
   "execution_count": 17,
   "metadata": {},
   "outputs": [
    {
     "name": "stdout",
     "output_type": "stream",
     "text": [
      "Array unidimensional con 50 elementos:\n",
      "[ 76  34  52  45  22  68  54  20  59  60  76  83  45  35  63  55  86  91\n",
      "   2  59  26  11  38  88  37  81  68  37  15  92  13  75  73   9  51  38\n",
      "  22   6  37  24  36  26  14  14  94  19  71 100   1  69]\n",
      "\n",
      "Primer elemento: 76\n",
      "Elementos en posición impar: [ 34  45  68  20  60  83  35  55  91  59  11  88  81  37  92  75   9  38\n",
      "   6  24  26  14  19 100  69]\n",
      "Cuatro primeros elementos: [76 34 52 45]\n",
      "Últimos tres elementos: [100   1  69]\n",
      "Elementos entre el 4 y el 8 (incluido): [22 68 54 20 59]\n"
     ]
    }
   ],
   "source": [
    "# Crear un array unidimensional con 50 elementos (valores aleatorios entre 0 y 100)\n",
    "array_1d = np.random.randint(0, 101, size=50)\n",
    "\n",
    "# Extraer el primer elemento\n",
    "primer_elemento = array_1d[0]\n",
    "\n",
    "# Extraer los elementos en posición impar\n",
    "elementos_posicion_impar = array_1d[1::2]\n",
    "\n",
    "# Extraer los cuatro primeros elementos\n",
    "cuatro_primeros_elementos = array_1d[:4]\n",
    "\n",
    "# Extraer los últimos tres elementos\n",
    "ultimos_tres_elementos = array_1d[-3:]\n",
    "\n",
    "# Extraer los elementos entre el 4 y el 8 (incluido)\n",
    "elementos_4_al_8 = array_1d[4:9]\n",
    "\n",
    "print(\"Array unidimensional con 50 elementos:\")\n",
    "print(array_1d)\n",
    "print(\"\\nPrimer elemento:\", primer_elemento)\n",
    "print(\"Elementos en posición impar:\", elementos_posicion_impar)\n",
    "print(\"Cuatro primeros elementos:\", cuatro_primeros_elementos)\n",
    "print(\"Últimos tres elementos:\", ultimos_tres_elementos)\n",
    "print(\"Elementos entre el 4 y el 8 (incluido):\", elementos_4_al_8)\n"
   ]
  },
  {
   "cell_type": "code",
   "execution_count": 16,
   "metadata": {},
   "outputs": [
    {
     "name": "stdout",
     "output_type": "stream",
     "text": [
      "Array bidimensional de 4x5:\n",
      "[[38 58  4 87 80]\n",
      " [91 20 89 72 85]\n",
      " [29 50 33 74 88]\n",
      " [91 78 79 21 42]]\n",
      "\n",
      "Primera fila y todas las columnas: [38 58  4 87 80]\n",
      "Todas las filas pares:\n",
      " [[38 58  4 87 80]\n",
      " [29 50 33 74 88]]\n",
      "Primera columna y todas las filas: [38 91 29 91]\n"
     ]
    }
   ],
   "source": [
    "# Crear un array bidimensional de 4 x 5 (valores aleatorios entre 0 y 100)\n",
    "array_2d = np.random.randint(0, 101, size=(4, 5))\n",
    "\n",
    "# Extraer la primera fila y todas las columnas\n",
    "primera_fila = array_2d[0, :]\n",
    "\n",
    "# Extraer todas las filas pares\n",
    "filas_pares = array_2d[::2, :]\n",
    "\n",
    "# Extraer la primera columna y todas las filas\n",
    "primera_columna = array_2d[:, 0]\n",
    "\n",
    "print(\"Array bidimensional de 4x5:\")\n",
    "print(array_2d)\n",
    "print(\"\\nPrimera fila y todas las columnas:\", primera_fila)\n",
    "print(\"Todas las filas pares:\\n\", filas_pares)\n",
    "print(\"Primera columna y todas las filas:\", primera_columna)\n"
   ]
  },
  {
   "cell_type": "markdown",
   "metadata": {},
   "source": [
    "# Ejercicios\n",
    "\n",
    "\n",
    "1. Crea un *array* bidimensional con 20 elementos aleatrorios entre 0 y 50 con el método que prefieras y: \n",
    "\n",
    "    - Crea una mascara o filtro donde los valores mayores a 30 y menores a 10 se reemplace por \"objetivo\" y el resto por \"no es mi objetivo\".\n",
    "\n",
    "\n",
    "    - Los valores de mi array bidimensional multiplicalos por el escalar 10.\n",
    "\n",
    "\n",
    "2. Crea un nuevo *array* de dos dimensiones con la misma forma que el anterior y con el método que prefieras y realiz lo siguiente:\n",
    "\n",
    "    - Suma el primer array con el segundo.\n",
    "\n",
    "\n",
    "    - Aplicar la potencia para el primer array elevado al segundo.\n"
   ]
  },
  {
   "cell_type": "code",
   "execution_count": 18,
   "metadata": {},
   "outputs": [
    {
     "name": "stdout",
     "output_type": "stream",
     "text": [
      "Array bidimensional original de 4x5:\n",
      "[[15 25 43 20 48]\n",
      " [27 27 35 26 28]\n",
      " [15  1 34 40 19]\n",
      " [45 30 20 42 50]]\n",
      "\n",
      "Máscara o filtro:\n",
      "[['no es mi objetivo' 'no es mi objetivo' 'objetivo' 'no es mi objetivo'\n",
      "  'objetivo']\n",
      " ['no es mi objetivo' 'no es mi objetivo' 'objetivo' 'no es mi objetivo'\n",
      "  'no es mi objetivo']\n",
      " ['no es mi objetivo' 'objetivo' 'objetivo' 'objetivo'\n",
      "  'no es mi objetivo']\n",
      " ['objetivo' 'no es mi objetivo' 'no es mi objetivo' 'objetivo'\n",
      "  'objetivo']]\n",
      "\n",
      "Array multiplicado por 10:\n",
      "[[150 250 430 200 480]\n",
      " [270 270 350 260 280]\n",
      " [150  10 340 400 190]\n",
      " [450 300 200 420 500]]\n"
     ]
    }
   ],
   "source": [
    "# Crear un array bidimensional de 4 x 5 con valores aleatorios entre 0 y 50\n",
    "array_2d = np.random.randint(0, 51, size=(4, 5))\n",
    "\n",
    "# Crear una máscara o filtro\n",
    "mascara = np.where((array_2d > 30) | (array_2d < 10), \"objetivo\", \"no es mi objetivo\")\n",
    "\n",
    "# Multiplicar los valores del array bidimensional por el escalar 10\n",
    "array_multiplicado = array_2d * 10\n",
    "\n",
    "print(\"Array bidimensional original de 4x5:\")\n",
    "print(array_2d)\n",
    "print(\"\\nMáscara o filtro:\")\n",
    "print(mascara)\n",
    "print(\"\\nArray multiplicado por 10:\")\n",
    "print(array_multiplicado)"
   ]
  },
  {
   "cell_type": "code",
   "execution_count": 19,
   "metadata": {},
   "outputs": [
    {
     "name": "stdout",
     "output_type": "stream",
     "text": [
      "\n",
      "Nuevo array bidimensional de 4x5:\n",
      "[[50 16 15 35 28]\n",
      " [10 27 42 14  9]\n",
      " [ 7 24 17 36 42]\n",
      " [25 11 44 37  2]]\n",
      "\n",
      "Suma del primer array con el segundo:\n",
      "[[65 41 58 55 76]\n",
      " [37 54 77 40 37]\n",
      " [22 25 51 76 61]\n",
      " [70 41 64 79 52]]\n",
      "\n",
      "Primer array elevado al segundo:\n",
      "[[-8195635865568426527  3273344365508751233  6080727033296642243\n",
      "                     0                    0]\n",
      " [     205891132094649 -5278486589563110205 -7103562900152310551\n",
      "   9169742482168496128       10578455953408]\n",
      " [           170859375                    1 -7597915146251272192\n",
      "                     0 -7921048178808804855]\n",
      " [-8319904882144399347    17714700000000000                    0\n",
      "   8353650230385704960                 2500]]\n"
     ]
    }
   ],
   "source": [
    "# Crear un nuevo array bidimensional de 4 x 5 con valores aleatorios entre 0 y 50\n",
    "nuevo_array_2d = np.random.randint(0, 51, size=(4, 5))\n",
    "\n",
    "# Sumar el primer array con el segundo\n",
    "array_suma = array_2d + nuevo_array_2d\n",
    "\n",
    "# Aplicar la potencia para el primer array elevado al segundo\n",
    "array_potencia = np.power(array_2d, nuevo_array_2d)\n",
    "\n",
    "print(\"\\nNuevo array bidimensional de 4x5:\")\n",
    "print(nuevo_array_2d)\n",
    "print(\"\\nSuma del primer array con el segundo:\")\n",
    "print(array_suma)\n",
    "print(\"\\nPrimer array elevado al segundo:\")\n",
    "print(array_potencia)\n"
   ]
  },
  {
   "cell_type": "markdown",
   "metadata": {},
   "source": [
    "# Ejercicios\n",
    "\n",
    "\n",
    "1. En este ejercicio vamos a tratar de usar algunos de los métodos aprendidos. \n",
    "\n",
    "    - Crea un *array*, puede ser bidimensional! Eso si, los valores tienen que estar entre 0-100\n",
    "\n",
    "    - Calcula: \n",
    "\n",
    "        - La media de los elementos\n",
    "        - La media de las columnas y redondéalo a dos decimales\n",
    "        - El valor máximo de cada fila\n",
    "        - El valor mínimo de cada fila\n",
    "        - Hay algun valor que sea mayor que 90 en tu *array* \n",
    "        - Donde los podemos encontrar, cuáles son sus índices\n",
    "        - Ordena el *array* de mayor a menor\n",
    "\n",
    "    📝 **NOTA** En este ejercicio os hemos pedido algunos de los métodos, pero sentiros libres de practicar otros para ir asentando los conocimientos. "
   ]
  },
  {
   "cell_type": "code",
   "execution_count": 20,
   "metadata": {},
   "outputs": [
    {
     "name": "stdout",
     "output_type": "stream",
     "text": [
      "Array bidimensional:\n",
      "[[46 27 20 33  2]\n",
      " [22 21 16 74 68]\n",
      " [32 27 55 91 98]\n",
      " [19 66 80 79 62]\n",
      " [80 87 92 43 95]]\n"
     ]
    }
   ],
   "source": [
    "array = np.random.randint(0, 101, size=(5, 5))\n",
    "print(\"Array bidimensional:\")\n",
    "print(array)"
   ]
  },
  {
   "cell_type": "markdown",
   "metadata": {},
   "source": [
    "1. Media de los Elementos"
   ]
  },
  {
   "cell_type": "code",
   "execution_count": 21,
   "metadata": {},
   "outputs": [
    {
     "name": "stdout",
     "output_type": "stream",
     "text": [
      "Array bidimensional:\n",
      "[[  3  92  49  52  24]\n",
      " [  4  81  76  29  71]\n",
      " [ 17  84  75  75  10]\n",
      " [ 41  52  25   4  38]\n",
      " [ 12  75 100  71  91]]\n"
     ]
    }
   ],
   "source": [
    "array = np.random.randint(0, 101, size=(5, 5))\n",
    "print(\"Array bidimensional:\")\n",
    "print(array)"
   ]
  },
  {
   "cell_type": "markdown",
   "metadata": {},
   "source": [
    "2. Media de las Columnas (Redondeada a dos Decimales)\n",
    "Calculamos la media de cada columna y redondeamos a dos decimales."
   ]
  },
  {
   "cell_type": "code",
   "execution_count": 22,
   "metadata": {},
   "outputs": [
    {
     "name": "stdout",
     "output_type": "stream",
     "text": [
      "\n",
      "Media de las columnas (redondeada a dos decimales): [15.4 76.8 65.  46.2 46.8]\n"
     ]
    }
   ],
   "source": [
    "media_columnas = np.mean(array, axis=0).round(2)\n",
    "print(\"\\nMedia de las columnas (redondeada a dos decimales):\", media_columnas)"
   ]
  },
  {
   "cell_type": "markdown",
   "metadata": {},
   "source": [
    "3. Valor Máximo de Cada Fila"
   ]
  },
  {
   "cell_type": "code",
   "execution_count": 23,
   "metadata": {},
   "outputs": [
    {
     "name": "stdout",
     "output_type": "stream",
     "text": [
      "\n",
      "Valor máximo de cada fila: [ 92  81  84  52 100]\n"
     ]
    }
   ],
   "source": [
    "max_filas = np.max(array, axis=1)\n",
    "print(\"\\nValor máximo de cada fila:\", max_filas)"
   ]
  },
  {
   "cell_type": "markdown",
   "metadata": {},
   "source": [
    "4. Valor Mínimo de Cada Fila"
   ]
  },
  {
   "cell_type": "code",
   "execution_count": 24,
   "metadata": {},
   "outputs": [
    {
     "name": "stdout",
     "output_type": "stream",
     "text": [
      "\n",
      "Valor mínimo de cada fila: [ 3  4 10  4 12]\n"
     ]
    }
   ],
   "source": [
    "min_filas = np.min(array, axis=1)\n",
    "print(\"\\nValor mínimo de cada fila:\", min_filas)"
   ]
  },
  {
   "cell_type": "markdown",
   "metadata": {},
   "source": [
    "5. Valores Mayores que 90"
   ]
  },
  {
   "cell_type": "code",
   "execution_count": 25,
   "metadata": {},
   "outputs": [
    {
     "name": "stdout",
     "output_type": "stream",
     "text": [
      "\n",
      "¿Hay algún valor mayor que 90 en el array? True\n"
     ]
    }
   ],
   "source": [
    "valores_mayores_90 = array > 90\n",
    "hay_valores_mayores_90 = np.any(valores_mayores_90)\n",
    "print(\"\\n¿Hay algún valor mayor que 90 en el array?\", hay_valores_mayores_90)"
   ]
  },
  {
   "cell_type": "markdown",
   "metadata": {},
   "source": [
    "6. Índices de Valores Mayores que 90\n",
    "Obtenemos los índices de los valores mayores que 90."
   ]
  },
  {
   "cell_type": "code",
   "execution_count": 26,
   "metadata": {},
   "outputs": [
    {
     "name": "stdout",
     "output_type": "stream",
     "text": [
      "\n",
      "Índices de valores mayores que 90:\n",
      "[[0 1]\n",
      " [4 2]\n",
      " [4 4]]\n"
     ]
    }
   ],
   "source": [
    "indices_mayores_90 = np.argwhere(valores_mayores_90)\n",
    "print(\"\\nÍndices de valores mayores que 90:\")\n",
    "print(indices_mayores_90)\n"
   ]
  },
  {
   "cell_type": "markdown",
   "metadata": {},
   "source": []
  },
  {
   "cell_type": "markdown",
   "metadata": {},
   "source": [
    "7. Ordenar el Array de Mayor a Menor\n",
    "Ordenamos el array de mayor a menor. Dado que el array es bidimensional, primero lo aplanamos, ordenamos y luego lo volvemos a dar forma."
   ]
  },
  {
   "cell_type": "code",
   "execution_count": 27,
   "metadata": {},
   "outputs": [
    {
     "name": "stdout",
     "output_type": "stream",
     "text": [
      "\n",
      "Array ordenado de mayor a menor:\n",
      "[[100  92  91  84  81]\n",
      " [ 76  75  75  75  71]\n",
      " [ 71  52  52  49  41]\n",
      " [ 38  29  25  24  17]\n",
      " [ 12  10   4   4   3]]\n"
     ]
    }
   ],
   "source": [
    "array_ordenado = np.sort(array, axis=None)[::-1].reshape(array.shape)\n",
    "print(\"\\nArray ordenado de mayor a menor:\")\n",
    "print(array_ordenado)"
   ]
  },
  {
   "cell_type": "markdown",
   "metadata": {},
   "source": [
    "Código Completo"
   ]
  },
  {
   "cell_type": "code",
   "execution_count": 28,
   "metadata": {},
   "outputs": [
    {
     "name": "stdout",
     "output_type": "stream",
     "text": [
      "Array bidimensional:\n",
      "[[65 57  5 33 60]\n",
      " [32 71 40 13 95]\n",
      " [14 82 76 55 99]\n",
      " [16 80 40 53 30]\n",
      " [40 42 72 11 59]]\n",
      "\n",
      "Media de todos los elementos: 49.6\n",
      "\n",
      "Media de las columnas (redondeada a dos decimales): [33.4 66.4 46.6 33.  68.6]\n",
      "\n",
      "Valor máximo de cada fila: [65 95 99 80 72]\n",
      "\n",
      "Valor mínimo de cada fila: [ 5 13 14 16 11]\n",
      "\n",
      "¿Hay algún valor mayor que 90 en el array? True\n",
      "\n",
      "Índices de valores mayores que 90:\n",
      "[[1 4]\n",
      " [2 4]]\n",
      "\n",
      "Array ordenado de mayor a menor:\n",
      "[[99 95 82 80 76]\n",
      " [72 71 65 60 59]\n",
      " [57 55 53 42 40]\n",
      " [40 40 33 32 30]\n",
      " [16 14 13 11  5]]\n"
     ]
    }
   ],
   "source": [
    "# Crear un array bidimensional de 5 x 5 con valores aleatorios entre 0 y 100\n",
    "array = np.random.randint(0, 101, size=(5, 5))\n",
    "print(\"Array bidimensional:\")\n",
    "print(array)\n",
    "\n",
    "# Calcular la media de todos los elementos\n",
    "media_total = np.mean(array)\n",
    "print(\"\\nMedia de todos los elementos:\", media_total)\n",
    "\n",
    "# Calcular la media de las columnas y redondear a dos decimales\n",
    "media_columnas = np.mean(array, axis=0).round(2)\n",
    "print(\"\\nMedia de las columnas (redondeada a dos decimales):\", media_columnas)\n",
    "\n",
    "# Obtener el valor máximo de cada fila\n",
    "max_filas = np.max(array, axis=1)\n",
    "print(\"\\nValor máximo de cada fila:\", max_filas)\n",
    "\n",
    "# Obtener el valor mínimo de cada fila\n",
    "min_filas = np.min(array, axis=1)\n",
    "print(\"\\nValor mínimo de cada fila:\", min_filas)\n",
    "\n",
    "# Verificar si hay algún valor mayor que 90 en el array\n",
    "valores_mayores_90 = array > 90\n",
    "hay_valores_mayores_90 = np.any(valores_mayores_90)\n",
    "print(\"\\n¿Hay algún valor mayor que 90 en el array?\", hay_valores_mayores_90)\n",
    "\n",
    "# Obtener los índices de los valores mayores que 90\n",
    "indices_mayores_90 = np.argwhere(valores_mayores_90)\n",
    "print(\"\\nÍndices de valores mayores que 90:\")\n",
    "print(indices_mayores_90)\n",
    "\n",
    "# Ordenar el array de mayor a menor\n",
    "array_ordenado = np.sort(array, axis=None)[::-1].reshape(array.shape)\n",
    "print(\"\\nArray ordenado de mayor a menor:\")\n",
    "print(array_ordenado)"
   ]
  },
  {
   "cell_type": "code",
   "execution_count": 132,
   "metadata": {},
   "outputs": [
    {
     "data": {
      "text/plain": [
       "'n'"
      ]
     },
     "execution_count": 132,
     "metadata": {},
     "output_type": "execute_result"
    }
   ],
   "source": [
    "chicas  = 'p','f','n'\n",
    "\n",
    "np.random.choice(chicas)"
   ]
  }
 ],
 "metadata": {
  "kernelspec": {
   "display_name": "base",
   "language": "python",
   "name": "python3"
  },
  "language_info": {
   "codemirror_mode": {
    "name": "ipython",
    "version": 3
   },
   "file_extension": ".py",
   "mimetype": "text/x-python",
   "name": "python",
   "nbconvert_exporter": "python",
   "pygments_lexer": "ipython3",
   "version": "3.11.8"
  }
 },
 "nbformat": 4,
 "nbformat_minor": 2
}
