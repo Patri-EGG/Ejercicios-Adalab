{
 "cells": [
  {
   "cell_type": "markdown",
   "metadata": {},
   "source": [
    "# Ejercicios\n",
    "\n",
    "Utilizando el DataFrame que usamos para los ejercicios de la clase invertida de ayer, contestad a las siguientes preguntas: \n",
    "\n",
    "\n",
    "\n",
    "1. La variable `price` representa el precio de los productos. Calcula tanto la media como la mediana de los precios y explica la diferencia entre ambas medidas. Proporciona ejemplos de situaciones en las que la mediana podría ser preferible sobre la media.\n",
    "\n",
    "2. Crea una tabla de correlación que muestre cómo se relacionan las variables `price`, `retail_price`, `units_sold`, `rating_sold`, y `rating_count`. Interpreta los resultados y discute si hay alguna correlación significativa entre estas variables.\n",
    "\n",
    "3. Utiliza una tabla de contingencia para analizar la relación entre las variables categóricas `uses_ad_boosts` y `badge_product_quality`. ¿Cómo afecta la calidad del producto al uso de anuncios promocionales? Proporciona interpretaciones basadas en la tabla de contingencia.\n",
    "\n",
    "4. Crea una tabla de contingencia que examine la relación entre las variables categóricas `badge_local_product` y `badge_fast_shipping`. ¿Hay alguna tendencia en la que los productos locales estén más asociados con envíos rápidos? Explícalo.\n",
    "\n",
    "5. Calcula la media y la mediana de la variable `mean_product_prices`. ¿Cómo se comparan estas medidas? ¿Qué puedes inferir sobre la distribución de los precios promedio de los productos?\n",
    "\n",
    "6. Realiza un análisis de correlación entre `total_units_sold` y `mean_product_ratings_count`. ¿Existe una relación entre la cantidad total de unidades vendidas y la calificación promedio de los productos? Explica los resultados.\n",
    "\n",
    "7. Crea una tabla de contingencia que examine la relación entre las variables categóricas `badge_local_product` y `seller_reputation`. ¿Cómo se relacionan las calificaciones de los empleados con la reputación del vendedor? Proporciona interpretaciones basadas en la tabla de contingencia.\n",
    "\n",
    "8. Calcula la media y la mediana de la variable `discount_percentage`. ¿Qué puedes decir sobre los descuentos promedio en los productos? ¿Hay valores atípicos en esta variable?\n",
    "\n",
    "9. Utiliza una tabla de contingencia para analizar cómo se relacionan las variables categóricas `badge_fast_shipping` y `seller_reputation`. ¿Qué puedes concluir sobre la distribución de las calificaciones altas? "
   ]
  },
  {
   "cell_type": "code",
   "execution_count": 2,
   "metadata": {},
   "outputs": [],
   "source": [
    "import pandas as pd\n",
    "import numpy as np\n",
    "import matplotlib.pyplot as plt\n",
    "import seaborn as sns\n",
    "from scipy.stats import shapiro, kstest\n",
    "import warnings\n",
    "warnings.filterwarnings(\"ignore\")\n",
    "from itertools import combinations\n",
    "pd.set_option('display.max_columns', None) "
   ]
  },
  {
   "cell_type": "markdown",
   "metadata": {},
   "source": [
    "1. La variable `price` representa el precio de los productos. Calcula tanto la media como la mediana de los precios y explica la diferencia entre ambas medidas. Proporciona ejemplos de situaciones en las que la mediana podría ser preferible sobre la media."
   ]
  },
  {
   "cell_type": "code",
   "execution_count": 17,
   "metadata": {},
   "outputs": [
    {
     "data": {
      "text/html": [
       "<div>\n",
       "<style scoped>\n",
       "    .dataframe tbody tr th:only-of-type {\n",
       "        vertical-align: middle;\n",
       "    }\n",
       "\n",
       "    .dataframe tbody tr th {\n",
       "        vertical-align: top;\n",
       "    }\n",
       "\n",
       "    .dataframe thead th {\n",
       "        text-align: right;\n",
       "    }\n",
       "</style>\n",
       "<table border=\"1\" class=\"dataframe\">\n",
       "  <thead>\n",
       "    <tr style=\"text-align: right;\">\n",
       "      <th></th>\n",
       "      <th>merchant_id</th>\n",
       "      <th>listed_products</th>\n",
       "      <th>total_units_sold</th>\n",
       "      <th>mean_units_sold_per_product</th>\n",
       "      <th>rating</th>\n",
       "      <th>merchant_ratings_count</th>\n",
       "      <th>mean_product_prices</th>\n",
       "      <th>mean_retail_prices</th>\n",
       "      <th>mean_product_ratings_count</th>\n",
       "      <th>index_r</th>\n",
       "      <th>title</th>\n",
       "      <th>title_orig</th>\n",
       "      <th>price</th>\n",
       "      <th>retail_price</th>\n",
       "      <th>units_sold</th>\n",
       "      <th>uses_ad_boosts</th>\n",
       "      <th>rating_r</th>\n",
       "      <th>rating_count</th>\n",
       "      <th>rating_five_count</th>\n",
       "      <th>rating_four_count</th>\n",
       "      <th>rating_three_count</th>\n",
       "      <th>rating_two_count</th>\n",
       "      <th>rating_one_count</th>\n",
       "      <th>badge_local_product</th>\n",
       "      <th>badge_product_quality</th>\n",
       "      <th>badge_fast_shipping</th>\n",
       "      <th>tags</th>\n",
       "      <th>product_color</th>\n",
       "      <th>product_variation_size_id</th>\n",
       "      <th>shipping_option_name</th>\n",
       "      <th>shipping_option_price</th>\n",
       "      <th>shipping_is_express</th>\n",
       "      <th>countries_shipped_to</th>\n",
       "      <th>inventory_total</th>\n",
       "      <th>origin_country</th>\n",
       "      <th>merchant_name</th>\n",
       "      <th>merchant_info_subtitle</th>\n",
       "      <th>merchant_rating_count</th>\n",
       "      <th>merchant_id.1</th>\n",
       "      <th>product_url</th>\n",
       "      <th>product_id</th>\n",
       "      <th>discount_percentage</th>\n",
       "      <th>seller_reputation</th>\n",
       "    </tr>\n",
       "    <tr>\n",
       "      <th>index</th>\n",
       "      <th></th>\n",
       "      <th></th>\n",
       "      <th></th>\n",
       "      <th></th>\n",
       "      <th></th>\n",
       "      <th></th>\n",
       "      <th></th>\n",
       "      <th></th>\n",
       "      <th></th>\n",
       "      <th></th>\n",
       "      <th></th>\n",
       "      <th></th>\n",
       "      <th></th>\n",
       "      <th></th>\n",
       "      <th></th>\n",
       "      <th></th>\n",
       "      <th></th>\n",
       "      <th></th>\n",
       "      <th></th>\n",
       "      <th></th>\n",
       "      <th></th>\n",
       "      <th></th>\n",
       "      <th></th>\n",
       "      <th></th>\n",
       "      <th></th>\n",
       "      <th></th>\n",
       "      <th></th>\n",
       "      <th></th>\n",
       "      <th></th>\n",
       "      <th></th>\n",
       "      <th></th>\n",
       "      <th></th>\n",
       "      <th></th>\n",
       "      <th></th>\n",
       "      <th></th>\n",
       "      <th></th>\n",
       "      <th></th>\n",
       "      <th></th>\n",
       "      <th></th>\n",
       "      <th></th>\n",
       "      <th></th>\n",
       "      <th></th>\n",
       "      <th></th>\n",
       "    </tr>\n",
       "  </thead>\n",
       "  <tbody>\n",
       "    <tr>\n",
       "      <th>0</th>\n",
       "      <td>5357bcf2bb72c5504882e889</td>\n",
       "      <td>2</td>\n",
       "      <td>120000</td>\n",
       "      <td>60000.0</td>\n",
       "      <td>4.219</td>\n",
       "      <td>320031.0</td>\n",
       "      <td>9.0</td>\n",
       "      <td>20.0</td>\n",
       "      <td>8836.0</td>\n",
       "      <td>1018</td>\n",
       "      <td>Femmes dentelle manches courtes hauts hauts ch...</td>\n",
       "      <td>Women Lace Short Sleeve Long Tops Blouse Shirt...</td>\n",
       "      <td>7.0</td>\n",
       "      <td>22</td>\n",
       "      <td>100000</td>\n",
       "      <td>Si</td>\n",
       "      <td>3.82</td>\n",
       "      <td>11913</td>\n",
       "      <td>5355.0</td>\n",
       "      <td>2430.0</td>\n",
       "      <td>1974.0</td>\n",
       "      <td>960.0</td>\n",
       "      <td>1194.0</td>\n",
       "      <td>No</td>\n",
       "      <td>Buena</td>\n",
       "      <td>No</td>\n",
       "      <td>blouse,Fashion,Shirt,boho,Tops,summer t-shirts...</td>\n",
       "      <td>black</td>\n",
       "      <td>S</td>\n",
       "      <td>Livraison standard</td>\n",
       "      <td>2</td>\n",
       "      <td>No</td>\n",
       "      <td>46</td>\n",
       "      <td>50</td>\n",
       "      <td>CN</td>\n",
       "      <td>primesalecolimited</td>\n",
       "      <td>90 % avis positifs</td>\n",
       "      <td>320031</td>\n",
       "      <td>5357bcf2bb72c5504882e889</td>\n",
       "      <td>https://www.wish.com/c/567cb0925ff12c4829f07dfb</td>\n",
       "      <td>567cb0925ff12c4829f07dfb</td>\n",
       "      <td>68.18</td>\n",
       "      <td>Buena</td>\n",
       "    </tr>\n",
       "  </tbody>\n",
       "</table>\n",
       "</div>"
      ],
      "text/plain": [
       "                    merchant_id  listed_products  total_units_sold  \\\n",
       "index                                                                \n",
       "0      5357bcf2bb72c5504882e889                2            120000   \n",
       "\n",
       "       mean_units_sold_per_product  rating  merchant_ratings_count  \\\n",
       "index                                                                \n",
       "0                          60000.0   4.219                320031.0   \n",
       "\n",
       "       mean_product_prices  mean_retail_prices  mean_product_ratings_count  \\\n",
       "index                                                                        \n",
       "0                      9.0                20.0                      8836.0   \n",
       "\n",
       "       index_r                                              title  \\\n",
       "index                                                               \n",
       "0         1018  Femmes dentelle manches courtes hauts hauts ch...   \n",
       "\n",
       "                                              title_orig  price  retail_price  \\\n",
       "index                                                                           \n",
       "0      Women Lace Short Sleeve Long Tops Blouse Shirt...    7.0            22   \n",
       "\n",
       "       units_sold uses_ad_boosts  rating_r  rating_count  rating_five_count  \\\n",
       "index                                                                         \n",
       "0          100000             Si      3.82         11913             5355.0   \n",
       "\n",
       "       rating_four_count  rating_three_count  rating_two_count  \\\n",
       "index                                                            \n",
       "0                 2430.0              1974.0             960.0   \n",
       "\n",
       "       rating_one_count badge_local_product badge_product_quality  \\\n",
       "index                                                               \n",
       "0                1194.0                  No                 Buena   \n",
       "\n",
       "      badge_fast_shipping                                               tags  \\\n",
       "index                                                                          \n",
       "0                      No  blouse,Fashion,Shirt,boho,Tops,summer t-shirts...   \n",
       "\n",
       "      product_color product_variation_size_id shipping_option_name  \\\n",
       "index                                                                \n",
       "0             black                         S   Livraison standard   \n",
       "\n",
       "       shipping_option_price shipping_is_express  countries_shipped_to  \\\n",
       "index                                                                    \n",
       "0                          2                  No                    46   \n",
       "\n",
       "       inventory_total origin_country       merchant_name  \\\n",
       "index                                                       \n",
       "0                   50             CN  primesalecolimited   \n",
       "\n",
       "      merchant_info_subtitle  merchant_rating_count             merchant_id.1  \\\n",
       "index                                                                           \n",
       "0         90 % avis positifs                 320031  5357bcf2bb72c5504882e889   \n",
       "\n",
       "                                           product_url  \\\n",
       "index                                                    \n",
       "0      https://www.wish.com/c/567cb0925ff12c4829f07dfb   \n",
       "\n",
       "                     product_id  discount_percentage seller_reputation  \n",
       "index                                                                   \n",
       "0      567cb0925ff12c4829f07dfb                68.18             Buena  "
      ]
     },
     "execution_count": 17,
     "metadata": {},
     "output_type": "execute_result"
    }
   ],
   "source": [
    "df = pd.read_csv('df-rating-insight-leccion-06.csv', index_col=  0)\n",
    "df.head(1)"
   ]
  },
  {
   "cell_type": "code",
   "execution_count": 123,
   "metadata": {},
   "outputs": [
    {
     "name": "stdout",
     "output_type": "stream",
     "text": [
      "La media de los precios es : 8.33\n",
      "La mediana de los precios es : 8.0\n"
     ]
    }
   ],
   "source": [
    "media_precios = df['price'].mean()\n",
    "mediana_precios = df['price'].median()\n",
    "print( f'La media de los precios es : {np.round(media_precios, 2)}')\n",
    "print( f'La mediana de los precios es : {np.round(mediana_precios, 2)}')"
   ]
  },
  {
   "cell_type": "markdown",
   "metadata": {},
   "source": [
    "2. Crea una tabla de correlación que muestre cómo se relacionan las variables `price`, `retail_price`, `units_sold`, `rating_sold`, y `rating_count`. Interpreta los resultados y discute si hay alguna correlación significativa entre estas variables."
   ]
  },
  {
   "cell_type": "markdown",
   "metadata": {},
   "source": [
    "NOTA: No tengo columna 'rating_sold' en el DF"
   ]
  },
  {
   "cell_type": "code",
   "execution_count": 30,
   "metadata": {},
   "outputs": [
    {
     "name": "stdout",
     "output_type": "stream",
     "text": [
      "Normalidad de price: Estadístico=0.932, p-valor=0.000\n",
      "price no parece tener una distribución normal (rechaza H0)\n",
      "Normalidad de retail_price: Estadístico=0.650, p-valor=0.000\n",
      "retail_price no parece tener una distribución normal (rechaza H0)\n",
      "Normalidad de units_sold: Estadístico=0.461, p-valor=0.000\n",
      "units_sold no parece tener una distribución normal (rechaza H0)\n",
      "Normalidad de rating_count: Estadístico=0.470, p-valor=0.000\n",
      "rating_count no parece tener una distribución normal (rechaza H0)\n"
     ]
    }
   ],
   "source": [
    "variables = ['price', 'retail_price', 'units_sold', 'rating_count']\n",
    "for var in variables:\n",
    "    stat, p = shapiro(df[var])\n",
    "    print(f'Normalidad de {var}: Estadístico={stat:.3f}, p-valor={p:.3f}')\n",
    "\n",
    "    # Interpretación de los resultados\n",
    "    if p > 0.05:\n",
    "        print(f\"{var} parece tener una distribución normal (no rechaza H0)\")\n",
    "    else:\n",
    "        print(f\"{var} no parece tener una distribución normal (rechaza H0)\")"
   ]
  },
  {
   "cell_type": "markdown",
   "metadata": {},
   "source": [
    " NOTA: Ninguna de las variables sigue una distribución normal, debo usar un método de correlación no paramétrico para analizar las relaciones entre estas variables. En este caso el método 'spearman'."
   ]
  },
  {
   "cell_type": "code",
   "execution_count": 32,
   "metadata": {},
   "outputs": [
    {
     "data": {
      "text/html": [
       "<div>\n",
       "<style scoped>\n",
       "    .dataframe tbody tr th:only-of-type {\n",
       "        vertical-align: middle;\n",
       "    }\n",
       "\n",
       "    .dataframe tbody tr th {\n",
       "        vertical-align: top;\n",
       "    }\n",
       "\n",
       "    .dataframe thead th {\n",
       "        text-align: right;\n",
       "    }\n",
       "</style>\n",
       "<table border=\"1\" class=\"dataframe\">\n",
       "  <thead>\n",
       "    <tr style=\"text-align: right;\">\n",
       "      <th></th>\n",
       "      <th>price</th>\n",
       "      <th>retail_price</th>\n",
       "      <th>units_sold</th>\n",
       "      <th>rating_count</th>\n",
       "    </tr>\n",
       "  </thead>\n",
       "  <tbody>\n",
       "    <tr>\n",
       "      <th>price</th>\n",
       "      <td>1.000000</td>\n",
       "      <td>0.536104</td>\n",
       "      <td>0.061769</td>\n",
       "      <td>0.129345</td>\n",
       "    </tr>\n",
       "    <tr>\n",
       "      <th>retail_price</th>\n",
       "      <td>0.536104</td>\n",
       "      <td>1.000000</td>\n",
       "      <td>-0.027991</td>\n",
       "      <td>0.024439</td>\n",
       "    </tr>\n",
       "    <tr>\n",
       "      <th>units_sold</th>\n",
       "      <td>0.061769</td>\n",
       "      <td>-0.027991</td>\n",
       "      <td>1.000000</td>\n",
       "      <td>0.941988</td>\n",
       "    </tr>\n",
       "    <tr>\n",
       "      <th>rating_count</th>\n",
       "      <td>0.129345</td>\n",
       "      <td>0.024439</td>\n",
       "      <td>0.941988</td>\n",
       "      <td>1.000000</td>\n",
       "    </tr>\n",
       "  </tbody>\n",
       "</table>\n",
       "</div>"
      ],
      "text/plain": [
       "                 price  retail_price  units_sold  rating_count\n",
       "price         1.000000      0.536104    0.061769      0.129345\n",
       "retail_price  0.536104      1.000000   -0.027991      0.024439\n",
       "units_sold    0.061769     -0.027991    1.000000      0.941988\n",
       "rating_count  0.129345      0.024439    0.941988      1.000000"
      ]
     },
     "execution_count": 32,
     "metadata": {},
     "output_type": "execute_result"
    }
   ],
   "source": [
    "df_correlacion = df[['price', 'retail_price', 'units_sold', 'rating_count']].corr(method='spearman') \n",
    "df_correlacion"
   ]
  },
  {
   "cell_type": "code",
   "execution_count": 42,
   "metadata": {},
   "outputs": [
    {
     "data": {
      "image/png": "[encoded data removed]",
      "text/plain": [
       "<Figure size 800x500 with 2 Axes>"
      ]
     },
     "metadata": {},
     "output_type": "display_data"
    }
   ],
   "source": [
    "plt.figure(figsize = (8, 5))\n",
    "\n",
    "sns.heatmap(df_correlacion, # sobre que datos queremos hacer el heatmap\n",
    "            annot = True, # para que nos muestre los valores de cada una de las celdas del heatmap\n",
    "            fmt = \".2f\",  # para que nos redondee a dos decimales\n",
    "            cmap = \"mako\", # para establecer el color de la gráfica\n",
    "            vmax = 1, # para indicar cual es el valor máximo de nuestra escala de colores\n",
    "            vmin = -1);"
   ]
  },
  {
   "cell_type": "markdown",
   "metadata": {},
   "source": [
    "#### Conclusión:\n",
    "Columnas con correlación: \n",
    "- 'retail_price' y 'price' (correlación alta): Indica una relación positiva entre las columnas. Es posible que los productos que tienen un precio más alto también tengan un precio de venta al público más elevado.\n",
    "- 'rating_count' y 'price': Correlación es baja pero positiva. Puede indicar que los productos con precios más altos reciben ligeramente más calificaciones, posiblemente debido a expectativas más altas de los consumidores o una mayor disposición a revisar tras una inversión grande."
   ]
  },
  {
   "cell_type": "markdown",
   "metadata": {},
   "source": [
    "3. Utiliza una tabla de contingencia para analizar la relación entre las variables categóricas `uses_ad_boosts` y `badge_product_quality`. ¿Cómo afecta la calidad del producto al uso de anuncios promocionales? Proporciona interpretaciones basadas en la tabla de contingencia."
   ]
  },
  {
   "cell_type": "code",
   "execution_count": 44,
   "metadata": {},
   "outputs": [
    {
     "data": {
      "text/html": [
       "<div>\n",
       "<style scoped>\n",
       "    .dataframe tbody tr th:only-of-type {\n",
       "        vertical-align: middle;\n",
       "    }\n",
       "\n",
       "    .dataframe tbody tr th {\n",
       "        vertical-align: top;\n",
       "    }\n",
       "\n",
       "    .dataframe thead th {\n",
       "        text-align: right;\n",
       "    }\n",
       "</style>\n",
       "<table border=\"1\" class=\"dataframe\">\n",
       "  <thead>\n",
       "    <tr style=\"text-align: right;\">\n",
       "      <th>uses_ad_boosts</th>\n",
       "      <th>No</th>\n",
       "      <th>Si</th>\n",
       "    </tr>\n",
       "    <tr>\n",
       "      <th>badge_product_quality</th>\n",
       "      <th></th>\n",
       "      <th></th>\n",
       "    </tr>\n",
       "  </thead>\n",
       "  <tbody>\n",
       "    <tr>\n",
       "      <th>Buena</th>\n",
       "      <td>52.511125</td>\n",
       "      <td>40.050858</td>\n",
       "    </tr>\n",
       "    <tr>\n",
       "      <th>Excelente</th>\n",
       "      <td>4.195804</td>\n",
       "      <td>3.242212</td>\n",
       "    </tr>\n",
       "  </tbody>\n",
       "</table>\n",
       "</div>"
      ],
      "text/plain": [
       "uses_ad_boosts                No         Si\n",
       "badge_product_quality                      \n",
       "Buena                  52.511125  40.050858\n",
       "Excelente               4.195804   3.242212"
      ]
     },
     "execution_count": 44,
     "metadata": {},
     "output_type": "execute_result"
    }
   ],
   "source": [
    "tabla_contingencia = pd.crosstab(df['uses_ad_boosts'], df['badge_product_quality'], normalize=True) * 100\n",
    "tabla_contingencia.T"
   ]
  },
  {
   "cell_type": "markdown",
   "metadata": {},
   "source": [
    "##### Interpretación: \n",
    "- Los anuncios promocionales parecen tener un efecto  negativo en los productos de excelente calidad en comparación con los de buena calidad, podría indicar que los consumidores confían más en la reputación de la calidad del producto que en la publicidad."
   ]
  },
  {
   "cell_type": "markdown",
   "metadata": {},
   "source": [
    "4. Crea una tabla de contingencia que examine la relación entre las variables categóricas `badge_local_product` y `badge_fast_shipping`. ¿Hay alguna tendencia en la que los productos locales estén más asociados con envíos rápidos? Explícalo.\n"
   ]
  },
  {
   "cell_type": "code",
   "execution_count": 71,
   "metadata": {},
   "outputs": [
    {
     "data": {
      "text/html": [
       "<div>\n",
       "<style scoped>\n",
       "    .dataframe tbody tr th:only-of-type {\n",
       "        vertical-align: middle;\n",
       "    }\n",
       "\n",
       "    .dataframe tbody tr th {\n",
       "        vertical-align: top;\n",
       "    }\n",
       "\n",
       "    .dataframe thead th {\n",
       "        text-align: right;\n",
       "    }\n",
       "</style>\n",
       "<table border=\"1\" class=\"dataframe\">\n",
       "  <thead>\n",
       "    <tr style=\"text-align: right;\">\n",
       "      <th>badge_fast_shipping</th>\n",
       "      <th>No</th>\n",
       "      <th>Si</th>\n",
       "    </tr>\n",
       "    <tr>\n",
       "      <th>badge_local_product</th>\n",
       "      <th></th>\n",
       "      <th></th>\n",
       "    </tr>\n",
       "  </thead>\n",
       "  <tbody>\n",
       "    <tr>\n",
       "      <th>No</th>\n",
       "      <td>97.457088</td>\n",
       "      <td>0.699301</td>\n",
       "    </tr>\n",
       "    <tr>\n",
       "      <th>Si</th>\n",
       "      <td>1.271456</td>\n",
       "      <td>0.572155</td>\n",
       "    </tr>\n",
       "  </tbody>\n",
       "</table>\n",
       "</div>"
      ],
      "text/plain": [
       "badge_fast_shipping         No        Si\n",
       "badge_local_product                     \n",
       "No                   97.457088  0.699301\n",
       "Si                    1.271456  0.572155"
      ]
     },
     "execution_count": 71,
     "metadata": {},
     "output_type": "execute_result"
    }
   ],
   "source": [
    "tabla_contingencia_2 = pd.crosstab(df['badge_local_product'], df['badge_fast_shipping'], normalize=True) * 100\n",
    "tabla_contingencia_2"
   ]
  },
  {
   "cell_type": "code",
   "execution_count": 86,
   "metadata": {},
   "outputs": [
    {
     "data": {
      "image/png": "[encoded data removed]",
      "text/plain": [
       "<Figure size 700x400 with 1 Axes>"
      ]
     },
     "metadata": {},
     "output_type": "display_data"
    }
   ],
   "source": [
    "tabla_contingencia_2.plot(kind='bar', \n",
    "                          stacked=True,  # Uno encima del otro\n",
    "                          color=['skyblue', 'navy'], \n",
    "                          figsize=(7, 4))\n",
    "plt.title('Comparación de Envío Rápido por Localidad del Producto')\n",
    "plt.xlabel('Producto Local')\n",
    "plt.ylabel('Cantidad')\n",
    "plt.xticks(rotation=0)  # Mantiene los nombres de las categorías horizontales\n",
    "plt.legend(title='Envío Rápido');"
   ]
  },
  {
   "cell_type": "markdown",
   "metadata": {},
   "source": [
    "#### Interpretacion:\n",
    "- La gran mayoría de los productos que no son locales no tienen envío rápido\n",
    "- La proporción de productos locales con envío rápido es relativamente más alta que en los no locales"
   ]
  },
  {
   "cell_type": "markdown",
   "metadata": {},
   "source": [
    "5. Calcula la media y la mediana de la variable `mean_product_prices`. ¿Cómo se comparan estas medidas? ¿Qué puedes inferir sobre la distribución de los precios promedio de los productos?"
   ]
  },
  {
   "cell_type": "code",
   "execution_count": 93,
   "metadata": {},
   "outputs": [
    {
     "name": "stdout",
     "output_type": "stream",
     "text": [
      "La media de los precios productos es : 8.33\n",
      "La mediana de los precios productos es : 8.0\n"
     ]
    }
   ],
   "source": [
    "media_precios_promedio = df['mean_product_prices'].mean()\n",
    "mediana_mean_precios_promedio = df['mean_product_prices'].median()\n",
    "\n",
    "print( f'La media de los precios productos es : {np.round(media_precios_promedio, 2)}')\n",
    "print( f'La mediana de los precios productos es : {np.round(mediana_mean_precios_promedio, 2)}')"
   ]
  },
  {
   "cell_type": "markdown",
   "metadata": {},
   "source": [
    "#### Interpretacion:\n",
    "- En una distribución perfectamente simétrica, la media y la mediana serían iguales.\n",
    "- No hay un número desproporcionado de valores atípicos que estén distorsionando el promedio."
   ]
  },
  {
   "cell_type": "markdown",
   "metadata": {},
   "source": [
    "6. Realiza un análisis de correlación entre `total_units_sold` y `mean_product_ratings_count`. ¿Existe una relación entre la cantidad total de unidades vendidas y la calificación promedio de los productos? Explica los resultados."
   ]
  },
  {
   "cell_type": "code",
   "execution_count": 94,
   "metadata": {},
   "outputs": [
    {
     "name": "stdout",
     "output_type": "stream",
     "text": [
      "Normalidad de price: Estadístico=0.932, p-valor=0.000\n",
      "price no parece tener una distribución normal (rechaza H0)\n",
      "Normalidad de retail_price: Estadístico=0.650, p-valor=0.000\n",
      "retail_price no parece tener una distribución normal (rechaza H0)\n",
      "Normalidad de units_sold: Estadístico=0.461, p-valor=0.000\n",
      "units_sold no parece tener una distribución normal (rechaza H0)\n",
      "Normalidad de rating_count: Estadístico=0.470, p-valor=0.000\n",
      "rating_count no parece tener una distribución normal (rechaza H0)\n"
     ]
    }
   ],
   "source": [
    "variable_tm = ['total_units_sold','mean_product_ratings_count' ]\n",
    "for var in variables:\n",
    "    stat, p = shapiro(df[var])\n",
    "    print(f'Normalidad de {var}: Estadístico={stat:.3f}, p-valor={p:.3f}')\n",
    "\n",
    "    # Interpretación de los resultados\n",
    "    if p > 0.05:\n",
    "        print(f\"{var} parece tener una distribución normal (no rechaza H0)\")\n",
    "    else:\n",
    "        print(f\"{var} no parece tener una distribución normal (rechaza H0)\")"
   ]
  },
  {
   "cell_type": "markdown",
   "metadata": {},
   "source": [
    " Ninguna de las variables sigue una distribución normal, debo usar un método de correlación no paramétrico para analizar las relaciones entre estas variables. En este caso el método 'spearman'."
   ]
  },
  {
   "cell_type": "code",
   "execution_count": 95,
   "metadata": {},
   "outputs": [
    {
     "data": {
      "text/html": [
       "<div>\n",
       "<style scoped>\n",
       "    .dataframe tbody tr th:only-of-type {\n",
       "        vertical-align: middle;\n",
       "    }\n",
       "\n",
       "    .dataframe tbody tr th {\n",
       "        vertical-align: top;\n",
       "    }\n",
       "\n",
       "    .dataframe thead th {\n",
       "        text-align: right;\n",
       "    }\n",
       "</style>\n",
       "<table border=\"1\" class=\"dataframe\">\n",
       "  <thead>\n",
       "    <tr style=\"text-align: right;\">\n",
       "      <th></th>\n",
       "      <th>total_units_sold</th>\n",
       "      <th>mean_product_ratings_count</th>\n",
       "    </tr>\n",
       "  </thead>\n",
       "  <tbody>\n",
       "    <tr>\n",
       "      <th>total_units_sold</th>\n",
       "      <td>1.000000</td>\n",
       "      <td>0.875353</td>\n",
       "    </tr>\n",
       "    <tr>\n",
       "      <th>mean_product_ratings_count</th>\n",
       "      <td>0.875353</td>\n",
       "      <td>1.000000</td>\n",
       "    </tr>\n",
       "  </tbody>\n",
       "</table>\n",
       "</div>"
      ],
      "text/plain": [
       "                            total_units_sold  mean_product_ratings_count\n",
       "total_units_sold                    1.000000                    0.875353\n",
       "mean_product_ratings_count          0.875353                    1.000000"
      ]
     },
     "execution_count": 95,
     "metadata": {},
     "output_type": "execute_result"
    }
   ],
   "source": [
    "df_corr_tm = df[['total_units_sold','mean_product_ratings_count']].corr(method='spearman') \n",
    "df_corr_tm "
   ]
  },
  {
   "cell_type": "markdown",
   "metadata": {},
   "source": [
    "#### Interpretacion:\n",
    "- Fuerte Relación Positiva: \n",
    "correlación de Spearman de 0.87 indica una relación positiva fuerte entre el total de unidades vendidas y el conteo promedio de calificaciones de los productos\n"
   ]
  },
  {
   "cell_type": "markdown",
   "metadata": {},
   "source": [
    "7. Crea una tabla de contingencia que examine la relación entre las variables categóricas `badge_local_product` y `seller_reputation`. ¿Cómo se relacionan las calificaciones de los empleados con la reputación del vendedor? Proporciona interpretaciones basadas en la tabla de contingencia.\n"
   ]
  },
  {
   "cell_type": "code",
   "execution_count": 96,
   "metadata": {},
   "outputs": [
    {
     "data": {
      "text/html": [
       "<div>\n",
       "<style scoped>\n",
       "    .dataframe tbody tr th:only-of-type {\n",
       "        vertical-align: middle;\n",
       "    }\n",
       "\n",
       "    .dataframe tbody tr th {\n",
       "        vertical-align: top;\n",
       "    }\n",
       "\n",
       "    .dataframe thead th {\n",
       "        text-align: right;\n",
       "    }\n",
       "</style>\n",
       "<table border=\"1\" class=\"dataframe\">\n",
       "  <thead>\n",
       "    <tr style=\"text-align: right;\">\n",
       "      <th>seller_reputation</th>\n",
       "      <th>Buena</th>\n",
       "      <th>Regular</th>\n",
       "    </tr>\n",
       "    <tr>\n",
       "      <th>badge_local_product</th>\n",
       "      <th></th>\n",
       "      <th></th>\n",
       "    </tr>\n",
       "  </thead>\n",
       "  <tbody>\n",
       "    <tr>\n",
       "      <th>No</th>\n",
       "      <td>57.469803</td>\n",
       "      <td>40.686586</td>\n",
       "    </tr>\n",
       "    <tr>\n",
       "      <th>Si</th>\n",
       "      <td>1.716465</td>\n",
       "      <td>0.127146</td>\n",
       "    </tr>\n",
       "  </tbody>\n",
       "</table>\n",
       "</div>"
      ],
      "text/plain": [
       "seller_reputation        Buena    Regular\n",
       "badge_local_product                      \n",
       "No                   57.469803  40.686586\n",
       "Si                    1.716465   0.127146"
      ]
     },
     "execution_count": 96,
     "metadata": {},
     "output_type": "execute_result"
    }
   ],
   "source": [
    "tabla_contingencia_bs = pd.crosstab(df['badge_local_product'], df['seller_reputation'], normalize=True) * 100\n",
    "tabla_contingencia_bs "
   ]
  },
  {
   "cell_type": "code",
   "execution_count": 122,
   "metadata": {},
   "outputs": [
    {
     "data": {
      "text/plain": [
       "<matplotlib.legend.Legend at 0x16a585550>"
      ]
     },
     "execution_count": 122,
     "metadata": {},
     "output_type": "execute_result"
    },
    {
     "data": {
      "image/png": "[encoded data removed]",
      "text/plain": [
       "<Figure size 640x480 with 1 Axes>"
      ]
     },
     "metadata": {},
     "output_type": "display_data"
    }
   ],
   "source": [
    "tabla_contingencia_bs.plot(kind='bar', \n",
    "                           )\n",
    "plt.title('Relación entre Producto Local y Reputación del Vendedor')\n",
    "plt.xlabel('Producto Local')\n",
    "plt.ylabel('Frecuencia')\n",
    "plt.legend(title='Reputación del Vendedor')"
   ]
  },
  {
   "cell_type": "markdown",
   "metadata": {},
   "source": [
    "#### Interpretación:\n",
    "- Dominancia de Productos No Locales: El volumen de productos no locales es mucho mayor en comparación con los locales, tanto en las categorías de buena como regular reputación. \n",
    "- Alta Calidad de Productos Locales: Los productos locales tienden a tener una reputación predominantemente buena.\n"
   ]
  },
  {
   "cell_type": "code",
   "execution_count": 112,
   "metadata": {},
   "outputs": [
    {
     "data": {
      "text/html": [
       "<svg  width=\"330\" height=\"55\"><rect x=\"0\" y=\"0\" width=\"55\" height=\"55\" style=\"fill:#7dba91;stroke-width:2;stroke:rgb(255,255,255)\"/><rect x=\"55\" y=\"0\" width=\"55\" height=\"55\" style=\"fill:#59a590;stroke-width:2;stroke:rgb(255,255,255)\"/><rect x=\"110\" y=\"0\" width=\"55\" height=\"55\" style=\"fill:#40908e;stroke-width:2;stroke:rgb(255,255,255)\"/><rect x=\"165\" y=\"0\" width=\"55\" height=\"55\" style=\"fill:#287a8c;stroke-width:2;stroke:rgb(255,255,255)\"/><rect x=\"220\" y=\"0\" width=\"55\" height=\"55\" style=\"fill:#1c6488;stroke-width:2;stroke:rgb(255,255,255)\"/><rect x=\"275\" y=\"0\" width=\"55\" height=\"55\" style=\"fill:#254b7f;stroke-width:2;stroke:rgb(255,255,255)\"/></svg>"
      ],
      "text/plain": [
       "[(0.48942421, 0.72854938, 0.56751036),\n",
       " (0.34892097, 0.64828676, 0.56513633),\n",
       " (0.24929311, 0.56486397, 0.5586654),\n",
       " (0.15615526, 0.47913212, 0.54850526),\n",
       " (0.11131735, 0.39155635, 0.53422678),\n",
       " (0.14573579, 0.29354139, 0.49847009)]"
      ]
     },
     "execution_count": 112,
     "metadata": {},
     "output_type": "execute_result"
    }
   ],
   "source": [
    "sns.color_palette('crest')"
   ]
  },
  {
   "cell_type": "markdown",
   "metadata": {},
   "source": [
    "8. Calcula la media y la mediana de la variable `discount_percentage`. ¿Qué puedes decir sobre los descuentos promedio en los productos? ¿Hay valores atípicos en esta variable?"
   ]
  },
  {
   "cell_type": "code",
   "execution_count": 136,
   "metadata": {},
   "outputs": [
    {
     "name": "stdout",
     "output_type": "stream",
     "text": [
      "La media de los porcentajes promedio de descuento es : 26.06\n",
      "La mediana de los porcentajes promedio de descuento es : 5.83\n"
     ]
    }
   ],
   "source": [
    "media_discount = df['discount_percentage'].mean()\n",
    "mediana_discount = df['discount_percentage'].median()\n",
    "print( f'La media de los porcentajes promedio de descuento es : {np.round(media_discount, 2)}')\n",
    "print( f'La mediana de los porcentajes promedio de descuento es : {np.round(mediana_discount, 2)}')"
   ]
  },
  {
   "cell_type": "code",
   "execution_count": 140,
   "metadata": {},
   "outputs": [
    {
     "data": {
      "image/png": "[encoded data removed]",
      "text/plain": [
       "<Figure size 640x480 with 1 Axes>"
      ]
     },
     "metadata": {},
     "output_type": "display_data"
    }
   ],
   "source": [
    "sns.boxplot(x=df['discount_percentage'])\n",
    "plt.title('Mediana y Media Descuentos en Productos')\n",
    "plt.scatter(1, media_discount, color='red', s=100, label=f'Media: {media_discount:.2f}')\n",
    "plt.scatter(1, mediana_discount, color='green', s=100, label=f'Mediana: {mediana_discount:.2f}')\n",
    "plt.legend();"
   ]
  },
  {
   "cell_type": "markdown",
   "metadata": {},
   "source": [
    "#### Interpretacion:\n",
    "- Existe una diferencia significativa entre la media y la mediana, lo que prueba la existencia de valores atípicos.\n",
    "- Hay una alta dispersión en los descuentos ofrecidos."
   ]
  },
  {
   "cell_type": "markdown",
   "metadata": {},
   "source": [
    "9. Utiliza una tabla de contingencia para analizar cómo se relacionan las variables categóricas `badge_fast_shipping` y `seller_reputation`. ¿Qué puedes concluir sobre la distribución de las calificaciones altas? "
   ]
  },
  {
   "cell_type": "code",
   "execution_count": 141,
   "metadata": {},
   "outputs": [
    {
     "data": {
      "text/html": [
       "<div>\n",
       "<style scoped>\n",
       "    .dataframe tbody tr th:only-of-type {\n",
       "        vertical-align: middle;\n",
       "    }\n",
       "\n",
       "    .dataframe tbody tr th {\n",
       "        vertical-align: top;\n",
       "    }\n",
       "\n",
       "    .dataframe thead th {\n",
       "        text-align: right;\n",
       "    }\n",
       "</style>\n",
       "<table border=\"1\" class=\"dataframe\">\n",
       "  <thead>\n",
       "    <tr style=\"text-align: right;\">\n",
       "      <th>seller_reputation</th>\n",
       "      <th>Buena</th>\n",
       "      <th>Regular</th>\n",
       "      <th>Total</th>\n",
       "    </tr>\n",
       "    <tr>\n",
       "      <th>badge_fast_shipping</th>\n",
       "      <th></th>\n",
       "      <th></th>\n",
       "      <th></th>\n",
       "    </tr>\n",
       "  </thead>\n",
       "  <tbody>\n",
       "    <tr>\n",
       "      <th>No</th>\n",
       "      <td>915</td>\n",
       "      <td>638</td>\n",
       "      <td>1553</td>\n",
       "    </tr>\n",
       "    <tr>\n",
       "      <th>Si</th>\n",
       "      <td>16</td>\n",
       "      <td>4</td>\n",
       "      <td>20</td>\n",
       "    </tr>\n",
       "    <tr>\n",
       "      <th>Total</th>\n",
       "      <td>931</td>\n",
       "      <td>642</td>\n",
       "      <td>1573</td>\n",
       "    </tr>\n",
       "  </tbody>\n",
       "</table>\n",
       "</div>"
      ],
      "text/plain": [
       "seller_reputation    Buena  Regular  Total\n",
       "badge_fast_shipping                       \n",
       "No                     915      638   1553\n",
       "Si                      16        4     20\n",
       "Total                  931      642   1573"
      ]
     },
     "execution_count": 141,
     "metadata": {},
     "output_type": "execute_result"
    }
   ],
   "source": [
    "tabla_shipp_seller = pd.crosstab(index=df['badge_fast_shipping'],columns=df['seller_reputation'],margins=True,margins_name=\"Total\") # margins=True incluye totales\n",
    "tabla_shipp_seller"
   ]
  },
  {
   "cell_type": "markdown",
   "metadata": {},
   "source": [
    "#### Interpretacion:\n",
    "\n",
    "- Solo 20 vendedores de un total de 1573 ofrecen envío rápido. Esto indica que el envío rápido es una característica poco común entre los vendedores en esta muestra.\n",
    "- Entre los vendedores que ofrecen envío rápido, la mayoría tienen una reputación buena.\n",
    "- Los vendedores con envío rápido son pocos, pero una proporción  mayor de estos tiene buena reputación en comparación con los que no ofrecen envío rápido. "
   ]
  },
  {
   "cell_type": "markdown",
   "metadata": {},
   "source": []
  }
 ],
 "metadata": {
  "kernelspec": {
   "display_name": "base",
   "language": "python",
   "name": "python3"
  },
  "language_info": {
   "codemirror_mode": {
    "name": "ipython",
    "version": 3
   },
   "file_extension": ".py",
   "mimetype": "text/x-python",
   "name": "python",
   "nbconvert_exporter": "python",
   "pygments_lexer": "ipython3",
   "version": "3.11.8"
  }
 },
 "nbformat": 4,
 "nbformat_minor": 2
}
