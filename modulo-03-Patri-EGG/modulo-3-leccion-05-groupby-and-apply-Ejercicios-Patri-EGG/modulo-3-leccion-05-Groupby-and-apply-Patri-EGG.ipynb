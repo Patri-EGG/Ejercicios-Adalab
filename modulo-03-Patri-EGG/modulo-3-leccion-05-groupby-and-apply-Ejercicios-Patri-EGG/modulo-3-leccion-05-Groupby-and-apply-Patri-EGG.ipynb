{
 "cells": [
  {
   "cell_type": "markdown",
   "metadata": {},
   "source": [
    "# Ejercicios\n",
    "\n",
    "En estos usaremos el conjunto de datos que guardamos ayer en los ejercicios de la clase invertida. Los ejercicios que os planteamos hoy son: \n",
    "\n",
    "\n",
    "1. Total de unidades vendidas por país de origen del vendedor. Debéis agrupar los datos según el país de origen del vendedor y calcular el total de unidades vendidas para cada país. Esto nos dará una idea de qué países tienen una mayor participación en las ventas totales y cuáles tienen menos. Devuelve los resultados en un DataFrame ordenados de mayor a menor en función de la cantidad de unidades vendidas. \n",
    "\n",
    "2. Estadísticas de precio por país de envío. Vamos a explorar el precio promedio y el precio máximo de los productos según el país al que se envían. Al hacer esto, podremos entender cómo varían los precios según el destino del envío y si hay alguna tendencia interesante que valga la pena analizar.  Devuelve los resultados en un DataFrame. \n",
    "\n",
    "3. Conteo de productos con y sin distintivo de producto local. Vamos a clasificar los productos según si tienen o no un distintivo de producto local. Luego, calcularemos el conteo de productos en cada categoría para comprender cuántos productos tienen este distintivo y cuántos no. Esto puede proporcionarnos información sobre cómo se promocionan los productos con esta característica. Devuelve los resultados en un DataFrame. \n",
    "\n",
    "4. Promedio de unidades vendidas por tipo de envío. Nuestro objetivo es analizar cómo se correlaciona el tipo de envío (columna `shipping_option_name` ) con las unidades vendidas. Vamos a calcular el promedio de unidades vendidas para cada tipo de opción de envío. Esto podría ayudarnos a determinar si ciertos métodos de envío están relacionados con un mayor o menor rendimiento en las ventas. Devuelve los resultados en un DataFrame.  ¿Qué conclusiones puedes sacar de este resultado?\n",
    "\n",
    "5. Reemplazo de valores. A lo largo del DataFrame tenemos algunas columnas cuyos valores son cero y uno, lo que podría llevar a confusión en su interpretación. Estas columnas son: \n",
    "\n",
    "    - `uses_ad_boosts`: La cual indica si la plataforma de comercio electrónico ha utilizado o no la función de impulso de anuncios.  Si el valor de uses_ad_boosts es 1, indica que el vendedor ha invertido en publicidad adicional para resaltar el producto. Si el valor es 0, no ha sido promocionado a través de anuncios adicionales.\n",
    "\n",
    "    - `badge_local_product`: Indica que el producto se produce, fabrica o se envía desde la misma región o país en el que se realiza la transacción de compra. Si el valor es 1, significa que el producto tiene un distintivo que lo califica como un producto local. Si el valor es 0, indica que el producto no tiene este distintivo.\n",
    "\n",
    "    - `badge_product_quality`: Indica que el producto cumple con ciertos estándares de calidad, características o evaluaciones positivas por parte de los consumidores. Si el valor es 1, significa que el producto tiene un distintivo que lo califica como un producto de alta calidad. Si el valor es 0, indica que el producto no tiene este distintivo de calidad.\n",
    "\n",
    "    - `badge_fast_shipping`: Indica que el producto se enviará y entregará en un plazo más corto en comparación con otras opciones de envío estándar. Si el valor es 1, significa que el producto tiene un distintivo que indica un envío rápido. Si el valor es 0, indica que el producto no tiene este distintivo de envío rápido.\n",
    "\n",
    "    - `shipping_is_express`: Se refiere a si una opción de envío para un producto en una plataforma de comercio electrónico se considera como \"envío exprés\" o \"envío rápido\". Si el valor es 1, significa que la opción de envío asociada se considera como una entrega rápida o exprés. Si el valor es 0, indica que la opción de envío no se considera como envío exprés.\n",
    "\n",
    "    Todas estas columnas cumplen un patrón, y es que los 0 corresponden con 'No' y los 1 con 'Si'. Por esto, en este ejercicio deberéis reemplazar los 0: No y los 1: Si. \n",
    "\n",
    "\n",
    "6. Calificación de la calidad del producto. Sobreescribe la columna `badge_product_quality`  utilizando `apply()` para asignar \"Buena\" a las filas donde 'badge_product_quality' sea \"No\" y \"Excelente\" donde sea \"Si\".\n",
    "\n",
    "\n",
    "7. Cálculo de descuento. Crea una nueva columna `discount_percentage` utilizando `apply()` que calcule el porcentaje de descuento  basado en las columnas 'price' y 'retail_price', redondea los decimales a 2. Después elimina las columnas de `average_discount` y `mean_discount` \n",
    "\n",
    "8. Evaluación de la valoración del vendedor. Utiliza `apply()` para crear una nueva columna 'seller_reputation' donde los valores sean \"Buena\" si 'merchant_rating' es mayor o igual a 4, y \"Regular\" si es menor a 4. Después elimina la columna `merchant_rating`. \n",
    "\n",
    "9. Guarda los resultados en un DataFrame para usarlo en la próxima lección. \n"
   ]
  },
  {
   "cell_type": "code",
   "execution_count": 20,
   "metadata": {},
   "outputs": [],
   "source": [
    "import pandas as pd\n",
    "import numpy as np\n",
    "import re\n",
    "pd.set_option('display.max_columns', None)"
   ]
  },
  {
   "cell_type": "code",
   "execution_count": 61,
   "metadata": {},
   "outputs": [
    {
     "data": {
      "text/html": [
       "<div>\n",
       "<style scoped>\n",
       "    .dataframe tbody tr th:only-of-type {\n",
       "        vertical-align: middle;\n",
       "    }\n",
       "\n",
       "    .dataframe tbody tr th {\n",
       "        vertical-align: top;\n",
       "    }\n",
       "\n",
       "    .dataframe thead th {\n",
       "        text-align: right;\n",
       "    }\n",
       "</style>\n",
       "<table border=\"1\" class=\"dataframe\">\n",
       "  <thead>\n",
       "    <tr style=\"text-align: right;\">\n",
       "      <th></th>\n",
       "      <th>Unnamed: 0</th>\n",
       "      <th>index</th>\n",
       "      <th>merchant_id</th>\n",
       "      <th>listed_products</th>\n",
       "      <th>total_units_sold</th>\n",
       "      <th>mean_units_sold_per_product</th>\n",
       "      <th>rating</th>\n",
       "      <th>merchant_ratings_count</th>\n",
       "      <th>mean_product_prices</th>\n",
       "      <th>mean_retail_prices</th>\n",
       "      <th>average_discount</th>\n",
       "      <th>mean_discount</th>\n",
       "      <th>mean_product_ratings_count</th>\n",
       "      <th>index_r</th>\n",
       "      <th>title</th>\n",
       "      <th>title_orig</th>\n",
       "      <th>price</th>\n",
       "      <th>retail_price</th>\n",
       "      <th>units_sold</th>\n",
       "      <th>uses_ad_boosts</th>\n",
       "      <th>rating_r</th>\n",
       "      <th>rating_count</th>\n",
       "      <th>rating_five_count</th>\n",
       "      <th>rating_four_count</th>\n",
       "      <th>rating_three_count</th>\n",
       "      <th>rating_two_count</th>\n",
       "      <th>rating_one_count</th>\n",
       "      <th>badge_local_product</th>\n",
       "      <th>badge_product_quality</th>\n",
       "      <th>badge_fast_shipping</th>\n",
       "      <th>tags</th>\n",
       "      <th>product_color</th>\n",
       "      <th>product_variation_size_id</th>\n",
       "      <th>shipping_option_name</th>\n",
       "      <th>shipping_option_price</th>\n",
       "      <th>shipping_is_express</th>\n",
       "      <th>countries_shipped_to</th>\n",
       "      <th>inventory_total</th>\n",
       "      <th>origin_country</th>\n",
       "      <th>merchant_name</th>\n",
       "      <th>merchant_info_subtitle</th>\n",
       "      <th>merchant_rating_count</th>\n",
       "      <th>merchant_rating</th>\n",
       "      <th>merchant_id.1</th>\n",
       "      <th>merchant_profile_picture</th>\n",
       "      <th>product_url</th>\n",
       "      <th>product_id</th>\n",
       "    </tr>\n",
       "  </thead>\n",
       "  <tbody>\n",
       "    <tr>\n",
       "      <th>0</th>\n",
       "      <td>0</td>\n",
       "      <td>0</td>\n",
       "      <td>5357bcf2bb72c5504882e889</td>\n",
       "      <td>2</td>\n",
       "      <td>120000</td>\n",
       "      <td>60000.0</td>\n",
       "      <td>4.219</td>\n",
       "      <td>320031.0</td>\n",
       "      <td>9.0</td>\n",
       "      <td>20.0</td>\n",
       "      <td>54.0</td>\n",
       "      <td>54.0</td>\n",
       "      <td>8836.0</td>\n",
       "      <td>1018</td>\n",
       "      <td>Femmes dentelle manches courtes hauts hauts ch...</td>\n",
       "      <td>Women Lace Short Sleeve Long Tops Blouse Shirt...</td>\n",
       "      <td>7.0</td>\n",
       "      <td>22</td>\n",
       "      <td>100000</td>\n",
       "      <td>1</td>\n",
       "      <td>3.82</td>\n",
       "      <td>11913</td>\n",
       "      <td>5355.0</td>\n",
       "      <td>2430.0</td>\n",
       "      <td>1974.0</td>\n",
       "      <td>960.0</td>\n",
       "      <td>1194.0</td>\n",
       "      <td>0</td>\n",
       "      <td>0</td>\n",
       "      <td>0</td>\n",
       "      <td>blouse,Fashion,Shirt,boho,Tops,summer t-shirts...</td>\n",
       "      <td>NaN</td>\n",
       "      <td>S</td>\n",
       "      <td>Livraison standard</td>\n",
       "      <td>2</td>\n",
       "      <td>0</td>\n",
       "      <td>46</td>\n",
       "      <td>50</td>\n",
       "      <td>CN</td>\n",
       "      <td>primesalecolimited</td>\n",
       "      <td>90 % avis positifs</td>\n",
       "      <td>320031</td>\n",
       "      <td>4.218866</td>\n",
       "      <td>5357bcf2bb72c5504882e889</td>\n",
       "      <td>https://s3-us-west-1.amazonaws.com/sweeper-pro...</td>\n",
       "      <td>https://www.wish.com/c/567cb0925ff12c4829f07dfb</td>\n",
       "      <td>567cb0925ff12c4829f07dfb</td>\n",
       "    </tr>\n",
       "  </tbody>\n",
       "</table>\n",
       "</div>"
      ],
      "text/plain": [
       "   Unnamed: 0  index               merchant_id  listed_products  \\\n",
       "0           0      0  5357bcf2bb72c5504882e889                2   \n",
       "\n",
       "   total_units_sold  mean_units_sold_per_product  rating  \\\n",
       "0            120000                      60000.0   4.219   \n",
       "\n",
       "   merchant_ratings_count  mean_product_prices  mean_retail_prices  \\\n",
       "0                320031.0                  9.0                20.0   \n",
       "\n",
       "   average_discount  mean_discount  mean_product_ratings_count  index_r  \\\n",
       "0              54.0           54.0                      8836.0     1018   \n",
       "\n",
       "                                               title  \\\n",
       "0  Femmes dentelle manches courtes hauts hauts ch...   \n",
       "\n",
       "                                          title_orig  price  retail_price  \\\n",
       "0  Women Lace Short Sleeve Long Tops Blouse Shirt...    7.0            22   \n",
       "\n",
       "   units_sold  uses_ad_boosts  rating_r  rating_count  rating_five_count  \\\n",
       "0      100000               1      3.82         11913             5355.0   \n",
       "\n",
       "   rating_four_count  rating_three_count  rating_two_count  rating_one_count  \\\n",
       "0             2430.0              1974.0             960.0            1194.0   \n",
       "\n",
       "   badge_local_product  badge_product_quality  badge_fast_shipping  \\\n",
       "0                    0                      0                    0   \n",
       "\n",
       "                                                tags product_color  \\\n",
       "0  blouse,Fashion,Shirt,boho,Tops,summer t-shirts...           NaN   \n",
       "\n",
       "  product_variation_size_id shipping_option_name  shipping_option_price  \\\n",
       "0                         S   Livraison standard                      2   \n",
       "\n",
       "   shipping_is_express  countries_shipped_to  inventory_total origin_country  \\\n",
       "0                    0                    46               50             CN   \n",
       "\n",
       "        merchant_name merchant_info_subtitle  merchant_rating_count  \\\n",
       "0  primesalecolimited     90 % avis positifs                 320031   \n",
       "\n",
       "   merchant_rating             merchant_id.1  \\\n",
       "0         4.218866  5357bcf2bb72c5504882e889   \n",
       "\n",
       "                            merchant_profile_picture  \\\n",
       "0  https://s3-us-west-1.amazonaws.com/sweeper-pro...   \n",
       "\n",
       "                                       product_url                product_id  \n",
       "0  https://www.wish.com/c/567cb0925ff12c4829f07dfb  567cb0925ff12c4829f07dfb  "
      ]
     },
     "execution_count": 61,
     "metadata": {},
     "output_type": "execute_result"
    }
   ],
   "source": [
    "df = pd.read_csv('df-rating-insight-leccion-04.csv')\n",
    "df.head(1)"
   ]
  },
  {
   "cell_type": "markdown",
   "metadata": {},
   "source": [
    "1. Total de unidades vendidas por país de origen del vendedor. Debéis agrupar los datos según el país de origen del vendedor y calcular el total de unidades vendidas para cada país. Esto nos dará una idea de qué países tienen una mayor participación en las ventas totales y cuáles tienen menos. Devuelve los resultados en un DataFrame ordenados de mayor a menor en función de la cantidad de unidades vendidas. "
   ]
  },
  {
   "cell_type": "code",
   "execution_count": 23,
   "metadata": {},
   "outputs": [
    {
     "data": {
      "text/html": [
       "<div>\n",
       "<style scoped>\n",
       "    .dataframe tbody tr th:only-of-type {\n",
       "        vertical-align: middle;\n",
       "    }\n",
       "\n",
       "    .dataframe tbody tr th {\n",
       "        vertical-align: top;\n",
       "    }\n",
       "\n",
       "    .dataframe thead th {\n",
       "        text-align: right;\n",
       "    }\n",
       "</style>\n",
       "<table border=\"1\" class=\"dataframe\">\n",
       "  <thead>\n",
       "    <tr style=\"text-align: right;\">\n",
       "      <th></th>\n",
       "      <th>origin_country</th>\n",
       "      <th>total_units_sold</th>\n",
       "    </tr>\n",
       "  </thead>\n",
       "  <tbody>\n",
       "    <tr>\n",
       "      <th>1</th>\n",
       "      <td>CN</td>\n",
       "      <td>17371643</td>\n",
       "    </tr>\n",
       "    <tr>\n",
       "      <th>4</th>\n",
       "      <td>US</td>\n",
       "      <td>60460</td>\n",
       "    </tr>\n",
       "    <tr>\n",
       "      <th>3</th>\n",
       "      <td>SG</td>\n",
       "      <td>40200</td>\n",
       "    </tr>\n",
       "    <tr>\n",
       "      <th>2</th>\n",
       "      <td>GB</td>\n",
       "      <td>1000</td>\n",
       "    </tr>\n",
       "    <tr>\n",
       "      <th>5</th>\n",
       "      <td>VE</td>\n",
       "      <td>650</td>\n",
       "    </tr>\n",
       "    <tr>\n",
       "      <th>0</th>\n",
       "      <td>AT</td>\n",
       "      <td>100</td>\n",
       "    </tr>\n",
       "  </tbody>\n",
       "</table>\n",
       "</div>"
      ],
      "text/plain": [
       "  origin_country  total_units_sold\n",
       "1             CN          17371643\n",
       "4             US             60460\n",
       "3             SG             40200\n",
       "2             GB              1000\n",
       "5             VE               650\n",
       "0             AT               100"
      ]
     },
     "execution_count": 23,
     "metadata": {},
     "output_type": "execute_result"
    }
   ],
   "source": [
    "total_unid_pais = df.groupby('origin_country')['total_units_sold'].sum().reset_index() # .reset_index() restablece el índice del DataFrame agrupado para que origin_country sea una columna.\n",
    "total_unid_pais = total_unid_pais.sort_values(by='total_units_sold', ascending=False) # .sort_values() método de pandas que ordena una Serie\n",
    "total_unid_pais"
   ]
  },
  {
   "cell_type": "markdown",
   "metadata": {},
   "source": [
    "2. Estadísticas de precio por país de envío. Vamos a explorar el precio promedio y el precio máximo de los productos según el país al que se envían. Al hacer esto, podremos entender cómo varían los precios según el destino del envío y si hay alguna tendencia interesante que valga la pena analizar.  Devuelve los resultados en un DataFrame. "
   ]
  },
  {
   "cell_type": "code",
   "execution_count": 26,
   "metadata": {},
   "outputs": [
    {
     "data": {
      "text/html": [
       "<div>\n",
       "<style scoped>\n",
       "    .dataframe tbody tr th:only-of-type {\n",
       "        vertical-align: middle;\n",
       "    }\n",
       "\n",
       "    .dataframe tbody tr th {\n",
       "        vertical-align: top;\n",
       "    }\n",
       "\n",
       "    .dataframe thead th {\n",
       "        text-align: right;\n",
       "    }\n",
       "</style>\n",
       "<table border=\"1\" class=\"dataframe\">\n",
       "  <thead>\n",
       "    <tr style=\"text-align: right;\">\n",
       "      <th></th>\n",
       "      <th>countries_shipped_to</th>\n",
       "      <th>mean</th>\n",
       "      <th>max</th>\n",
       "    </tr>\n",
       "  </thead>\n",
       "  <tbody>\n",
       "    <tr>\n",
       "      <th>0</th>\n",
       "      <td>6</td>\n",
       "      <td>6.000000</td>\n",
       "      <td>6.0</td>\n",
       "    </tr>\n",
       "    <tr>\n",
       "      <th>1</th>\n",
       "      <td>8</td>\n",
       "      <td>5.298333</td>\n",
       "      <td>6.0</td>\n",
       "    </tr>\n",
       "    <tr>\n",
       "      <th>2</th>\n",
       "      <td>9</td>\n",
       "      <td>6.707500</td>\n",
       "      <td>8.0</td>\n",
       "    </tr>\n",
       "    <tr>\n",
       "      <th>3</th>\n",
       "      <td>10</td>\n",
       "      <td>12.111429</td>\n",
       "      <td>18.0</td>\n",
       "    </tr>\n",
       "    <tr>\n",
       "      <th>4</th>\n",
       "      <td>11</td>\n",
       "      <td>8.500000</td>\n",
       "      <td>12.0</td>\n",
       "    </tr>\n",
       "    <tr>\n",
       "      <th>...</th>\n",
       "      <td>...</td>\n",
       "      <td>...</td>\n",
       "      <td>...</td>\n",
       "    </tr>\n",
       "    <tr>\n",
       "      <th>89</th>\n",
       "      <td>135</td>\n",
       "      <td>5.355000</td>\n",
       "      <td>7.0</td>\n",
       "    </tr>\n",
       "    <tr>\n",
       "      <th>90</th>\n",
       "      <td>137</td>\n",
       "      <td>8.243333</td>\n",
       "      <td>11.0</td>\n",
       "    </tr>\n",
       "    <tr>\n",
       "      <th>91</th>\n",
       "      <td>138</td>\n",
       "      <td>6.036667</td>\n",
       "      <td>9.0</td>\n",
       "    </tr>\n",
       "    <tr>\n",
       "      <th>92</th>\n",
       "      <td>139</td>\n",
       "      <td>8.975000</td>\n",
       "      <td>13.0</td>\n",
       "    </tr>\n",
       "    <tr>\n",
       "      <th>93</th>\n",
       "      <td>140</td>\n",
       "      <td>5.220000</td>\n",
       "      <td>7.0</td>\n",
       "    </tr>\n",
       "  </tbody>\n",
       "</table>\n",
       "<p>94 rows × 3 columns</p>\n",
       "</div>"
      ],
      "text/plain": [
       "    countries_shipped_to       mean   max\n",
       "0                      6   6.000000   6.0\n",
       "1                      8   5.298333   6.0\n",
       "2                      9   6.707500   8.0\n",
       "3                     10  12.111429  18.0\n",
       "4                     11   8.500000  12.0\n",
       "..                   ...        ...   ...\n",
       "89                   135   5.355000   7.0\n",
       "90                   137   8.243333  11.0\n",
       "91                   138   6.036667   9.0\n",
       "92                   139   8.975000  13.0\n",
       "93                   140   5.220000   7.0\n",
       "\n",
       "[94 rows x 3 columns]"
      ]
     },
     "execution_count": 26,
     "metadata": {},
     "output_type": "execute_result"
    }
   ],
   "source": [
    "df_pais_precio = df.groupby('countries_shipped_to')['price'].agg(['mean', 'max']).reset_index()\n",
    "df_pais_precio "
   ]
  },
  {
   "cell_type": "markdown",
   "metadata": {},
   "source": [
    "3. Conteo de productos con y sin distintivo de producto local. Vamos a clasificar los productos según si tienen o no un distintivo de producto local. Luego, calcularemos el conteo de productos en cada categoría para comprender cuántos productos tienen este distintivo y cuántos no. Esto puede proporcionarnos información sobre cómo se promocionan los productos con esta característica. Devuelve los resultados en un DataFrame. "
   ]
  },
  {
   "cell_type": "code",
   "execution_count": 30,
   "metadata": {},
   "outputs": [
    {
     "data": {
      "text/html": [
       "<div>\n",
       "<style scoped>\n",
       "    .dataframe tbody tr th:only-of-type {\n",
       "        vertical-align: middle;\n",
       "    }\n",
       "\n",
       "    .dataframe tbody tr th {\n",
       "        vertical-align: top;\n",
       "    }\n",
       "\n",
       "    .dataframe thead th {\n",
       "        text-align: right;\n",
       "    }\n",
       "</style>\n",
       "<table border=\"1\" class=\"dataframe\">\n",
       "  <thead>\n",
       "    <tr style=\"text-align: right;\">\n",
       "      <th></th>\n",
       "      <th>badge_local_product</th>\n",
       "      <th>product_id</th>\n",
       "    </tr>\n",
       "  </thead>\n",
       "  <tbody>\n",
       "    <tr>\n",
       "      <th>0</th>\n",
       "      <td>0</td>\n",
       "      <td>1544</td>\n",
       "    </tr>\n",
       "    <tr>\n",
       "      <th>1</th>\n",
       "      <td>1</td>\n",
       "      <td>29</td>\n",
       "    </tr>\n",
       "  </tbody>\n",
       "</table>\n",
       "</div>"
      ],
      "text/plain": [
       "   badge_local_product  product_id\n",
       "0                    0        1544\n",
       "1                    1          29"
      ]
     },
     "execution_count": 30,
     "metadata": {},
     "output_type": "execute_result"
    }
   ],
   "source": [
    "df_distintivo_local = df.groupby('badge_local_product')['product_id'].count().reset_index()\n",
    "df_distintivo_local"
   ]
  },
  {
   "cell_type": "markdown",
   "metadata": {},
   "source": [
    "Cambio nombre de segunda columna para mayor claridad:"
   ]
  },
  {
   "cell_type": "code",
   "execution_count": 31,
   "metadata": {},
   "outputs": [
    {
     "data": {
      "text/html": [
       "<div>\n",
       "<style scoped>\n",
       "    .dataframe tbody tr th:only-of-type {\n",
       "        vertical-align: middle;\n",
       "    }\n",
       "\n",
       "    .dataframe tbody tr th {\n",
       "        vertical-align: top;\n",
       "    }\n",
       "\n",
       "    .dataframe thead th {\n",
       "        text-align: right;\n",
       "    }\n",
       "</style>\n",
       "<table border=\"1\" class=\"dataframe\">\n",
       "  <thead>\n",
       "    <tr style=\"text-align: right;\">\n",
       "      <th></th>\n",
       "      <th>badge_local_product</th>\n",
       "      <th>product_count</th>\n",
       "    </tr>\n",
       "  </thead>\n",
       "  <tbody>\n",
       "    <tr>\n",
       "      <th>0</th>\n",
       "      <td>0</td>\n",
       "      <td>1544</td>\n",
       "    </tr>\n",
       "    <tr>\n",
       "      <th>1</th>\n",
       "      <td>1</td>\n",
       "      <td>29</td>\n",
       "    </tr>\n",
       "  </tbody>\n",
       "</table>\n",
       "</div>"
      ],
      "text/plain": [
       "   badge_local_product  product_count\n",
       "0                    0           1544\n",
       "1                    1             29"
      ]
     },
     "execution_count": 31,
     "metadata": {},
     "output_type": "execute_result"
    }
   ],
   "source": [
    "df_distintivo_local = df_distintivo_local.rename(columns={'product_id': 'product_count'})\n",
    "df_distintivo_local "
   ]
  },
  {
   "cell_type": "markdown",
   "metadata": {},
   "source": [
    "4. Promedio de unidades vendidas por tipo de envío. Nuestro objetivo es analizar cómo se correlaciona el tipo de envío (columna `shipping_option_name` ) con las unidades vendidas. Vamos a calcular el promedio de unidades vendidas para cada tipo de opción de envío. Esto podría ayudarnos a determinar si ciertos métodos de envío están relacionados con un mayor o menor rendimiento en las ventas. Devuelve los resultados en un DataFrame.  ¿Qué conclusiones puedes sacar de este resultado?"
   ]
  },
  {
   "cell_type": "code",
   "execution_count": 32,
   "metadata": {},
   "outputs": [
    {
     "data": {
      "text/html": [
       "<div>\n",
       "<style scoped>\n",
       "    .dataframe tbody tr th:only-of-type {\n",
       "        vertical-align: middle;\n",
       "    }\n",
       "\n",
       "    .dataframe tbody tr th {\n",
       "        vertical-align: top;\n",
       "    }\n",
       "\n",
       "    .dataframe thead th {\n",
       "        text-align: right;\n",
       "    }\n",
       "</style>\n",
       "<table border=\"1\" class=\"dataframe\">\n",
       "  <thead>\n",
       "    <tr style=\"text-align: right;\">\n",
       "      <th></th>\n",
       "      <th>shipping_option_name</th>\n",
       "      <th>total_units_sold</th>\n",
       "    </tr>\n",
       "  </thead>\n",
       "  <tbody>\n",
       "    <tr>\n",
       "      <th>0</th>\n",
       "      <td>Ekspresowa wysyłka</td>\n",
       "      <td>10000.000000</td>\n",
       "    </tr>\n",
       "    <tr>\n",
       "      <th>1</th>\n",
       "      <td>Envio Padrão</td>\n",
       "      <td>12177.777778</td>\n",
       "    </tr>\n",
       "    <tr>\n",
       "      <th>2</th>\n",
       "      <td>Envío normal</td>\n",
       "      <td>16220.000000</td>\n",
       "    </tr>\n",
       "    <tr>\n",
       "      <th>3</th>\n",
       "      <td>Expediere Standard</td>\n",
       "      <td>900.000000</td>\n",
       "    </tr>\n",
       "    <tr>\n",
       "      <th>4</th>\n",
       "      <td>Livraison Express</td>\n",
       "      <td>400.000000</td>\n",
       "    </tr>\n",
       "    <tr>\n",
       "      <th>5</th>\n",
       "      <td>Livraison standard</td>\n",
       "      <td>11359.020557</td>\n",
       "    </tr>\n",
       "    <tr>\n",
       "      <th>6</th>\n",
       "      <td>Spedizione standard</td>\n",
       "      <td>550.000000</td>\n",
       "    </tr>\n",
       "    <tr>\n",
       "      <th>7</th>\n",
       "      <td>Standard Shipping</td>\n",
       "      <td>9650.000000</td>\n",
       "    </tr>\n",
       "    <tr>\n",
       "      <th>8</th>\n",
       "      <td>Standardowa wysyłka</td>\n",
       "      <td>27733.333333</td>\n",
       "    </tr>\n",
       "    <tr>\n",
       "      <th>9</th>\n",
       "      <td>Standardversand</td>\n",
       "      <td>6766.666667</td>\n",
       "    </tr>\n",
       "    <tr>\n",
       "      <th>10</th>\n",
       "      <td>Standart Gönderi</td>\n",
       "      <td>9200.000000</td>\n",
       "    </tr>\n",
       "    <tr>\n",
       "      <th>11</th>\n",
       "      <td>Стандартная доставка</td>\n",
       "      <td>8033.333333</td>\n",
       "    </tr>\n",
       "    <tr>\n",
       "      <th>12</th>\n",
       "      <td>الشحن القياسي</td>\n",
       "      <td>400.000000</td>\n",
       "    </tr>\n",
       "    <tr>\n",
       "      <th>13</th>\n",
       "      <td>การส่งสินค้ามาตรฐาน</td>\n",
       "      <td>37950.000000</td>\n",
       "    </tr>\n",
       "    <tr>\n",
       "      <th>14</th>\n",
       "      <td>ការដឹកជញ្ជូនតាមស្តង់ដារ</td>\n",
       "      <td>10000.000000</td>\n",
       "    </tr>\n",
       "  </tbody>\n",
       "</table>\n",
       "</div>"
      ],
      "text/plain": [
       "       shipping_option_name  total_units_sold\n",
       "0        Ekspresowa wysyłka      10000.000000\n",
       "1              Envio Padrão      12177.777778\n",
       "2              Envío normal      16220.000000\n",
       "3        Expediere Standard        900.000000\n",
       "4         Livraison Express        400.000000\n",
       "5        Livraison standard      11359.020557\n",
       "6       Spedizione standard        550.000000\n",
       "7         Standard Shipping       9650.000000\n",
       "8       Standardowa wysyłka      27733.333333\n",
       "9           Standardversand       6766.666667\n",
       "10         Standart Gönderi       9200.000000\n",
       "11     Стандартная доставка       8033.333333\n",
       "12            الشحن القياسي        400.000000\n",
       "13      การส่งสินค้ามาตรฐาน      37950.000000\n",
       "14  ការដឹកជញ្ជូនតាមស្តង់ដារ      10000.000000"
      ]
     },
     "execution_count": 32,
     "metadata": {},
     "output_type": "execute_result"
    }
   ],
   "source": [
    "df_avg_unid_envio = df.groupby('shipping_option_name')['total_units_sold'].mean().reset_index()\n",
    "df_avg_unid_envio"
   ]
  },
  {
   "cell_type": "code",
   "execution_count": 34,
   "metadata": {},
   "outputs": [
    {
     "data": {
      "text/html": [
       "<div>\n",
       "<style scoped>\n",
       "    .dataframe tbody tr th:only-of-type {\n",
       "        vertical-align: middle;\n",
       "    }\n",
       "\n",
       "    .dataframe tbody tr th {\n",
       "        vertical-align: top;\n",
       "    }\n",
       "\n",
       "    .dataframe thead th {\n",
       "        text-align: right;\n",
       "    }\n",
       "</style>\n",
       "<table border=\"1\" class=\"dataframe\">\n",
       "  <thead>\n",
       "    <tr style=\"text-align: right;\">\n",
       "      <th></th>\n",
       "      <th>shipping_option_name</th>\n",
       "      <th>average_units_sold</th>\n",
       "    </tr>\n",
       "  </thead>\n",
       "  <tbody>\n",
       "    <tr>\n",
       "      <th>0</th>\n",
       "      <td>Ekspresowa wysyłka</td>\n",
       "      <td>10000.000000</td>\n",
       "    </tr>\n",
       "    <tr>\n",
       "      <th>1</th>\n",
       "      <td>Envio Padrão</td>\n",
       "      <td>12177.777778</td>\n",
       "    </tr>\n",
       "    <tr>\n",
       "      <th>2</th>\n",
       "      <td>Envío normal</td>\n",
       "      <td>16220.000000</td>\n",
       "    </tr>\n",
       "    <tr>\n",
       "      <th>3</th>\n",
       "      <td>Expediere Standard</td>\n",
       "      <td>900.000000</td>\n",
       "    </tr>\n",
       "    <tr>\n",
       "      <th>4</th>\n",
       "      <td>Livraison Express</td>\n",
       "      <td>400.000000</td>\n",
       "    </tr>\n",
       "    <tr>\n",
       "      <th>5</th>\n",
       "      <td>Livraison standard</td>\n",
       "      <td>11359.020557</td>\n",
       "    </tr>\n",
       "    <tr>\n",
       "      <th>6</th>\n",
       "      <td>Spedizione standard</td>\n",
       "      <td>550.000000</td>\n",
       "    </tr>\n",
       "    <tr>\n",
       "      <th>7</th>\n",
       "      <td>Standard Shipping</td>\n",
       "      <td>9650.000000</td>\n",
       "    </tr>\n",
       "    <tr>\n",
       "      <th>8</th>\n",
       "      <td>Standardowa wysyłka</td>\n",
       "      <td>27733.333333</td>\n",
       "    </tr>\n",
       "    <tr>\n",
       "      <th>9</th>\n",
       "      <td>Standardversand</td>\n",
       "      <td>6766.666667</td>\n",
       "    </tr>\n",
       "    <tr>\n",
       "      <th>10</th>\n",
       "      <td>Standart Gönderi</td>\n",
       "      <td>9200.000000</td>\n",
       "    </tr>\n",
       "    <tr>\n",
       "      <th>11</th>\n",
       "      <td>Стандартная доставка</td>\n",
       "      <td>8033.333333</td>\n",
       "    </tr>\n",
       "    <tr>\n",
       "      <th>12</th>\n",
       "      <td>الشحن القياسي</td>\n",
       "      <td>400.000000</td>\n",
       "    </tr>\n",
       "    <tr>\n",
       "      <th>13</th>\n",
       "      <td>การส่งสินค้ามาตรฐาน</td>\n",
       "      <td>37950.000000</td>\n",
       "    </tr>\n",
       "    <tr>\n",
       "      <th>14</th>\n",
       "      <td>ការដឹកជញ្ជូនតាមស្តង់ដារ</td>\n",
       "      <td>10000.000000</td>\n",
       "    </tr>\n",
       "  </tbody>\n",
       "</table>\n",
       "</div>"
      ],
      "text/plain": [
       "       shipping_option_name  average_units_sold\n",
       "0        Ekspresowa wysyłka        10000.000000\n",
       "1              Envio Padrão        12177.777778\n",
       "2              Envío normal        16220.000000\n",
       "3        Expediere Standard          900.000000\n",
       "4         Livraison Express          400.000000\n",
       "5        Livraison standard        11359.020557\n",
       "6       Spedizione standard          550.000000\n",
       "7         Standard Shipping         9650.000000\n",
       "8       Standardowa wysyłka        27733.333333\n",
       "9           Standardversand         6766.666667\n",
       "10         Standart Gönderi         9200.000000\n",
       "11     Стандартная доставка         8033.333333\n",
       "12            الشحن القياسي          400.000000\n",
       "13      การส่งสินค้ามาตรฐาน        37950.000000\n",
       "14  ការដឹកជញ្ជូនតាមស្តង់ដារ        10000.000000"
      ]
     },
     "execution_count": 34,
     "metadata": {},
     "output_type": "execute_result"
    }
   ],
   "source": [
    "df_avg_unid_envio = df_avg_unid_envio.rename(columns={'total_units_sold': 'average_units_sold'})\n",
    "df_avg_unid_envio "
   ]
  },
  {
   "cell_type": "markdown",
   "metadata": {},
   "source": [
    "5. Reemplazo de valores. A lo largo del DataFrame tenemos algunas columnas cuyos valores son cero y uno, lo que podría llevar a confusión en su interpretación."
   ]
  },
  {
   "cell_type": "code",
   "execution_count": 62,
   "metadata": {},
   "outputs": [
    {
     "data": {
      "text/html": [
       "<div>\n",
       "<style scoped>\n",
       "    .dataframe tbody tr th:only-of-type {\n",
       "        vertical-align: middle;\n",
       "    }\n",
       "\n",
       "    .dataframe tbody tr th {\n",
       "        vertical-align: top;\n",
       "    }\n",
       "\n",
       "    .dataframe thead th {\n",
       "        text-align: right;\n",
       "    }\n",
       "</style>\n",
       "<table border=\"1\" class=\"dataframe\">\n",
       "  <thead>\n",
       "    <tr style=\"text-align: right;\">\n",
       "      <th></th>\n",
       "      <th>uses_ad_boosts</th>\n",
       "      <th>badge_local_product</th>\n",
       "      <th>badge_product_quality</th>\n",
       "      <th>badge_fast_shipping</th>\n",
       "      <th>shipping_is_express</th>\n",
       "    </tr>\n",
       "  </thead>\n",
       "  <tbody>\n",
       "    <tr>\n",
       "      <th>616</th>\n",
       "      <td>Si</td>\n",
       "      <td>No</td>\n",
       "      <td>No</td>\n",
       "      <td>No</td>\n",
       "      <td>No</td>\n",
       "    </tr>\n",
       "    <tr>\n",
       "      <th>297</th>\n",
       "      <td>No</td>\n",
       "      <td>No</td>\n",
       "      <td>No</td>\n",
       "      <td>No</td>\n",
       "      <td>No</td>\n",
       "    </tr>\n",
       "    <tr>\n",
       "      <th>834</th>\n",
       "      <td>Si</td>\n",
       "      <td>No</td>\n",
       "      <td>No</td>\n",
       "      <td>No</td>\n",
       "      <td>No</td>\n",
       "    </tr>\n",
       "    <tr>\n",
       "      <th>885</th>\n",
       "      <td>No</td>\n",
       "      <td>No</td>\n",
       "      <td>No</td>\n",
       "      <td>No</td>\n",
       "      <td>No</td>\n",
       "    </tr>\n",
       "    <tr>\n",
       "      <th>606</th>\n",
       "      <td>Si</td>\n",
       "      <td>No</td>\n",
       "      <td>No</td>\n",
       "      <td>No</td>\n",
       "      <td>No</td>\n",
       "    </tr>\n",
       "  </tbody>\n",
       "</table>\n",
       "</div>"
      ],
      "text/plain": [
       "    uses_ad_boosts badge_local_product badge_product_quality  \\\n",
       "616             Si                  No                    No   \n",
       "297             No                  No                    No   \n",
       "834             Si                  No                    No   \n",
       "885             No                  No                    No   \n",
       "606             Si                  No                    No   \n",
       "\n",
       "    badge_fast_shipping shipping_is_express  \n",
       "616                  No                  No  \n",
       "297                  No                  No  \n",
       "834                  No                  No  \n",
       "885                  No                  No  \n",
       "606                  No                  No  "
      ]
     },
     "execution_count": 62,
     "metadata": {},
     "output_type": "execute_result"
    }
   ],
   "source": [
    "c_remplazar = ['uses_ad_boosts', 'badge_local_product', 'badge_product_quality','badge_fast_shipping', 'shipping_is_express']\n",
    "\n",
    "df[c_remplazar] = df[c_remplazar].replace({0: 'No', 1: 'Si'})\n",
    "df[['uses_ad_boosts', 'badge_local_product', 'badge_product_quality','badge_fast_shipping', 'shipping_is_express']].sample(5)"
   ]
  },
  {
   "cell_type": "markdown",
   "metadata": {},
   "source": [
    "6. Calificación de la calidad del producto. Sobreescribe la columna `badge_product_quality`  utilizando `apply()` para asignar \"Buena\" a las filas donde 'badge_product_quality' sea \"No\" y \"Excelente\" donde sea \"Si\"."
   ]
  },
  {
   "cell_type": "code",
   "execution_count": 63,
   "metadata": {},
   "outputs": [
    {
     "data": {
      "text/plain": [
       "array(['No', 'Si'], dtype=object)"
      ]
     },
     "execution_count": 63,
     "metadata": {},
     "output_type": "execute_result"
    }
   ],
   "source": [
    "df['badge_product_quality'].unique()"
   ]
  },
  {
   "cell_type": "markdown",
   "metadata": {},
   "source": [
    "Creo funcion para poder usar .apply():"
   ]
  },
  {
   "cell_type": "code",
   "execution_count": 64,
   "metadata": {},
   "outputs": [],
   "source": [
    "def calificar_calidad(valor):\n",
    "    if valor == 'No':\n",
    "        return 'Buena'\n",
    "    elif valor == 'Si':\n",
    "        return 'Excelente' "
   ]
  },
  {
   "cell_type": "markdown",
   "metadata": {},
   "source": [
    "Aplico la función a la columna 'badge_product_quality':"
   ]
  },
  {
   "cell_type": "code",
   "execution_count": 65,
   "metadata": {},
   "outputs": [
    {
     "data": {
      "text/plain": [
       "array(['Buena', 'Excelente'], dtype=object)"
      ]
     },
     "execution_count": 65,
     "metadata": {},
     "output_type": "execute_result"
    }
   ],
   "source": [
    "df['badge_product_quality'] = df['badge_product_quality'].apply(calificar_calidad)\n",
    "df['badge_product_quality'].unique()"
   ]
  },
  {
   "cell_type": "markdown",
   "metadata": {},
   "source": [
    "7. Cálculo de descuento. Crea una nueva columna `discount_percentage` utilizando `apply()` que calcule el porcentaje de descuento  basado en las columnas 'price' y 'retail_price', redondea los decimales a 2. Después elimina las columnas de `average_discount` y `mean_discount` "
   ]
  },
  {
   "attachments": {
    "Captura de pantalla 2024-05-27 a las 0.04.18.png": {
     "image/png": "[encoded data removed]"
    }
   },
   "cell_type": "markdown",
   "metadata": {},
   "source": [
    "![Captura de pantalla 2024-05-27 a las 0.04.18.png](<attachment:Captura de pantalla 2024-05-27 a las 0.04.18.png>)"
   ]
  },
  {
   "cell_type": "code",
   "execution_count": 68,
   "metadata": {},
   "outputs": [],
   "source": [
    "def calcular_descuento(fila):\n",
    "    return round(((fila['retail_price'] - fila['price']) / fila['retail_price']) * 100, 2)  # método .round() redondea decimales."
   ]
  },
  {
   "cell_type": "markdown",
   "metadata": {},
   "source": [
    "Aplico funcion para crear nueva columna 'discount_percentage':"
   ]
  },
  {
   "cell_type": "code",
   "execution_count": 69,
   "metadata": {},
   "outputs": [
    {
     "data": {
      "text/plain": [
       "0       68.18\n",
       "1       38.89\n",
       "2       80.00\n",
       "3      -14.29\n",
       "4       62.16\n",
       "        ...  \n",
       "1568   -10.00\n",
       "1569     0.00\n",
       "1570    69.78\n",
       "1571     0.00\n",
       "1572    63.33\n",
       "Name: discount_percentage, Length: 1573, dtype: float64"
      ]
     },
     "execution_count": 69,
     "metadata": {},
     "output_type": "execute_result"
    }
   ],
   "source": [
    "df['discount_percentage'] = df.apply(calcular_descuento, axis=1) # Uso axis = 1 para crear columna\n",
    "df['discount_percentage']"
   ]
  },
  {
   "cell_type": "markdown",
   "metadata": {},
   "source": [
    "Elimino columnas 'average_discount' y 'mean_discount':"
   ]
  },
  {
   "cell_type": "code",
   "execution_count": 70,
   "metadata": {},
   "outputs": [
    {
     "data": {
      "text/plain": [
       "Index(['Unnamed: 0', 'index', 'merchant_id', 'listed_products',\n",
       "       'total_units_sold', 'mean_units_sold_per_product', 'rating',\n",
       "       'merchant_ratings_count', 'mean_product_prices', 'mean_retail_prices',\n",
       "       'mean_product_ratings_count', 'index_r', 'title', 'title_orig', 'price',\n",
       "       'retail_price', 'units_sold', 'uses_ad_boosts', 'rating_r',\n",
       "       'rating_count', 'rating_five_count', 'rating_four_count',\n",
       "       'rating_three_count', 'rating_two_count', 'rating_one_count',\n",
       "       'badge_local_product', 'badge_product_quality', 'badge_fast_shipping',\n",
       "       'tags', 'product_color', 'product_variation_size_id',\n",
       "       'shipping_option_name', 'shipping_option_price', 'shipping_is_express',\n",
       "       'countries_shipped_to', 'inventory_total', 'origin_country',\n",
       "       'merchant_name', 'merchant_info_subtitle', 'merchant_rating_count',\n",
       "       'merchant_rating', 'merchant_id.1', 'merchant_profile_picture',\n",
       "       'product_url', 'product_id', 'discount_percentage'],\n",
       "      dtype='object')"
      ]
     },
     "execution_count": 70,
     "metadata": {},
     "output_type": "execute_result"
    }
   ],
   "source": [
    "df = df.drop(columns=['average_discount', 'mean_discount'])\n",
    "df.columns"
   ]
  },
  {
   "cell_type": "markdown",
   "metadata": {},
   "source": [
    "8. Evaluación de la valoración del vendedor. Utiliza `apply()` para crear una nueva columna 'seller_reputation' donde los valores sean \"Buena\" si 'merchant_rating' es mayor o igual a 4, y \"Regular\" si es menor a 4. Después elimina la columna `merchant_rating`. "
   ]
  },
  {
   "cell_type": "markdown",
   "metadata": {},
   "source": [
    "Primero creo funcion para poder usar .apply()"
   ]
  },
  {
   "cell_type": "code",
   "execution_count": 72,
   "metadata": {},
   "outputs": [],
   "source": [
    "def reputacion(valor):\n",
    "    if valor >= 4:\n",
    "        return 'Buena'\n",
    "    else:\n",
    "        return 'Regular'"
   ]
  },
  {
   "cell_type": "markdown",
   "metadata": {},
   "source": [
    "Aplico la función para crear la columna 'seller_reputation':"
   ]
  },
  {
   "cell_type": "code",
   "execution_count": 73,
   "metadata": {},
   "outputs": [
    {
     "data": {
      "text/plain": [
       "array(['Buena', 'Regular'], dtype=object)"
      ]
     },
     "execution_count": 73,
     "metadata": {},
     "output_type": "execute_result"
    }
   ],
   "source": [
    "df['seller_reputation'] = df['merchant_rating'].apply(reputacion)\n",
    "df['seller_reputation'].unique()"
   ]
  },
  {
   "cell_type": "markdown",
   "metadata": {},
   "source": [
    "Elimino  la columna 'merchant_rating':"
   ]
  },
  {
   "cell_type": "code",
   "execution_count": 74,
   "metadata": {},
   "outputs": [
    {
     "data": {
      "text/plain": [
       "Index(['Unnamed: 0', 'index', 'merchant_id', 'listed_products',\n",
       "       'total_units_sold', 'mean_units_sold_per_product', 'rating',\n",
       "       'merchant_ratings_count', 'mean_product_prices', 'mean_retail_prices',\n",
       "       'mean_product_ratings_count', 'index_r', 'title', 'title_orig', 'price',\n",
       "       'retail_price', 'units_sold', 'uses_ad_boosts', 'rating_r',\n",
       "       'rating_count', 'rating_five_count', 'rating_four_count',\n",
       "       'rating_three_count', 'rating_two_count', 'rating_one_count',\n",
       "       'badge_local_product', 'badge_product_quality', 'badge_fast_shipping',\n",
       "       'tags', 'product_color', 'product_variation_size_id',\n",
       "       'shipping_option_name', 'shipping_option_price', 'shipping_is_express',\n",
       "       'countries_shipped_to', 'inventory_total', 'origin_country',\n",
       "       'merchant_name', 'merchant_info_subtitle', 'merchant_rating_count',\n",
       "       'merchant_id.1', 'merchant_profile_picture', 'product_url',\n",
       "       'product_id', 'discount_percentage', 'seller_reputation'],\n",
       "      dtype='object')"
      ]
     },
     "execution_count": 74,
     "metadata": {},
     "output_type": "execute_result"
    }
   ],
   "source": [
    "df = df.drop(columns=['merchant_rating'])\n",
    "df.columns"
   ]
  },
  {
   "cell_type": "code",
   "execution_count": 75,
   "metadata": {},
   "outputs": [],
   "source": [
    "df = df.to_csv('df-rating-insight-leccion-05.csv')"
   ]
  }
 ],
 "metadata": {
  "kernelspec": {
   "display_name": "base",
   "language": "python",
   "name": "python3"
  },
  "language_info": {
   "codemirror_mode": {
    "name": "ipython",
    "version": 3
   },
   "file_extension": ".py",
   "mimetype": "text/x-python",
   "name": "python",
   "nbconvert_exporter": "python",
   "pygments_lexer": "ipython3",
   "version": "3.11.8"
  }
 },
 "nbformat": 4,
 "nbformat_minor": 2
}
