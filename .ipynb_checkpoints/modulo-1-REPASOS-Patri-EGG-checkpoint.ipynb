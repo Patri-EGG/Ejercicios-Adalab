{
 "cells": [
  {
   "cell_type": "markdown",
   "metadata": {},
   "source": [
    "----------LISTAS:"
   ]
  },
  {
   "cell_type": "markdown",
   "metadata": {},
   "source": [
    "1. Crear una lista: Crea una lista con cinco colores diferentes.\n"
   ]
  },
  {
   "cell_type": "code",
   "execution_count": null,
   "metadata": {},
   "outputs": [],
   "source": [
    "colores = [\"rojo\", \"verde\", \"azul\", \"amarillo\", \"naranja\"]"
   ]
  },
  {
   "cell_type": "markdown",
   "metadata": {},
   "source": [
    "2. Acceder a elementos: Accede al tercer elemento de la lista de colores."
   ]
  },
  {
   "cell_type": "code",
   "execution_count": null,
   "metadata": {},
   "outputs": [],
   "source": [
    "colores[2]\n"
   ]
  },
  {
   "cell_type": "markdown",
   "metadata": {},
   "source": [
    "Modificar elementos: Cambia el segundo color de la lista por otro de tu elección."
   ]
  },
  {
   "cell_type": "code",
   "execution_count": null,
   "metadata": {},
   "outputs": [],
   "source": [
    "colores[1] = \"marron\"\n",
    "colores"
   ]
  },
  {
   "cell_type": "markdown",
   "metadata": {},
   "source": [
    "Agregar elementos: Agrega dos colores nuevos a la lista."
   ]
  },
  {
   "cell_type": "code",
   "execution_count": null,
   "metadata": {},
   "outputs": [],
   "source": [
    "\n",
    "colores.append(\"morado\")\n",
    "colores.insert(2, \"turquesa\")\n",
    "colores"
   ]
  },
  {
   "cell_type": "markdown",
   "metadata": {},
   "source": [
    "Eliminar elementos: Elimina el cuarto color de la lista."
   ]
  },
  {
   "cell_type": "code",
   "execution_count": null,
   "metadata": {},
   "outputs": [],
   "source": [
    "colores.pop(3)\n",
    "colores"
   ]
  },
  {
   "cell_type": "markdown",
   "metadata": {},
   "source": [
    "Longitud de la lista: Encuentra la longitud de la lista de colores."
   ]
  },
  {
   "cell_type": "code",
   "execution_count": null,
   "metadata": {},
   "outputs": [],
   "source": [
    "len(colores)"
   ]
  },
  {
   "cell_type": "markdown",
   "metadata": {},
   "source": [
    "Ordenar la lista: Ordena la lista de colores en orden alfabético."
   ]
  },
  {
   "cell_type": "code",
   "execution_count": null,
   "metadata": {},
   "outputs": [],
   "source": [
    "colores.sort()\n",
    "colores"
   ]
  },
  {
   "cell_type": "markdown",
   "metadata": {},
   "source": [
    "Listas anidadas: Crea una lista de dos sublistas, cada una con tres nombres de frutas."
   ]
  },
  {
   "cell_type": "code",
   "execution_count": null,
   "metadata": {},
   "outputs": [],
   "source": [
    "listaFrutas = [\"naranja\",\"coco\",\"melon\"], [\"pera\",\"sandia\",\"melocoton\"]\n",
    "listaFrutas\n",
    " "
   ]
  },
  {
   "cell_type": "markdown",
   "metadata": {},
   "source": [
    "Concatenar listas: Concatena las dos sublistas en una sola lista de frutas."
   ]
  },
  {
   "cell_type": "code",
   "execution_count": null,
   "metadata": {},
   "outputs": [],
   "source": [
    "lista_frutas2 = listaFrutas[0] + listaFrutas[1]\n",
    "lista_frutas2"
   ]
  },
  {
   "cell_type": "markdown",
   "metadata": {},
   "source": [
    "Repetir elementos: Repite la lista de frutas tres veces para obtener una lista más larga."
   ]
  },
  {
   "cell_type": "code",
   "execution_count": null,
   "metadata": {},
   "outputs": [],
   "source": [
    "\n",
    "listaFrutas *3"
   ]
  },
  {
   "cell_type": "markdown",
   "metadata": {},
   "source": [
    "Acceder a la primera lista de frutas: Crea una variable llamada primera_lista y asigna la primera lista de frutas a esta variable."
   ]
  },
  {
   "cell_type": "code",
   "execution_count": null,
   "metadata": {},
   "outputs": [],
   "source": [
    "primera_lista = listaFrutas[0]\n",
    "primera_lista"
   ]
  },
  {
   "cell_type": "markdown",
   "metadata": {},
   "source": [
    "Acceder a la segunda lista de frutas: Crea una variable llamada segunda_lista y asigna la segunda lista de frutas a esta variable."
   ]
  },
  {
   "cell_type": "code",
   "execution_count": null,
   "metadata": {},
   "outputs": [],
   "source": [
    "segunda_lista = listaFrutas[1]\n",
    "segunda_lista"
   ]
  },
  {
   "cell_type": "markdown",
   "metadata": {},
   "source": [
    "Acceder a la primera fruta de la primera lista: Crea una variable llamada primera_fruta y asigna la primera fruta de la primera lista de frutas a esta variable."
   ]
  },
  {
   "cell_type": "code",
   "execution_count": null,
   "metadata": {},
   "outputs": [],
   "source": [
    "primera_fruta = primera_lista[0]\n",
    "primera_fruta"
   ]
  },
  {
   "cell_type": "markdown",
   "metadata": {},
   "source": [
    "Acceder a la última fruta de la segunda lista: Crea una variable llamada ultima_fruta y asigna la última fruta de la segunda lista de frutas a esta variable."
   ]
  },
  {
   "cell_type": "code",
   "execution_count": null,
   "metadata": {},
   "outputs": [],
   "source": [
    "segunda_lista[-1]\n",
    "ultima_fruta = \"melocoton\"\n",
    "ultima_fruta\n"
   ]
  },
  {
   "cell_type": "markdown",
   "metadata": {},
   "source": [
    "Acceder a la segunda fruta de la primera lista: Crea una variable llamada segunda_fruta y asigna la segunda fruta de la primera lista de frutas a esta variable."
   ]
  },
  {
   "cell_type": "code",
   "execution_count": null,
   "metadata": {},
   "outputs": [],
   "source": [
    "primera_lista[1]\n",
    "segunda_fruta = \"coco\"\n",
    "segunda_fruta"
   ]
  },
  {
   "cell_type": "markdown",
   "metadata": {},
   "source": [
    "Acceder a la última fruta de la primera lista: Crea una variable llamada ultima_fruta_primera_lista y asigna la última fruta de la primera lista de frutas a esta variable."
   ]
  },
  {
   "cell_type": "code",
   "execution_count": null,
   "metadata": {},
   "outputs": [],
   "source": [
    "ultima_fruta_primera_lista = primera_lista[-1]\n",
    "ultima_fruta_primera_lista"
   ]
  },
  {
   "cell_type": "markdown",
   "metadata": {},
   "source": [
    "Acceder a la longitud de la segunda lista de frutas: Crea una variable llamada longitud_segunda_lista y asigna la longitud (número de elementos) de la segunda lista de frutas a esta variable."
   ]
  },
  {
   "cell_type": "code",
   "execution_count": null,
   "metadata": {},
   "outputs": [],
   "source": [
    "len(segunda_lista)\n",
    "longitud_segunda_lista = 3\n",
    "longitud_segunda_lista"
   ]
  },
  {
   "cell_type": "markdown",
   "metadata": {},
   "source": [
    "Acceder a una porción de la segunda lista (slicing): Crea una variable llamada porcion_segunda_lista y asigna los dos primeros elementos de la segunda lista de frutas a esta variable utilizando el slicing."
   ]
  },
  {
   "cell_type": "code",
   "execution_count": null,
   "metadata": {},
   "outputs": [],
   "source": [
    "segunda_lista[0 : 2]\n",
    "porcion_segunda_lista = \"pera\", \"guayaba\"\n",
    "porcion_segunda_lista"
   ]
  },
  {
   "cell_type": "markdown",
   "metadata": {},
   "source": [
    "Cambiar la segunda fruta de la segunda lista:"
   ]
  },
  {
   "cell_type": "code",
   "execution_count": null,
   "metadata": {},
   "outputs": [],
   "source": [
    "segunda_lista[1] = \"aguacate\"\n",
    "segunda_lista"
   ]
  },
  {
   "cell_type": "markdown",
   "metadata": {},
   "source": [
    "Agregar una nueva fruta a la primera lista: Agrega una nueva fruta, \"kiwi\", a la primera lista de frutas."
   ]
  },
  {
   "cell_type": "code",
   "execution_count": null,
   "metadata": {},
   "outputs": [],
   "source": [
    "primera_lista.append(\"kiwi\")\n",
    "primera_lista"
   ]
  },
  {
   "cell_type": "markdown",
   "metadata": {},
   "source": [
    "----------TUPLAS"
   ]
  },
  {
   "cell_type": "markdown",
   "metadata": {},
   "source": [
    "1. Crear una tupla: Crea una tupla llamada mi_tupla con algunos elementos de tu elección."
   ]
  },
  {
   "cell_type": "code",
   "execution_count": null,
   "metadata": {},
   "outputs": [],
   "source": [
    "mi_tupla = (\"caballo\", \"030\", \"unicornio\", \"mantel\" )"
   ]
  },
  {
   "cell_type": "markdown",
   "metadata": {},
   "source": [
    "2. Acceder al primer elemento: Accede al primer elemento de mi_tupla y guárdalo en una variable llamada primer_elemento."
   ]
  },
  {
   "cell_type": "code",
   "execution_count": null,
   "metadata": {},
   "outputs": [],
   "source": [
    "primer_elemento = mi_tupla[0]\n",
    "primer_elemento"
   ]
  },
  {
   "cell_type": "markdown",
   "metadata": {},
   "source": [
    "3. Acceder al último elemento: Accede al último elemento de mi_tupla y guárdalo en una variable llamada ultimo_elemento."
   ]
  },
  {
   "cell_type": "code",
   "execution_count": null,
   "metadata": {},
   "outputs": [],
   "source": [
    "ultimo_elemento = mi_tupla[-1]\n",
    "ultimo_elemento"
   ]
  },
  {
   "cell_type": "markdown",
   "metadata": {},
   "source": [
    "4. Acceder a un rango de elementos: Utilizando el slicing, crea una nueva tupla llamada sub_tupla que contenga los elementos desde el segundo hasta el cuarto de mi_tupla."
   ]
  },
  {
   "cell_type": "code",
   "execution_count": null,
   "metadata": {},
   "outputs": [],
   "source": [
    "sub_tupla = mi_tupla[1:5]\n",
    "sub_tupla"
   ]
  },
  {
   "cell_type": "markdown",
   "metadata": {},
   "source": [
    "5. Concatenar dos tuplas: Crea otra tupla llamada otra_tupla y concaténala con mi_tupla para formar una nueva tupla llamada tupla_concatenada."
   ]
  },
  {
   "cell_type": "code",
   "execution_count": null,
   "metadata": {},
   "outputs": [],
   "source": [
    "otra_tupla = (\"escritorio\", \"lapiz\", \"avion\", \"persiana\")\n",
    "tupla_concatenada = mi_tupla + otra_tupla\n",
    "tupla_concatenada"
   ]
  },
  {
   "cell_type": "markdown",
   "metadata": {},
   "source": [
    "6. Encontrar la longitud: Encuentra la longitud de tupla_concatenada y guárdala en una variable llamada longitud."
   ]
  },
  {
   "cell_type": "code",
   "execution_count": null,
   "metadata": {},
   "outputs": [],
   "source": [
    "longitud = len(tupla_concatenada)\n",
    "longitud"
   ]
  },
  {
   "cell_type": "markdown",
   "metadata": {},
   "source": [
    "7. Buscar un elemento: Verifica si un elemento específico está presente en mi_tupla, por ejemplo, \"manzana\"."
   ]
  },
  {
   "cell_type": "code",
   "execution_count": null,
   "metadata": {},
   "outputs": [],
   "source": [
    "\"manzana\" in mi_tupla"
   ]
  },
  {
   "cell_type": "markdown",
   "metadata": {},
   "source": [
    "8. Contar elementos: Cuenta cuántas veces aparece un elemento específico en mi_tupla, por ejemplo, cuántas veces aparece \"pera\"."
   ]
  },
  {
   "cell_type": "code",
   "execution_count": null,
   "metadata": {},
   "outputs": [],
   "source": [
    "mi_tupla.count(\"peras\")"
   ]
  },
  {
   "cell_type": "markdown",
   "metadata": {},
   "source": [
    "9. Desempaquetar una tupla: Si tienes una tupla de nombres (nombre, apellido), desempaqueta los valores en dos variables separadas."
   ]
  },
  {
   "cell_type": "code",
   "execution_count": null,
   "metadata": {},
   "outputs": [],
   "source": [
    "nombres_completos = (\"Juan Pérez\", \"María González\", \"Luis Rodríguez\", \"Ana Martínez\")\n",
    "\n",
    "nombres = []\n",
    "apellidos = []\n",
    "\n",
    "for nombre_desempaquetado in nombres_completos:\n",
    "    nombre, apellido = nombre_desempaquetado.split() # split(vacio) itinera por espacios (barra espacio)\n",
    "    nombres.append(nombre)\n",
    "    apellidos.append(apellido)\n",
    "\n",
    "(nombres, apellidos)"
   ]
  },
  {
   "cell_type": "markdown",
   "metadata": {},
   "source": [
    "10. Convertir una lista en tupla: Crea una lista de números y conviértela en una tupla llamada tupla_desde_lista."
   ]
  },
  {
   "cell_type": "code",
   "execution_count": null,
   "metadata": {},
   "outputs": [],
   "source": [
    "lista_numeros = [2,3,6,4,7,89,66,4]\n",
    "tupla_desde_lista = tuple(lista_numeros)\n",
    "tupla_desde_lista"
   ]
  },
  {
   "cell_type": "markdown",
   "metadata": {},
   "source": [
    "Diccionarios\n",
    "1. Crear un diccionario: Crea un diccionario vacío llamado mi_diccionario con una key llamada apellido y que su value sea López."
   ]
  },
  {
   "cell_type": "code",
   "execution_count": null,
   "metadata": {},
   "outputs": [],
   "source": [
    "mi_diccionario = {\"apellido\" : \"López\" }\n",
    "mi_diccionario"
   ]
  },
  {
   "cell_type": "markdown",
   "metadata": {},
   "source": [
    "2. Agregar elementos: Agrega una clave-valor al diccionario mi_diccionario. Por ejemplo, agrega la clave \"nombre\" con el valor \"Juan\"."
   ]
  },
  {
   "cell_type": "code",
   "execution_count": null,
   "metadata": {},
   "outputs": [],
   "source": [
    "mi_diccionario[\"nombre\"] = \"Juan\"\n",
    "mi_diccionario"
   ]
  },
  {
   "cell_type": "markdown",
   "metadata": {},
   "source": [
    "3. Acceder a un valor: Accede al valor correspondiente a la clave \"nombre\" en mi_diccionario."
   ]
  },
  {
   "cell_type": "code",
   "execution_count": null,
   "metadata": {},
   "outputs": [],
   "source": [
    "mi_diccionario.get(\"nombre\")"
   ]
  },
  {
   "cell_type": "markdown",
   "metadata": {},
   "source": [
    "4. Modificar un valor: Cambia el valor de la clave \"nombre\" a \"Ana\"."
   ]
  },
  {
   "cell_type": "code",
   "execution_count": null,
   "metadata": {},
   "outputs": [],
   "source": [
    "mi_diccionario.update({\"nombre\" : \"Ana\"})\n",
    "mi_diccionario"
   ]
  },
  {
   "cell_type": "markdown",
   "metadata": {},
   "source": [
    "5. Eliminar un elemento: Elimina la clave \"nombre\" de mi_diccionario."
   ]
  },
  {
   "cell_type": "code",
   "execution_count": null,
   "metadata": {},
   "outputs": [],
   "source": [
    "mi_diccionario.pop(\"nombre\")"
   ]
  },
  {
   "cell_type": "code",
   "execution_count": null,
   "metadata": {},
   "outputs": [],
   "source": [
    "mi_diccionario"
   ]
  },
  {
   "cell_type": "markdown",
   "metadata": {},
   "source": [
    "6. Verificar existencia: Verifica si la clave \"apellido\" existe en mi_diccionario."
   ]
  },
  {
   "cell_type": "code",
   "execution_count": null,
   "metadata": {},
   "outputs": [],
   "source": [
    "\"apellido\" in mi_diccionario"
   ]
  },
  {
   "cell_type": "markdown",
   "metadata": {},
   "source": [
    "7. Obtener todas las claves: Obtén una lista de todas las claves en mi_diccionario."
   ]
  },
  {
   "cell_type": "code",
   "execution_count": null,
   "metadata": {},
   "outputs": [],
   "source": [
    "mi_diccionario.keys()"
   ]
  },
  {
   "cell_type": "markdown",
   "metadata": {},
   "source": [
    "8. Obtener todos los valores: Obtén una lista de todos los valores en mi_diccionario."
   ]
  },
  {
   "cell_type": "code",
   "execution_count": null,
   "metadata": {},
   "outputs": [],
   "source": [
    "mi_diccionario.values()"
   ]
  },
  {
   "cell_type": "markdown",
   "metadata": {},
   "source": [
    "9. Recorrer el diccionario: Usa un bucle for para recorrer y mostrar todas las claves y valores en mi_diccionario."
   ]
  },
  {
   "cell_type": "code",
   "execution_count": null,
   "metadata": {},
   "outputs": [],
   "source": [
    "for clave, valor in mi_diccionario.items() :\n",
    "    print(clave, valor)"
   ]
  },
  {
   "cell_type": "markdown",
   "metadata": {},
   "source": [
    "10. Longitud del diccionario: Calcula la longitud (cantidad de elementos) de mi_diccionario."
   ]
  },
  {
   "cell_type": "code",
   "execution_count": null,
   "metadata": {},
   "outputs": [],
   "source": [
    "len(mi_diccionario)"
   ]
  },
  {
   "cell_type": "markdown",
   "metadata": {},
   "source": [
    "11. Copiar un diccionario: Crea una copia de mi_diccionario llamada copia_diccionario."
   ]
  },
  {
   "cell_type": "code",
   "execution_count": null,
   "metadata": {},
   "outputs": [],
   "source": [
    "copia_diccionario = mi_diccionario.copy()\n",
    "copia_diccionario"
   ]
  },
  {
   "cell_type": "markdown",
   "metadata": {},
   "source": [
    "12. Eliminar elementos: Elimina todos los elementos de copia_diccionario."
   ]
  },
  {
   "cell_type": "code",
   "execution_count": null,
   "metadata": {},
   "outputs": [],
   "source": [
    "copia_diccionario.clear()\n",
    "copia_diccionario"
   ]
  },
  {
   "cell_type": "markdown",
   "metadata": {},
   "source": [
    "13. Combinar diccionarios: Crea otro diccionario llamado diccionario_combinado y combina mi_diccionario y copia_diccionario en él."
   ]
  },
  {
   "cell_type": "code",
   "execution_count": null,
   "metadata": {},
   "outputs": [],
   "source": [
    "#REVISAR\n",
    "diccionario_combinado = mi_diccionario.update(copia_diccionario)\n",
    "diccionario_combinado"
   ]
  },
  {
   "cell_type": "markdown",
   "metadata": {},
   "source": [
    "14. Obtener valor predeterminado: Intenta acceder a la clave \"edad\" en mi_diccionario. Si no existe, muestra el valor predeterminado \"Desconocida\"."
   ]
  },
  {
   "cell_type": "code",
   "execution_count": null,
   "metadata": {},
   "outputs": [],
   "source": [
    "mi_diccionario.setdefault(\"edad\", \"Desconocida\")\n"
   ]
  },
  {
   "cell_type": "code",
   "execution_count": null,
   "metadata": {},
   "outputs": [],
   "source": [
    "mi_diccionario"
   ]
  },
  {
   "cell_type": "markdown",
   "metadata": {},
   "source": [
    "15. Clave máxima: Encuentra la clave con el valor máximo en un diccionario que contenga pares clave-valor numéricos."
   ]
  },
  {
   "cell_type": "code",
   "execution_count": null,
   "metadata": {},
   "outputs": [],
   "source": [
    "dic1 = {'casa': 43, 'perro': 85, 'cañon': 39, 'termo': 79, 'silla': 12 }\n",
    "sorted(dic1.values())"
   ]
  },
  {
   "cell_type": "markdown",
   "metadata": {},
   "source": [
    "Sets\n",
    "1. Crear un conjunto vacío: Crea un conjunto llamado mi_set que esté vacío."
   ]
  },
  {
   "cell_type": "code",
   "execution_count": null,
   "metadata": {},
   "outputs": [],
   "source": [
    "mi_set = set([])"
   ]
  },
  {
   "cell_type": "markdown",
   "metadata": {},
   "source": [
    "2. Agregar elementos a un conjunto: Agrega los números 1, 2 y 3 al conjunto mi_set."
   ]
  },
  {
   "cell_type": "code",
   "execution_count": null,
   "metadata": {},
   "outputs": [],
   "source": [
    "mi_set.add(1)\n",
    "mi_set.add(2)\n",
    "mi_set.add(3)\n",
    "mi_set"
   ]
  },
  {
   "cell_type": "markdown",
   "metadata": {},
   "source": [
    "3. Eliminar elementos de un conjunto: Elimina el número 2 del conjunto mi_set."
   ]
  },
  {
   "cell_type": "code",
   "execution_count": null,
   "metadata": {},
   "outputs": [],
   "source": [
    "mi_set.remove(2)\n",
    "mi_set"
   ]
  },
  {
   "cell_type": "markdown",
   "metadata": {},
   "source": [
    "4. Verificar pertenencia: Comprueba si el número 3 está en mi_set y almacena el resultado en una variable llamada existe."
   ]
  },
  {
   "cell_type": "code",
   "execution_count": null,
   "metadata": {},
   "outputs": [],
   "source": [
    "existe = 3 in mi_set\n",
    "existe"
   ]
  },
  {
   "cell_type": "markdown",
   "metadata": {},
   "source": [
    "5. Operaciones de conjuntos: Crea dos conjuntos set1 y set2 con números y encuentra la intersección de ambos conjuntos."
   ]
  },
  {
   "cell_type": "code",
   "execution_count": null,
   "metadata": {},
   "outputs": [],
   "source": [
    "set1 = {1,4,7,8,9}\n",
    "set2 = {0,5,3,7,4,1,3}\n",
    "set1.intersection(set2)"
   ]
  },
  {
   "cell_type": "markdown",
   "metadata": {},
   "source": [
    "6. Unión de conjuntos: Combina set1 y set2 para formar un nuevo conjunto que contenga todos los elementos de ambos."
   ]
  },
  {
   "cell_type": "code",
   "execution_count": null,
   "metadata": {},
   "outputs": [],
   "source": [
    "set1.union(set2)"
   ]
  },
  {
   "cell_type": "markdown",
   "metadata": {},
   "source": [
    "7. Diferencia de conjuntos: Encuentra los elementos que están en set1 pero no en set2."
   ]
  },
  {
   "cell_type": "code",
   "execution_count": null,
   "metadata": {},
   "outputs": [],
   "source": [
    "set1.difference(set2)"
   ]
  },
  {
   "cell_type": "code",
   "execution_count": null,
   "metadata": {},
   "outputs": [],
   "source": [
    "set2.difference(set1)"
   ]
  },
  {
   "cell_type": "markdown",
   "metadata": {},
   "source": [
    "8. Comparación de conjuntos: Comprueba si set1 es un subconjunto de set2 y almacena el resultado en una variable llamada es_subconjunto."
   ]
  },
  {
   "cell_type": "code",
   "execution_count": null,
   "metadata": {},
   "outputs": [],
   "source": [
    "es_subconjunto = set1.issubset(set2)\n",
    "es_subconjunto"
   ]
  },
  {
   "cell_type": "markdown",
   "metadata": {},
   "source": [
    "9. Eliminar elementos duplicados: Dada una lista mi_lista con elementos duplicados, conviértela en un conjunto para eliminar los duplicados."
   ]
  },
  {
   "cell_type": "code",
   "execution_count": null,
   "metadata": {},
   "outputs": [],
   "source": [
    "mi_lista = set([3,5,9,7,5,3,4,5,6,7,8,1,2,3,2,1,10,10])\n",
    "mi_lista"
   ]
  },
  {
   "cell_type": "markdown",
   "metadata": {},
   "source": [
    "10. Comprobar igualdad de conjuntos: Compara si set1 y set2 son iguales y almacena el resultado en una variable llamada son_iguales."
   ]
  },
  {
   "cell_type": "code",
   "execution_count": null,
   "metadata": {},
   "outputs": [],
   "source": [
    "son_iguales = set1 == set2\n",
    "son_iguales"
   ]
  },
  {
   "cell_type": "markdown",
   "metadata": {},
   "source": [
    "1. Sentencias de control\n",
    "Clasificación de triángulos: Pide al usuario que ingrese las longitudes de tres lados de un triángulo. Determina si el triángulo es equilátero (todos los lados iguales), isósceles (dos lados iguales), o escaleno (ningún lado igual).\n",
    "\n"
   ]
  },
  {
   "cell_type": "code",
   "execution_count": null,
   "metadata": {},
   "outputs": [],
   "source": [
    "lado1 = input(\"Ingresa la longitud del lado 1\")\n",
    "lado2 = input(\"Ingresa la longitud del lado 2\")\n",
    "lado3 = input(\"Ingresa la longitud del lado 3\")\n",
    "\n",
    "try :\n",
    "    float(lado1) or int(lado1)\n",
    "    float(lado2) or int(lado2)\n",
    "    float(lado3) or int(lado3)\n",
    "\n",
    "    if lado1 == lado2 == lado3 :\n",
    "        print(\"Es Equilatero\")\n",
    "    elif lado1 == lado2 or lado1 == lado3 or lado2 == lado3 :\n",
    "        print(\"Es Isósceles\")\n",
    "    else : print(\"Es Escaleno\")\n",
    "\n",
    "except ValueError:\n",
    "    print(\"Error: Por favor ingresa sólo valores númericos\")\n"
   ]
  },
  {
   "cell_type": "markdown",
   "metadata": {},
   "source": [
    "2. Conversión de temperatura: Crea un programa que permita al usuario convertir temperaturas entre Celsius y Fahrenheit. Pide al usuario que ingrese la temperatura y la unidad (C o F) y realiza la conversión."
   ]
  },
  {
   "cell_type": "code",
   "execution_count": null,
   "metadata": {},
   "outputs": [],
   "source": [
    "temperatura = input(\"ingresa la temperatura seguida de 'C' o 'F'\")\n",
    "letra = temperatura[-1]\n",
    "numero = float(temperatura[ : -1])\n",
    "\n",
    "if  letra ==\"C\":\n",
    "   valor_farenheit = (numero * 9/5) + 32\n",
    "   print(valor_farenheit,\"F\")\n",
    "elif letra ==\"F\" :\n",
    "   valor_celcius = (numero - 32) * 5/9\n",
    "   print(valor_celcius, \"C\")\n",
    "else :\n",
    "   print(\"Error: Inserta valores válidos\")\n"
   ]
  },
  {
   "cell_type": "markdown",
   "metadata": {},
   "source": [
    "3. Cajero automático: Simula un cajero automático que permite a los usuarios verificar su saldo, depositar y retirar dinero. El programa debe mantener un registro del saldo actual."
   ]
  },
  {
   "cell_type": "code",
   "execution_count": null,
   "metadata": {},
   "outputs": [],
   "source": [
    "input_usuario = input(\"Hola! Que operación deseas hacer? deposito, retiro, consulta saldo, salir?\")\n",
    "saldo = 3000\n",
    "\n",
    "# while True :\n",
    "\n",
    "if \"deposito\" in input_usuario.lower() : \n",
    "        dinero_deposito = input(\"Escribe la cantidad que quieres ingresar e insertalo en la ventanilla\")\n",
    "        saldo_actual = int(dinero_deposito) + saldo\n",
    "        pregunta2 = input(\"Gracias! Quieres ver tu saldo actual? 'si' o 'no'\")\n",
    "        if \"si\" in pregunta2 : print(saldo_actual)\n",
    "        elif \"no\" : \n",
    "            print(\"Adiós, nos vemos pronto\")\n",
    "     \n",
    "\n",
    "elif \"retiro\" in input_usuario.lower():\n",
    "        dinero_retiro = input(\"Escribe la cantidad que quieres retirar y cógelo en la ventanilla\")\n",
    "        saldo_actual = saldo - int(dinero_retiro) \n",
    "        if int(dinero_retiro) > saldo_actual :\n",
    "          print(\"Saldo insuficiente\")\n",
    "          pregunta3 = input(\"Gracias! Quieres ver tu saldo actual? 'si' o 'no'\")\n",
    "        elif \"no\" in pregunta3 : print(\"Gracias ya tienes tu dinero.\")\n",
    "        elif \"si\" : print(saldo_actual)\n",
    "          \n",
    "     \n",
    "elif \"consulta saldo\" in input_usuario.lower() :\n",
    "    print(saldo)\n",
    "\n",
    "  # input_usuario2 = input(\"Quieres hacer otra operación? deposito, retiro, consulta saldo, salir?\")\n",
    "  # if \"salir\" in input_usuario2 :\n",
    "  #     break\n",
    "\n",
    "else : \n",
    "     print(\"Opción no válida\")\n"
   ]
  },
  {
   "cell_type": "markdown",
   "metadata": {},
   "source": [
    "4. Calculadora de descuento: Pide al usuario que ingrese el precio original de un producto y el porcentaje de descuento. Calcula el precio final después del descuento y muestra el ahorro."
   ]
  },
  {
   "cell_type": "code",
   "execution_count": null,
   "metadata": {},
   "outputs": [],
   "source": [
    "input_precio = input(\"Ingresa la cantidad del precio del producto. Ejemplo: '45'\")\n",
    "precio_original = int(input_precio)\n",
    "input_descuento = input(\"Ingresa el descuento. Ejemplo: '30%'\").strip(\"%\")\n",
    "descuento = float(input_descuento) / 100\n",
    "\n",
    "precio_final = precio_original * (1 - descuento)\n",
    "print(format(precio_final, \".2f\"))\n",
    "\n"
   ]
  },
  {
   "cell_type": "markdown",
   "metadata": {},
   "source": [
    "5. Cálculo de promedio de calificaciones: Pide al usuario que ingrese una serie de calificaciones y calcule el promedio. También muestra si el estudiante aprobó (promedio mayor o igual a 5) o no. Pistas:\n",
    "\n",
    "Solicita al usuario que ingrese la cantidad de calificaciones que quiere promediar.\n",
    "\n",
    "Luego, pide al usuario que ingrese cada calificación una por una.\n",
    "\n",
    "Calcula el promedio de las calificaciones ingresadas.\n",
    "\n",
    "Muestra el resultado del promedio con dos decimales.\n",
    "\n",
    "Determina si el estudiante aprobó o no. Un estudiante se considera aprobado si su promedio es mayor o igual a 5."
   ]
  },
  {
   "cell_type": "code",
   "execution_count": null,
   "metadata": {},
   "outputs": [],
   "source": [
    "suma_calificaciones = 0\n",
    "contador = 0\n",
    "numero_de_calificaciones = int(input(\"Ingresa el número de calificaciones que quieres promediar\"))\n",
    "\n",
    "while contador < numero_de_calificaciones : \n",
    "    calificacion = float(input(f\"Ingresa calificación {contador + 1} : \"))\n",
    "    suma_calificaciones += calificacion\n",
    "    contador += 1 \n",
    "promedio = suma_calificaciones / numero_de_calificaciones\n",
    "print((\"Tu promedio es:\", promedio))\n",
    "\n",
    "if promedio >= 5 :\n",
    "    print(\"Felicidades, has aprobado!\")\n",
    "else :\n",
    "    print(\"Lo siento, sigue estudiando\")\n"
   ]
  },
  {
   "cell_type": "markdown",
   "metadata": {},
   "source": [
    "6. Generador de contraseñas seguras: Crea un programa que genere una contraseña segura. El usuario debe especificar la longitud deseada y si desea incluir números, letras mayúsculas, minúsculas y caracteres especiales. Pistas:\n",
    "\n",
    "Pregunta al usuario cuántos caracteres debe tener la contraseña que desea generar.\n",
    "\n",
    "Luego, consulta al usuario si quiere incluir números, letras mayúsculas, letras minúsculas y caracteres especiales en su contraseña.\n",
    "\n",
    "Basado en las respuestas del usuario, crea una contraseña segura aleatoria que cumple con los criterios especificados.\n",
    "\n",
    "Muestra la contraseña generada como resultado.\n",
    "\n",
    "Este ejercicio le permite al usuario personalizar la fortaleza y complejidad de su contraseña según sus preferencias, lo que es esencial para mantener la seguridad en línea."
   ]
  },
  {
   "cell_type": "code",
   "execution_count": 122,
   "metadata": {},
   "outputs": [
    {
     "name": "stdout",
     "output_type": "stream",
     "text": [
      "qj?bjb\n"
     ]
    }
   ],
   "source": [
    "import random\n",
    "import string\n",
    "\n",
    "longitud_contraseña = int(input(\"Cuantos caracteres quieres en tu contraseña\"))\n",
    "incluir_numeros = input(\"Quieres incluir numeros en la contraseña? s/n\") == \"s\"\n",
    "incluir_mayusculas = input(\"Quieres incluir mayusculas en la contraseña? s/n\") == \"s\"\n",
    "incluir_minusculas = input(\"Quieres incluir minusculas en la contraseña? s/n\") ==\"s\"\n",
    "incluir_especiales = input(\"Quieres incluir caracteres especiales en la contraseña? s/n\") ==\"s\"\n",
    "\n",
    "caracteres = \"\"\n",
    "if incluir_numeros :\n",
    "    caracteres += string.digits\n",
    "if incluir_mayusculas :\n",
    "    caracteres += string.ascii_uppercase\n",
    "if incluir_minusculas :\n",
    "    caracteres += string.ascii_lowercase\n",
    "if incluir_especiales :\n",
    "    caracteres += string.punctuation\n",
    "\n",
    "contraseña = \"\".join(random.choice(caracteres) for _ in range(longitud_contraseña))\n",
    "\n",
    "print(contraseña)"
   ]
  },
  {
   "cell_type": "markdown",
   "metadata": {},
   "source": [
    "7. \n",
    "Calculadora de edad de perros: Pide al usuario que ingrese la edad de su perro en años y calcula su edad equivalente en años humanos. La fórmula comúnmente utilizada es diferente para los primeros dos años y luego para el resto.\n",
    "\n",
    "Mi nota:\n",
    "El primer año de un perro equivale aproximadamente a 15 años humanos.\n",
    "El segundo año de un perro se considera alrededor de 9 años humanos adicionales.\n",
    "El resto 7."
   ]
  },
  {
   "cell_type": "code",
   "execution_count": null,
   "metadata": {},
   "outputs": [],
   "source": [
    "edad_ingresada = input(\"Cuantos años tiene tu perro?\")\n",
    "\n",
    "try : \n",
    "    numero = int(edad_ingresada) \n",
    "    edad_real = 24 + (numero - 2) * 7 \n",
    "    print(\"Ingresaste:\",edad_ingresada, \"y la edad calculada es:\", edad_real)\n",
    "\n",
    "except ValueError : \n",
    "    try :\n",
    "        numero = float(edad_ingresada) \n",
    "        edad_real2 = 24 + (numero - 2) * 7 \n",
    "        print(\"ingresaste:\", edad_ingresada, \"y la edad calculada es:\",format(edad_real2, \".2f\"))\n",
    "    except ValueError:\n",
    "        print(\"Ingresa un número válido\")\n"
   ]
  },
  {
   "cell_type": "markdown",
   "metadata": {},
   "source": [
    "8. Simulador de ruleta: Simula un juego de ruleta en el que el usuario apuesta un monto en un número o color específico. Genera un número aleatorio y determina si el usuario gana o pierde.\n",
    "\n",
    "Comienza por preguntar al usuario cuánto dinero quiere apostar en el juego de ruleta.\n",
    "\n",
    "Luego, pregunta al usuario si quiere apostar a un número específico o a un color (rojo o negro).\n",
    "\n",
    "Si el usuario elige apostar a un número, solicita que ingrese el número en el que quiere apostar (de 1 a 36, ya que son los números en una ruleta estándar).\n",
    "\n",
    "Si el usuario elige apostar a un color, solicita que indique si desea apostar al color rojo o negro.\n",
    "\n",
    "Genera un número aleatorio entre 1 y 36 para simular el resultado de la ruleta.\n",
    "\n",
    "Comprueba si el resultado coincide con la apuesta del usuario (ya sea número o color).\n",
    "\n",
    "Si coincide, el usuario gana un premio equivalente a su apuesta.\n",
    "\n",
    "Si no coincide, el usuario pierde la apuesta.\n",
    "\n",
    "Muestra el resultado del juego, indicando si el usuario ganó o perdió y cuánto dinero tiene después del juego."
   ]
  },
  {
   "cell_type": "code",
   "execution_count": null,
   "metadata": {},
   "outputs": [],
   "source": [
    "import random\n",
    "\n",
    "numero_aleatorio = random.randint(1, 36)\n",
    "color_aleatorio = random.choice([\"rojo\", \"negro\"])\n",
    "\n",
    "dinero_apostado = int(input(\"Cuanto dinero quieres aportar?\"))\n",
    "numero_o_color = input(\"Quieres apuntar a un número especifico o a un color específico? responde 'num' o 'color'\")\n",
    "\n",
    "if \"num\" in numero_o_color :\n",
    "    numero_apostado = input(\"Del 1 al 36 que número quieres apostar\")\n",
    "    if numero_apostado == numero_aleatorio :\n",
    "        print(\"Felicidades, tu número es el ganador! Has ganado \", dinero_apostado * 2,\n",
    "              \"y tu saldo actual es: \", dinero_apostado + (dinero_apostado *2))\n",
    "    else :\n",
    "        print(\"Tu número no es el ganador. Sigue intentando\")\n",
    "    \n",
    "elif \"color\" in numero_o_color :\n",
    "    color_apostado = input(\"Quieres apostar al 'rojo' o al 'negro'?\")\n",
    "    if color_apostado == color_aleatorio : \n",
    "        print(\"Felicidades,tu color es el ganador! Has ganado \", dinero_apostado * 2,\n",
    "              \"y tu saldo actual es: \", dinero_apostado + (dinero_apostado *2))\n",
    "    else:\n",
    "        print(\"Tu color no es el ganador. Sigue intentando\")\n",
    "\n",
    "else : print(\"Error: ingresa valores válidos\")"
   ]
  },
  {
   "cell_type": "markdown",
   "metadata": {},
   "source": [
    "While\n",
    "\n",
    "1.Contador Regresivo: Crea un programa que pida al usuario ingresar un número y luego cuente hacia abajo desde ese número hasta llegar a cero utilizando un bucle while."
   ]
  },
  {
   "cell_type": "code",
   "execution_count": null,
   "metadata": {},
   "outputs": [],
   "source": [
    "numero_del_usuario = int(input(\"inserta un número\"))\n",
    "\n",
    "while numero_del_usuario >= 0: \n",
    "    numero_del_usuario -= 1\n",
    "    print(numero_del_usuario + 1)\n"
   ]
  },
  {
   "cell_type": "markdown",
   "metadata": {},
   "source": [
    "2. Adivina el Número: Genera un número aleatorio entre 1 y 20. Pide al usuario que adivine el número y proporciona pistas (mayor o menor) hasta que adivinen correctamente."
   ]
  },
  {
   "cell_type": "code",
   "execution_count": null,
   "metadata": {},
   "outputs": [],
   "source": [
    "import random\n",
    "\n",
    "numero_aleatorio2 = random.randint(1,20)\n",
    "\n",
    "\n",
    "while True : \n",
    "    adivinanza_usuario = input(\"Adivina el número del 1 al 20\")\n",
    "    \n",
    "    if adivinanza_usuario == \"salir\" :\n",
    "        print(\"Has salido del juego\")\n",
    "        break\n",
    "\n",
    "    if adivinanza_usuario.isdigit() :\n",
    "        numero_usuario = int(adivinanza_usuario)\n",
    "        \n",
    "        if numero_usuario > numero_aleatorio2 :\n",
    "            print(\"No, inserta uno menor. Sigue intentando\")\n",
    "    \n",
    "        elif numero_usuario < numero_aleatorio2 :\n",
    "            print(\"No, incerta un numero  mayor. Sigue intentando\")\n",
    "        \n",
    "        else :\n",
    "            print(\"Bien! has acertado!\")\n",
    "        break\n",
    "\n",
    "    else : print(\"Error. introduce un valor válido \")\n",
    "       "
   ]
  },
  {
   "cell_type": "markdown",
   "metadata": {},
   "source": [
    "3. Calculadora Simple: \n",
    "Desarrolla una calculadora que realice operaciones básicas (suma, resta, multiplicación, división) con dos números ingresados por el usuario. El programa debe permitir al usuario realizar cálculos continuos hasta que decida salir."
   ]
  },
  {
   "cell_type": "code",
   "execution_count": null,
   "metadata": {},
   "outputs": [],
   "source": [
    "\n",
    "\n",
    "while True :\n",
    "    input_usuario_calculadora = input(\"Escribe tu ecuación \")  \n",
    "\n",
    "    if input_usuario_calculadora == \"salir\" :\n",
    "        print(\"Has salido de la calculadora\")\n",
    "        break\n",
    "\n",
    "    if \"+\" in input_usuario_calculadora:\n",
    "        num_suma1, num_suma2 = input_usuario_calculadora.split(\"+\")\n",
    "        num_suma1_int = int(num_suma1)\n",
    "        num_suma2_int = int(num_suma2)\n",
    "        suma = num_suma1_int + num_suma2_int\n",
    "        print(\"resultado:\", suma)\n",
    "    elif \"-\" in input_usuario_calculadora :\n",
    "        num_resta1, num_resta2 = input_usuario_calculadora.split(\"-\")\n",
    "        num_resta1_int = int(num_resta1)\n",
    "        num_resta2_int = int(num_resta2)\n",
    "        resta = num_resta1_int - num_resta2_int\n",
    "        print(\"resultado:\",resta) \n",
    "    elif \"*\" in input_usuario_calculadora :\n",
    "        num_mult1, num_mult2 = input_usuario_calculadora.split(\"*\")\n",
    "        num_mult1_int =  int(num_mult1)\n",
    "        num_mult2_int = int(num_mult2)\n",
    "        multiplicacion = num_mult1_int * num_mult2_int\n",
    "        print(\"resultado:\",multiplicacion) \n",
    "    elif \"/\" in input_usuario_calculadora : \n",
    "        num_div1, num_div2 = input_usuario_calculadora.split(\"/\")\n",
    "        num_div1_int =  int(num_div1)\n",
    "        num_div2_int = int(num_div2)\n",
    "        if  num_div2_int == 0:\n",
    "            print(\"Error: División por cero no permitida.\")\n",
    "        else :\n",
    "            division = num_div1_int / num_div2_int\n",
    "        print(\"resultado:\",division) \n",
    "\n",
    "\n",
    "    else : \"error\"\n",
    "    break\n"
   ]
  },
  {
   "cell_type": "markdown",
   "metadata": {},
   "source": [
    "4. Conversión de Unidades: Crea un programa que convierta entre diferentes unidades de medida (por ejemplo, de grados Celsius a grados Fahrenheit o de kilómetros a millas). El usuario debe ingresar los valores y las unidades de origen y destino, y el programa realizará la conversión hasta que el usuario decida detenerse."
   ]
  },
  {
   "cell_type": "code",
   "execution_count": null,
   "metadata": {},
   "outputs": [],
   "source": [
    "while True : \n",
    "    \n",
    "    input_usuario_convertidor =input(\"Que quieres convertir? Ejemplo: 20M (para millas) (para Kilometros). Escribe 'salir' para salir del programa\")\n",
    "\n",
    "\n",
    "    if \"salir\" in input_usuario_convertidor :\n",
    "        print(\"Has salido del programa\")\n",
    "        break\n",
    "\n",
    "    \n",
    "    if \"M\" in input_usuario_convertidor :\n",
    "        numero_millas =  input_usuario_convertidor.replace(\"M\",\"\")\n",
    "        numero_millas_int = int(numero_millas)\n",
    "        resultado_kilometros = numero_millas_int * 1.60934 / 1 \n",
    "        print(resultado_kilometros, \"Kilometros\") \n",
    "    elif \"K\" in input_usuario_convertidor :\n",
    "        numero_kilometros =  input_usuario_convertidor.replace(\"K\", \"\")\n",
    "        numero_kilometros_int = int(numero_kilometros)\n",
    "        resultado_numero_millas = numero_kilometros_int * 0.621371 / 1 \n",
    "        print(format(resultado_numero_millas, \".2f\"),  \"Millas\")\n",
    "\n",
    "    else : print(\"Escribe valores válidos\")"
   ]
  },
  {
   "cell_type": "markdown",
   "metadata": {},
   "source": []
  },
  {
   "cell_type": "code",
   "execution_count": null,
   "metadata": {},
   "outputs": [],
   "source": []
  }
 ],
 "metadata": {
  "kernelspec": {
   "display_name": "base",
   "language": "python",
   "name": "python3"
  },
  "language_info": {
   "codemirror_mode": {
    "name": "ipython",
    "version": 3
   },
   "file_extension": ".py",
   "mimetype": "text/x-python",
   "name": "python",
   "nbconvert_exporter": "python",
   "pygments_lexer": "ipython3",
   "version": "3.11.8"
  }
 },
 "nbformat": 4,
 "nbformat_minor": 2
}
