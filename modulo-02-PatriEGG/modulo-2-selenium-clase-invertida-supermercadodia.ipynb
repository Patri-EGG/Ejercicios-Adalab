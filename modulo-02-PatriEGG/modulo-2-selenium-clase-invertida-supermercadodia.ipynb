{
 "cells": [
  {
   "cell_type": "code",
   "execution_count": 25,
   "metadata": {},
   "outputs": [],
   "source": [
    "import pandas as pd\n",
    "from selenium import webdriver\n",
    "from webdriver_manager.chrome import ChromeDriverManager\n",
    "from selenium.webdriver.common.keys import Keys\n",
    "from selenium.webdriver.support.ui import Select\n",
    "from time import sleep\n",
    "from bs4 import BeautifulSoup\n",
    "import requests\n",
    "import re"
   ]
  },
  {
   "cell_type": "markdown",
   "metadata": {},
   "source": [
    "### Utiliza las esperas explícitas de Selenium para esperar hasta que el elemento esté visible y se pueda interactuar con él.(Opcional)"
   ]
  },
  {
   "cell_type": "code",
   "execution_count": 26,
   "metadata": {},
   "outputs": [],
   "source": [
    "from selenium.webdriver.common.by import By   \n",
    "from selenium.webdriver.support.ui import WebDriverWait  \n",
    "from selenium.webdriver.support import expected_conditions as EC"
   ]
  },
  {
   "cell_type": "markdown",
   "metadata": {},
   "source": [
    "-----------------------------------Lo de arriba es opcional--------------------------------------------------------"
   ]
  },
  {
   "cell_type": "code",
   "execution_count": 27,
   "metadata": {},
   "outputs": [],
   "source": [
    "pd.set_option('display.max_columns', None)"
   ]
  },
  {
   "cell_type": "markdown",
   "metadata": {},
   "source": [
    "#### Utiliza esperas explícitas. Este método es preferido sobre las esperas implícitas o sleep(), ya que hace que tu script espere de manera más inteligente a que los elementos estén listos para la interacción, reduciendo así la probabilidad de errores y haciendo que tu código sea más eficiente y confiable. (Opcional)"
   ]
  },
  {
   "cell_type": "code",
   "execution_count": 28,
   "metadata": {},
   "outputs": [],
   "source": [
    "# driver.maximize_window()\n",
    "# sleep(2)\n",
    "\n",
    "# # Esperar hasta que el botón sea clickeable\n",
    "# WebDriverWait(driver, 20).until(EC.element_to_be_clickable((By.CSS_SELECTOR, \"#wt-cli-accept-all-btn\"))).click()\n",
    "\n",
    "# sleep(5)\n",
    "\n",
    "# # Esperar hasta que el enlace BLOG sea clickeable\n",
    "# WebDriverWait(driver, 20).until(EC.element_to_be_clickable((By.LINK_TEXT, 'BLOG'))).click()\n",
    "\n",
    "# sleep(5)\n"
   ]
  },
  {
   "cell_type": "markdown",
   "metadata": {},
   "source": [
    "----------------------Lo se arriba es opcional-----------------------"
   ]
  },
  {
   "cell_type": "code",
   "execution_count": 29,
   "metadata": {},
   "outputs": [],
   "source": [
    "# Inicializar un navegador web Chrome a través de WebDriver\n",
    "driver = webdriver.Chrome()\n",
    "\n",
    "# Navegar a la página web de DIA\n",
    "url = \"https://www.dia.es/\"\n",
    "driver.get(url)\n",
    "\n",
    "# Maximizar la ventana del navegador para mostrar la página completa\n",
    "driver.maximize_window()\n",
    "\n",
    "# Esperar 5 segundos para que la página cargue completamente\n",
    "sleep(2)\n",
    "\n",
    "# Aceptar las cookies haciendo clic en el botón correspondiente\n",
    "driver.find_element(\"css selector\", \"#onetrust-accept-btn-handler\").click()\n",
    "\n",
    "# Esperar 5 pero entra si lo consigue hacer antes.\n",
    "sleep(2)\n",
    "\n",
    "# Entrar en el apartado de productos\n",
    "driver.find_element(\"css selector\", \"#app > div > div > div > div.home-view__header > div.dia-header > div.dia-header__section.dia-header__section--start > div > button\").click()\n",
    "\n",
    "\n",
    "sleep(5)\n",
    "\n",
    "# Entrar en la categoría \"carnicería\n",
    "driver.find_element(\"xpath\", \"//span[@class='category-item__title' and contains(text(), 'Carnicería')]\").click()\n",
    "#Este XPath seleccionará un <span> con la clase category-item__title que también contiene el texto \"Carnicería\". De esta manera, estás asegurando que el clic se realice en el elemento que específicamente se refiere a \"Carnicería\", y no en otro elemento que tenga la misma clase pero diferente contenido de texto.\n",
    "\n",
    "\n",
    "# Crear un diccionario para almacenar información de productos\n",
    "diccionario_dia = {\n",
    "    \"nombre_producto\": [],\n",
    "    \"precio_kilo\": [],\n",
    "    \"precio\": [],\n",
    "    \"kilocalorias\": [],\n",
    "    \"ingredientes\": [],\n",
    "    \"imagen\": []\n",
    "}\n",
    "\n",
    "# Iterar a través de productos del 1 al 7\n",
    "for i in range(1,5):\n",
    "    \n",
    "\n",
    "    # Hacer clic en el producto para ver detalles\n",
    "    driver.find_element(\"css selector\", f\"#app > div > div > div.categories-layout__content > div.categories-layout__right-content > div.plp-view > div:nth-child(3) > div > div > ul > li:nth-child({i}) > div > div.search-product-card__top-section > div.search-product-card__top-section-content > a.search-product-card__product-link\").click()\n",
    "    \n",
    "    # Esperar 2 segundos después de aceptar las cookies\n",
    "    sleep(2)\n",
    "    \n",
    "    # Extraer información del producto y agregarla al diccionario\n",
    "    diccionario_dia[\"nombre_producto\"].append(driver.find_element(\"css selector\", \"#app > div > div > div > div.pdp-view__content > div.pdp-view__left-content > div.pdp-view__info > div.product-summary > h2\").text)\n",
    "    diccionario_dia[\"precio\"].append(driver.find_element(\"css selector\", \"#app > div > div > div > div.pdp-view__content > div.pdp-view__right-content > div > div.buy-box.primary-information__buy-box > div.buy-box__prices-container > div.buy-box__prices > p.buy-box__active-price\").text)\n",
    "    diccionario_dia[\"precio_kilo\"].append(driver.find_element(\"css selector\", \"#app > div > div > div > div.pdp-view__content > div.pdp-view__right-content > div > div.buy-box.primary-information__buy-box > div.buy-box__prices-container > div.buy-box__prices > p.buy-box__price-per-unit\").text)\n",
    "    diccionario_dia[\"kilocalorias\"].append(driver.find_element(\"css selector\", \"#app > div > div > div > div.pdp-view__content > div.pdp-view__left-content > div.pdp-view__info > div.nutritional > ul > li > div > div.nutritional-values__title-energy > div > p:nth-child(3)\").text)\n",
    "    diccionario_dia[\"ingredientes\"].append(driver.find_element(\"css selector\", \"#app > div > div > div > div.pdp-view__content > div.pdp-view__left-content > div.pdp-view__info > div.text-section > h2\").text)\n",
    "    diccionario_dia[\"imagen\"].append(driver.find_element(\"css selector\", \"#app > div > div > div > div.pdp-view__content > div.pdp-view__left-content > div.product-images > div > div > div > img.product-image.product-images__second-image\").get_attribute(\"src\"))\n",
    "    \n",
    "    # Esperar 2 segundos antes de volver a la lista de productos\n",
    "    sleep(2)\n",
    "    driver.back()\n",
    "\n",
    "# Cerrar el navegador\n",
    "driver.close()"
   ]
  },
  {
   "cell_type": "code",
   "execution_count": 30,
   "metadata": {},
   "outputs": [
    {
     "data": {
      "text/plain": [
       "['Pechuga de pavo cocida',\n",
       " 'Jamoncitos de pollo.',\n",
       " 'Longaniza de pollo',\n",
       " 'Pechuga de pollo entera.']"
      ]
     },
     "execution_count": 30,
     "metadata": {},
     "output_type": "execute_result"
    }
   ],
   "source": [
    "diccionario_dia[\"nombre_producto\"]"
   ]
  },
  {
   "cell_type": "code",
   "execution_count": 31,
   "metadata": {},
   "outputs": [
    {
     "data": {
      "text/html": [
       "<div>\n",
       "<style scoped>\n",
       "    .dataframe tbody tr th:only-of-type {\n",
       "        vertical-align: middle;\n",
       "    }\n",
       "\n",
       "    .dataframe tbody tr th {\n",
       "        vertical-align: top;\n",
       "    }\n",
       "\n",
       "    .dataframe thead th {\n",
       "        text-align: right;\n",
       "    }\n",
       "</style>\n",
       "<table border=\"1\" class=\"dataframe\">\n",
       "  <thead>\n",
       "    <tr style=\"text-align: right;\">\n",
       "      <th></th>\n",
       "      <th>nombre_producto</th>\n",
       "      <th>precio_kilo</th>\n",
       "      <th>precio</th>\n",
       "      <th>kilocalorias</th>\n",
       "      <th>ingredientes</th>\n",
       "      <th>imagen</th>\n",
       "    </tr>\n",
       "  </thead>\n",
       "  <tbody>\n",
       "    <tr>\n",
       "      <th>0</th>\n",
       "      <td>Pechuga de pavo cocida</td>\n",
       "      <td>(8,43 €/KILO)</td>\n",
       "      <td>3,37 €</td>\n",
       "      <td>74kcal</td>\n",
       "      <td>INGREDIENTES</td>\n",
       "      <td>https://www.dia.es/product_images/273810/27381...</td>\n",
       "    </tr>\n",
       "    <tr>\n",
       "      <th>1</th>\n",
       "      <td>Jamoncitos de pollo.</td>\n",
       "      <td>(3,35 €/KILO)</td>\n",
       "      <td>2,68 €</td>\n",
       "      <td>155kcal</td>\n",
       "      <td>INGREDIENTES</td>\n",
       "      <td>https://www.dia.es/product_images/4211/4211_FR...</td>\n",
       "    </tr>\n",
       "    <tr>\n",
       "      <th>2</th>\n",
       "      <td>Longaniza de pollo</td>\n",
       "      <td>(7,48 €/KILO)</td>\n",
       "      <td>2,99 €</td>\n",
       "      <td>155kcal</td>\n",
       "      <td>INGREDIENTES</td>\n",
       "      <td>https://www.dia.es/product_images/275700/27570...</td>\n",
       "    </tr>\n",
       "    <tr>\n",
       "      <th>3</th>\n",
       "      <td>Pechuga de pollo entera.</td>\n",
       "      <td>(6,99 €/KILO)</td>\n",
       "      <td>6,99 €</td>\n",
       "      <td>114kcal</td>\n",
       "      <td>INGREDIENTES</td>\n",
       "      <td>https://www.dia.es/product_images/261371/26137...</td>\n",
       "    </tr>\n",
       "  </tbody>\n",
       "</table>\n",
       "</div>"
      ],
      "text/plain": [
       "            nombre_producto    precio_kilo  precio kilocalorias  ingredientes  \\\n",
       "0    Pechuga de pavo cocida  (8,43 €/KILO)  3,37 €       74kcal  INGREDIENTES   \n",
       "1      Jamoncitos de pollo.  (3,35 €/KILO)  2,68 €      155kcal  INGREDIENTES   \n",
       "2        Longaniza de pollo  (7,48 €/KILO)  2,99 €      155kcal  INGREDIENTES   \n",
       "3  Pechuga de pollo entera.  (6,99 €/KILO)  6,99 €      114kcal  INGREDIENTES   \n",
       "\n",
       "                                              imagen  \n",
       "0  https://www.dia.es/product_images/273810/27381...  \n",
       "1  https://www.dia.es/product_images/4211/4211_FR...  \n",
       "2  https://www.dia.es/product_images/275700/27570...  \n",
       "3  https://www.dia.es/product_images/261371/26137...  "
      ]
     },
     "execution_count": 31,
     "metadata": {},
     "output_type": "execute_result"
    }
   ],
   "source": [
    "# utilizando el método \"pd.DataFrame()\" que aprendiemos en las lecciones pasadas, convertimos el diccionario a un DataFrame para poder seguir trabajando con el \n",
    "df_dia = pd.DataFrame(diccionario_dia)\n",
    "\n",
    "# mostrar los resultados de la extracción de datos almacenados en un DataFrame\n",
    "df_dia"
   ]
  }
 ],
 "metadata": {
  "kernelspec": {
   "display_name": "base",
   "language": "python",
   "name": "python3"
  },
  "language_info": {
   "codemirror_mode": {
    "name": "ipython",
    "version": 3
   },
   "file_extension": ".py",
   "mimetype": "text/x-python",
   "name": "python",
   "nbconvert_exporter": "python",
   "pygments_lexer": "ipython3",
   "version": "3.11.8"
  }
 },
 "nbformat": 4,
 "nbformat_minor": 2
}
