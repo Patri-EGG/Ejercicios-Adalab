{
 "cells": [
  {
   "cell_type": "markdown",
   "metadata": {},
   "source": [
    "## 5.4. Ejercicios:\n",
    "Haz las importaciones necesarias para establecer la conexión y trabajar con Pandas. Establece la conexión usando mysql.connector utilizando try/except por si la conexión devuelve un error."
   ]
  },
  {
   "cell_type": "code",
   "execution_count": 5,
   "metadata": {},
   "outputs": [],
   "source": [
    "import mysql.connector\n",
    "from mysql.connector import errorcode\n",
    "import pandas as pd\n",
    "import numpy as np"
   ]
  },
  {
   "cell_type": "markdown",
   "metadata": {},
   "source": [
    "2. Crea un nuevo \"schema\" llamado \"alumnas-promo-X\""
   ]
  },
  {
   "cell_type": "code",
   "execution_count": 7,
   "metadata": {},
   "outputs": [
    {
     "name": "stdout",
     "output_type": "stream",
     "text": [
      "CMySQLCursor: CREATE DATABASE alumnas_promo_h_da\n"
     ]
    }
   ],
   "source": [
    "cnx = mysql.connector.connect(user='root', password='AlumnaAdalab',\n",
    "                              host='127.0.0.1')\n",
    "\n",
    "\n",
    "mi_cursor = cnx.cursor()\n",
    "try:\n",
    "    mi_cursor.execute(\"CREATE DATABASE alumnas_promo_h_da\")\n",
    "    print(mi_cursor)\n",
    "except mysql.connector.Error as err:\n",
    "    print(err)\n",
    "    print(\"Error Code:\", err.errno)\n",
    "    print(\"SQLSTATE\", err.sqlstate)\n",
    "    print(\"Message\", err.msg)"
   ]
  },
  {
   "cell_type": "markdown",
   "metadata": {},
   "source": [
    "3. Crea una tabla con la información de las alumnas de la promo. Debe incluir: id_alumna, nombre, apellidos, ciudad y teléfono."
   ]
  },
  {
   "cell_type": "code",
   "execution_count": 9,
   "metadata": {},
   "outputs": [
    {
     "name": "stdout",
     "output_type": "stream",
     "text": [
      "CMySQLCursor: CREATE TABLE alumnas (id_alumna INTEGER ..\n"
     ]
    }
   ],
   "source": [
    "cnx = mysql.connector.connect(user='root', password='AlumnaAdalab',\n",
    "                              host='127.0.0.1', database='alumnas_promo_h_da')\n",
    "\n",
    "\n",
    "mi_cursor = cnx.cursor()\n",
    "try:\n",
    "    mi_cursor.execute(\"CREATE TABLE alumnas (id_alumna INTEGER AUTO_INCREMENT PRIMARY KEY, nombre VARCHAR(15), apellidos VARCHAR(50), ciudad VARCHAR(30), telefono VARCHAR(15))\")\n",
    "    print(mi_cursor)\n",
    "except mysql.connector.Error as err:\n",
    "    print(err)\n",
    "    print(\"Error Code:\", err.errno)\n",
    "    print(\"SQLSTATE\", err.sqlstate)\n",
    "    print(\"Message\", err.msg)"
   ]
  },
  {
   "cell_type": "markdown",
   "metadata": {},
   "source": [
    "4. Inserta por lo menos 10 datos en la tabla creada en el ejercicio anterior (pueden ser inventados)."
   ]
  },
  {
   "cell_type": "code",
   "execution_count": 16,
   "metadata": {},
   "outputs": [
    {
     "name": "stdout",
     "output_type": "stream",
     "text": [
      "10 registro insertado.\n"
     ]
    }
   ],
   "source": [
    "cnx = mysql.connector.connect(user='root', password='AlumnaAdalab',\n",
    "                              host='127.0.0.1', database='alumnas_promo_h_da')\n",
    "\n",
    "\n",
    "mi_cursor = cnx.cursor()\n",
    "query = \"INSERT INTO alumnas (nombre, apellidos, ciudad, telefono) VALUES (%s, %s, %s, %s)\"\n",
    "val = [('Ana', 'García López', 'Madrid', '612345678'),\n",
    "('Beatriz', 'Fernández Vargas', 'Barcelona', '656789012'),\n",
    "('Clara', 'Martínez Ruiz', 'Valencia', '678901234'),\n",
    "('Diana', 'Jiménez Alonso', 'Sevilla', '690123456'),\n",
    "('Elena', 'Moreno Molina', 'Zaragoza', '612345687'),\n",
    "('Fátima', 'Pérez García', 'Málaga', '623456789'),\n",
    "('Gloria', 'Sánchez Hernández', 'Murcia', '634567891'),\n",
    "('Helena', 'Díaz Martín', 'Palma', '645678902'),\n",
    "('Irene', 'López Castillo', 'Las Palmas', '656789013'),\n",
    "('Julia', 'Torres Romero', 'Bilbao', '667890124')]\n",
    "try: \n",
    "    mi_cursor.executemany(query, val)\n",
    "    cnx.commit()\n",
    "    print(mi_cursor.rowcount, \"registro insertado.\")\n",
    "\n",
    "except mysql.connector.Error as err:\n",
    "    print(err)\n",
    "    print(\"Error Code:\", err.errno)\n",
    "    print(\"SQLSTATE\", err.sqlstate)\n",
    "    print(\"Message\", err.msg)"
   ]
  },
  {
   "cell_type": "markdown",
   "metadata": {},
   "source": [
    "Aqui he borrado un registro insertado por error. Habia usado 'execute()' en véz de 'executemany()' en el bloque anterior. Asi que he borrado y vuelvo a insertar registros."
   ]
  },
  {
   "cell_type": "code",
   "execution_count": 15,
   "metadata": {},
   "outputs": [
    {
     "name": "stdout",
     "output_type": "stream",
     "text": [
      "1 registro/s eliminado/s\n"
     ]
    }
   ],
   "source": [
    "# cnx = mysql.connector.connect(user='root', password='AlumnaAdalab',\n",
    "#                               host='127.0.0.1', database='alumnas_promo_h_da')\n",
    "\n",
    "\n",
    "# mi_cursor = cnx.cursor()\n",
    "# sql = \"DELETE FROM alumnas WHERE nombre= 'Ana' AND apellidos='García López' AND ciudad = 'Madrid' AND telefono = '612345678'\"\n",
    "# try:\n",
    "#     mi_cursor.execute(sql)\n",
    "#     cnx.commit()\n",
    "#     print(mi_cursor.rowcount, \"registro/s eliminado/s\")\n",
    "\n",
    "# except mysql.connector.Error as err:\n",
    "#     print(err)\n",
    "#     print(\"Error Code:\", err.errno)\n",
    "#     print(\"SQLSTATE\", err.sqlstate)\n",
    "#     print(\"Message\", err.msg)"
   ]
  },
  {
   "cell_type": "markdown",
   "metadata": {},
   "source": [
    "5. Haz una consulta que devuelva todos los registros de la tabla \"alumnas\" y conviértelo en Dataframe (no te olvides del nombre de las columnas)."
   ]
  },
  {
   "cell_type": "code",
   "execution_count": 20,
   "metadata": {},
   "outputs": [
    {
     "name": "stdout",
     "output_type": "stream",
     "text": [
      "[(2, 'Ana', 'García López', 'Madrid', '612345678'), (3, 'Beatriz', 'Fernández Vargas', 'Barcelona', '656789012'), (4, 'Clara', 'Martínez Ruiz', 'Valencia', '678901234'), (5, 'Diana', 'Jiménez Alonso', 'Sevilla', '690123456'), (6, 'Elena', 'Moreno Molina', 'Zaragoza', '612345687'), (7, 'Fátima', 'Pérez García', 'Málaga', '623456789'), (8, 'Gloria', 'Sánchez Hernández', 'Murcia', '634567891'), (9, 'Helena', 'Díaz Martín', 'Palma', '645678902'), (10, 'Irene', 'López Castillo', 'Las Palmas', '656789013'), (11, 'Julia', 'Torres Romero', 'Bilbao', '667890124')]\n"
     ]
    }
   ],
   "source": [
    "cnx = mysql.connector.connect(\n",
    "              user='root', password='AlumnaAdalab',\n",
    "              host='127.0.0.1',\n",
    "              database='alumnas_promo_h_da'\n",
    ")\n",
    "\n",
    "mi_cursor = cnx.cursor()\n",
    "mi_cursor.execute(\"SELECT * FROM alumnas\")\n",
    "\n",
    "resultado = mi_cursor.fetchall()\n",
    "print(resultado)\n",
    "\n",
    "df_alumnas= pd.DataFrame(resultado, columns = ['ID_alumna', 'Nombre', 'Apellido','Ciudad','Telefono'])\n",
    "cnx.close()"
   ]
  },
  {
   "cell_type": "markdown",
   "metadata": {},
   "source": [
    "6. Muestra los 3 primeros y tres últimos registros del Dataframe."
   ]
  },
  {
   "cell_type": "code",
   "execution_count": 21,
   "metadata": {},
   "outputs": [
    {
     "data": {
      "text/html": [
       "<div>\n",
       "<style scoped>\n",
       "    .dataframe tbody tr th:only-of-type {\n",
       "        vertical-align: middle;\n",
       "    }\n",
       "\n",
       "    .dataframe tbody tr th {\n",
       "        vertical-align: top;\n",
       "    }\n",
       "\n",
       "    .dataframe thead th {\n",
       "        text-align: right;\n",
       "    }\n",
       "</style>\n",
       "<table border=\"1\" class=\"dataframe\">\n",
       "  <thead>\n",
       "    <tr style=\"text-align: right;\">\n",
       "      <th></th>\n",
       "      <th>ID_alumna</th>\n",
       "      <th>Nombre</th>\n",
       "      <th>Apellido</th>\n",
       "      <th>Ciudad</th>\n",
       "      <th>Telefono</th>\n",
       "    </tr>\n",
       "  </thead>\n",
       "  <tbody>\n",
       "    <tr>\n",
       "      <th>0</th>\n",
       "      <td>2</td>\n",
       "      <td>Ana</td>\n",
       "      <td>García López</td>\n",
       "      <td>Madrid</td>\n",
       "      <td>612345678</td>\n",
       "    </tr>\n",
       "    <tr>\n",
       "      <th>1</th>\n",
       "      <td>3</td>\n",
       "      <td>Beatriz</td>\n",
       "      <td>Fernández Vargas</td>\n",
       "      <td>Barcelona</td>\n",
       "      <td>656789012</td>\n",
       "    </tr>\n",
       "    <tr>\n",
       "      <th>2</th>\n",
       "      <td>4</td>\n",
       "      <td>Clara</td>\n",
       "      <td>Martínez Ruiz</td>\n",
       "      <td>Valencia</td>\n",
       "      <td>678901234</td>\n",
       "    </tr>\n",
       "  </tbody>\n",
       "</table>\n",
       "</div>"
      ],
      "text/plain": [
       "   ID_alumna   Nombre          Apellido     Ciudad   Telefono\n",
       "0          2      Ana      García López     Madrid  612345678\n",
       "1          3  Beatriz  Fernández Vargas  Barcelona  656789012\n",
       "2          4    Clara     Martínez Ruiz   Valencia  678901234"
      ]
     },
     "execution_count": 21,
     "metadata": {},
     "output_type": "execute_result"
    }
   ],
   "source": [
    "df_alumnas.head(3)"
   ]
  },
  {
   "cell_type": "code",
   "execution_count": 22,
   "metadata": {},
   "outputs": [
    {
     "data": {
      "text/html": [
       "<div>\n",
       "<style scoped>\n",
       "    .dataframe tbody tr th:only-of-type {\n",
       "        vertical-align: middle;\n",
       "    }\n",
       "\n",
       "    .dataframe tbody tr th {\n",
       "        vertical-align: top;\n",
       "    }\n",
       "\n",
       "    .dataframe thead th {\n",
       "        text-align: right;\n",
       "    }\n",
       "</style>\n",
       "<table border=\"1\" class=\"dataframe\">\n",
       "  <thead>\n",
       "    <tr style=\"text-align: right;\">\n",
       "      <th></th>\n",
       "      <th>ID_alumna</th>\n",
       "      <th>Nombre</th>\n",
       "      <th>Apellido</th>\n",
       "      <th>Ciudad</th>\n",
       "      <th>Telefono</th>\n",
       "    </tr>\n",
       "  </thead>\n",
       "  <tbody>\n",
       "    <tr>\n",
       "      <th>7</th>\n",
       "      <td>9</td>\n",
       "      <td>Helena</td>\n",
       "      <td>Díaz Martín</td>\n",
       "      <td>Palma</td>\n",
       "      <td>645678902</td>\n",
       "    </tr>\n",
       "    <tr>\n",
       "      <th>8</th>\n",
       "      <td>10</td>\n",
       "      <td>Irene</td>\n",
       "      <td>López Castillo</td>\n",
       "      <td>Las Palmas</td>\n",
       "      <td>656789013</td>\n",
       "    </tr>\n",
       "    <tr>\n",
       "      <th>9</th>\n",
       "      <td>11</td>\n",
       "      <td>Julia</td>\n",
       "      <td>Torres Romero</td>\n",
       "      <td>Bilbao</td>\n",
       "      <td>667890124</td>\n",
       "    </tr>\n",
       "  </tbody>\n",
       "</table>\n",
       "</div>"
      ],
      "text/plain": [
       "   ID_alumna  Nombre        Apellido      Ciudad   Telefono\n",
       "7          9  Helena     Díaz Martín       Palma  645678902\n",
       "8         10   Irene  López Castillo  Las Palmas  656789013\n",
       "9         11   Julia   Torres Romero      Bilbao  667890124"
      ]
     },
     "execution_count": 22,
     "metadata": {},
     "output_type": "execute_result"
    }
   ],
   "source": [
    "df_alumnas.tail(3)"
   ]
  },
  {
   "cell_type": "markdown",
   "metadata": {},
   "source": [
    "7. ¿Hay registros duplicados?"
   ]
  },
  {
   "cell_type": "code",
   "execution_count": 23,
   "metadata": {},
   "outputs": [
    {
     "data": {
      "text/plain": [
       "0    False\n",
       "1    False\n",
       "2    False\n",
       "3    False\n",
       "4    False\n",
       "5    False\n",
       "6    False\n",
       "7    False\n",
       "8    False\n",
       "9    False\n",
       "dtype: bool"
      ]
     },
     "execution_count": 23,
     "metadata": {},
     "output_type": "execute_result"
    }
   ],
   "source": [
    "df_alumnas.duplicated()"
   ]
  },
  {
   "cell_type": "markdown",
   "metadata": {},
   "source": [
    "8. Haz una consulta para extraer las diferentes ciudades en las que hay alumnas."
   ]
  },
  {
   "cell_type": "code",
   "execution_count": 26,
   "metadata": {},
   "outputs": [
    {
     "name": "stdout",
     "output_type": "stream",
     "text": [
      "[('Madrid',), ('Barcelona',), ('Valencia',), ('Sevilla',), ('Zaragoza',), ('Málaga',), ('Murcia',), ('Palma',), ('Las Palmas',), ('Bilbao',)]\n"
     ]
    }
   ],
   "source": [
    "cnx = mysql.connector.connect(\n",
    "              user='root', password='AlumnaAdalab',\n",
    "              host='127.0.0.1',\n",
    "              database='alumnas_promo_h_da'\n",
    ")\n",
    "\n",
    "mi_cursor = cnx.cursor()\n",
    "mi_cursor.execute(\"SELECT Ciudad FROM alumnas\")\n",
    "\n",
    "resultado_murcia= mi_cursor.fetchall()\n",
    "print(resultado_murcia)\n",
    "cnx.close()\n"
   ]
  },
  {
   "cell_type": "markdown",
   "metadata": {},
   "source": [
    "9. Crea al menos dos Dataframes con la información de las alumnas de dos ciudades diferentes (usando dos queries)."
   ]
  },
  {
   "cell_type": "code",
   "execution_count": 28,
   "metadata": {},
   "outputs": [
    {
     "name": "stdout",
     "output_type": "stream",
     "text": [
      "[(2, 'Ana', 'García López', 'Madrid', '612345678')]\n"
     ]
    }
   ],
   "source": [
    "cnx = mysql.connector.connect(\n",
    "              user='root', password='AlumnaAdalab',\n",
    "              host='127.0.0.1',\n",
    "              database='alumnas_promo_h_da'\n",
    ")\n",
    "\n",
    "mi_cursor = cnx.cursor()\n",
    "mi_cursor.execute(\"SELECT * FROM alumnas WHERE Ciudad = 'Madrid'\")\n",
    "\n",
    "resultado_murcia= mi_cursor.fetchall()\n",
    "print(resultado_murcia)\n",
    "df_alumna_madrid= pd.DataFrame(resultado_murcia, columns = ['ID_alumna', 'Nombre', 'Apellido','Ciudad','Telefono'])\n",
    "cnx.close()"
   ]
  },
  {
   "cell_type": "code",
   "execution_count": 29,
   "metadata": {},
   "outputs": [
    {
     "data": {
      "text/html": [
       "<div>\n",
       "<style scoped>\n",
       "    .dataframe tbody tr th:only-of-type {\n",
       "        vertical-align: middle;\n",
       "    }\n",
       "\n",
       "    .dataframe tbody tr th {\n",
       "        vertical-align: top;\n",
       "    }\n",
       "\n",
       "    .dataframe thead th {\n",
       "        text-align: right;\n",
       "    }\n",
       "</style>\n",
       "<table border=\"1\" class=\"dataframe\">\n",
       "  <thead>\n",
       "    <tr style=\"text-align: right;\">\n",
       "      <th></th>\n",
       "      <th>ID_alumna</th>\n",
       "      <th>Nombre</th>\n",
       "      <th>Apellido</th>\n",
       "      <th>Ciudad</th>\n",
       "      <th>Telefono</th>\n",
       "    </tr>\n",
       "  </thead>\n",
       "  <tbody>\n",
       "    <tr>\n",
       "      <th>0</th>\n",
       "      <td>2</td>\n",
       "      <td>Ana</td>\n",
       "      <td>García López</td>\n",
       "      <td>Madrid</td>\n",
       "      <td>612345678</td>\n",
       "    </tr>\n",
       "  </tbody>\n",
       "</table>\n",
       "</div>"
      ],
      "text/plain": [
       "   ID_alumna Nombre      Apellido  Ciudad   Telefono\n",
       "0          2    Ana  García López  Madrid  612345678"
      ]
     },
     "execution_count": 29,
     "metadata": {},
     "output_type": "execute_result"
    }
   ],
   "source": [
    "df_alumna_madrid"
   ]
  },
  {
   "cell_type": "code",
   "execution_count": 31,
   "metadata": {},
   "outputs": [
    {
     "name": "stdout",
     "output_type": "stream",
     "text": [
      "[(8, 'Gloria', 'Sánchez Hernández', 'Murcia', '634567891')]\n"
     ]
    }
   ],
   "source": [
    "cnx = mysql.connector.connect(\n",
    "              user='root', password='AlumnaAdalab',\n",
    "              host='127.0.0.1',\n",
    "              database='alumnas_promo_h_da'\n",
    ")\n",
    "\n",
    "mi_cursor = cnx.cursor()\n",
    "mi_cursor.execute(\"SELECT * FROM alumnas WHERE Ciudad = 'Murcia'\")\n",
    "\n",
    "resultado_murcia= mi_cursor.fetchall()\n",
    "print(resultado_murcia)\n",
    "df_alumna_murcia= pd.DataFrame(resultado_murcia, columns = ['ID_alumna', 'Nombre', 'Apellido','Ciudad','Telefono'])\n",
    "cnx.close()"
   ]
  },
  {
   "cell_type": "code",
   "execution_count": 32,
   "metadata": {},
   "outputs": [
    {
     "data": {
      "text/html": [
       "<div>\n",
       "<style scoped>\n",
       "    .dataframe tbody tr th:only-of-type {\n",
       "        vertical-align: middle;\n",
       "    }\n",
       "\n",
       "    .dataframe tbody tr th {\n",
       "        vertical-align: top;\n",
       "    }\n",
       "\n",
       "    .dataframe thead th {\n",
       "        text-align: right;\n",
       "    }\n",
       "</style>\n",
       "<table border=\"1\" class=\"dataframe\">\n",
       "  <thead>\n",
       "    <tr style=\"text-align: right;\">\n",
       "      <th></th>\n",
       "      <th>ID_alumna</th>\n",
       "      <th>Nombre</th>\n",
       "      <th>Apellido</th>\n",
       "      <th>Ciudad</th>\n",
       "      <th>Telefono</th>\n",
       "    </tr>\n",
       "  </thead>\n",
       "  <tbody>\n",
       "    <tr>\n",
       "      <th>0</th>\n",
       "      <td>8</td>\n",
       "      <td>Gloria</td>\n",
       "      <td>Sánchez Hernández</td>\n",
       "      <td>Murcia</td>\n",
       "      <td>634567891</td>\n",
       "    </tr>\n",
       "  </tbody>\n",
       "</table>\n",
       "</div>"
      ],
      "text/plain": [
       "   ID_alumna  Nombre           Apellido  Ciudad   Telefono\n",
       "0          8  Gloria  Sánchez Hernández  Murcia  634567891"
      ]
     },
     "execution_count": 32,
     "metadata": {},
     "output_type": "execute_result"
    }
   ],
   "source": [
    "df_alumna_murcia"
   ]
  },
  {
   "cell_type": "code",
   "execution_count": null,
   "metadata": {},
   "outputs": [],
   "source": []
  }
 ],
 "metadata": {
  "kernelspec": {
   "display_name": "base",
   "language": "python",
   "name": "python3"
  },
  "language_info": {
   "codemirror_mode": {
    "name": "ipython",
    "version": 3
   },
   "file_extension": ".py",
   "mimetype": "text/x-python",
   "name": "python",
   "nbconvert_exporter": "python",
   "pygments_lexer": "ipython3",
   "version": "3.11.8"
  }
 },
 "nbformat": 4,
 "nbformat_minor": 2
}
