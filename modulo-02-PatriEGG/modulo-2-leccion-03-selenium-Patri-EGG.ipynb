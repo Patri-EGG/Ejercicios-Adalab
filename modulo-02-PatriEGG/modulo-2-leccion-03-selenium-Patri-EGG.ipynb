{
 "cells": [
  {
   "cell_type": "markdown",
   "metadata": {},
   "source": [
    "Escribe un script en Python utilizando Selenium que realice las siguientes tareas en la página web del Decathlon:\n",
    "\n",
    "Abra una el navegador y maximice la ventana.\n",
    "\n",
    "Acceda al sitio web de Decathlon en la URL \"https://www.decathlon.es/\".\n",
    "\n",
    "Haga clic en el botón \"Aceptar\" en la notificación de cookies utilizando su selector CSS.\n",
    "\n",
    "Solicite al usuario que ingrese una búsqueda (por ejemplo, un producto deportivo) mediante una entrada de texto.\n",
    "\n",
    "Utilice el texto ingresado para buscar productos en el sitio web de Decathlon y presione la tecla \"Enter\" para iniciar la búsqueda.\n",
    "\n",
    "Inicialice un diccionario llamado diccionario_resultados con tres listas vacías: \"nombre\", \"precio\" y \"puntuación\".\n",
    "\n",
    "Itere sobre los primeros 5 resultados de la búsqueda y realice las siguientes acciones:\n",
    "\n",
    "a. Haga clic en un resultado específico. b. Recopile el nombre del producto, el precio y la puntuación del producto y almacénelos en las listas correspondientes en el diccionario diccionario_resultados.\n",
    "\n",
    "c. Navegue de regreso a los resultados de búsqueda.\n",
    "\n",
    "Cierre el navegador Chrome."
   ]
  },
  {
   "cell_type": "code",
   "execution_count": 305,
   "metadata": {},
   "outputs": [],
   "source": [
    "import pandas as pd\n",
    "from selenium import webdriver\n",
    "from webdriver_manager.chrome import ChromeDriverManager\n",
    "from selenium.webdriver.common.keys import Keys\n",
    "from selenium.webdriver.support.ui import Select\n",
    "from selenium.webdriver.common.action_chains import ActionChains\n",
    "from time import sleep\n",
    "import requests\n",
    "import re"
   ]
  },
  {
   "cell_type": "code",
   "execution_count": 306,
   "metadata": {},
   "outputs": [],
   "source": [
    "url_decathlon = \"https://www.decathlon.es/es/\" \n",
    "driver = webdriver.Chrome()\n",
    "driver.get(url_decathlon)\n",
    "driver.maximize_window()\n",
    "sleep(2)\n",
    "driver.find_element(\"css selector\", \"#didomi-notice-agree-button\").click()\n",
    "sleep(2)\n",
    "input_usuario = input(\"Selecciona un producto\")\n",
    "driver.find_element(\"css selector\", \"#search-bar > div > form > input\").send_keys(input_usuario, Keys.ENTER)\n",
    "sleep(2)\n"
   ]
  },
  {
   "cell_type": "code",
   "execution_count": 307,
   "metadata": {},
   "outputs": [
    {
     "name": "stdout",
     "output_type": "stream",
     "text": [
      "Error al procesar el artículo 3: Message: no such element: Unable to locate element: {\"method\":\"xpath\",\"selector\":\"//*[@id=\"app\"]/main/article/div[2]/section/h1\"}\n",
      "  (Session info: chrome=124.0.6367.62); For documentation on this error, please visit: https://www.selenium.dev/documentation/webdriver/troubleshooting/errors#no-such-element-exception\n",
      "Stacktrace:\n",
      "0   chromedriver                        0x00000001051b6934 chromedriver + 4368692\n",
      "1   chromedriver                        0x00000001051aedc8 chromedriver + 4337096\n",
      "2   chromedriver                        0x0000000104dd2c04 chromedriver + 289796\n",
      "3   chromedriver                        0x0000000104e14e00 chromedriver + 560640\n",
      "4   chromedriver                        0x0000000104e4d5ec chromedriver + 792044\n",
      "5   chromedriver                        0x0000000104e09ab4 chromedriver + 514740\n",
      "6   chromedriver                        0x0000000104e0a50c chromedriver + 517388\n",
      "7   chromedriver                        0x000000010517ae50 chromedriver + 4124240\n",
      "8   chromedriver                        0x000000010517fc40 chromedriver + 4144192\n",
      "9   chromedriver                        0x0000000105160818 chromedriver + 4016152\n",
      "10  chromedriver                        0x0000000105180570 chromedriver + 4146544\n",
      "11  chromedriver                        0x00000001051522cc chromedriver + 3957452\n",
      "12  chromedriver                        0x000000010519feb8 chromedriver + 4275896\n",
      "13  chromedriver                        0x00000001051a0034 chromedriver + 4276276\n",
      "14  chromedriver                        0x00000001051aea28 chromedriver + 4336168\n",
      "15  libsystem_pthread.dylib             0x00000001990aaf94 _pthread_start + 136\n",
      "16  libsystem_pthread.dylib             0x00000001990a5d34 thread_start + 8\n",
      "\n",
      "{'nombre': ['Pelota de tenis Dunlop Fort All Court x4 control', 'Pelota de tenis polivalente - ARTENGO Comfort * 4 Amarillo Caja 18 tubos'], 'precio': ['7,49 €', '84,99 €'], 'puntuación': ['4.7/5', '3.4/5']}\n"
     ]
    }
   ],
   "source": [
    "diccionario_resultados = {\"nombre\": [], \"precio\": [], \"puntuación\": []}\n",
    "for i in range(1,6):\n",
    "    \n",
    "    try:\n",
    "    \n",
    "        driver.find_element(\"css selector\", f\"#app > main > div.list-body.svelte-4gq2qk > section.listing-section.svelte-4gq2qk > div > div:nth-child({i}) > div.product-block-top-main.vtmn-flex.vtmn-flex-col.vtmn-w-full.vtmn-items-start\").click()\n",
    "        sleep(4)\n",
    "    \n",
    "        diccionario_resultados[\"nombre\"].append(driver.find_element(\"xpath\",'//*[@id=\"app\"]/main/article/div[2]/section/h1').text)\n",
    "        diccionario_resultados[\"precio\"].append(driver.find_element(\"css selector\",\"span.vtmn-price.vtmn-price_size--large.vtmn-price_variant--accent\").text) \n",
    "        diccionario_resultados[\"puntuación\"].append(driver.find_element(\"css selector\",\"span.vtmn-rating_comment--primary\").text)\n",
    "        driver.back()\n",
    "        sleep(4)\n",
    "    \n",
    "    except Exception as e:\n",
    "        print(f\"Error al procesar el artículo {i}: {e}\")\n",
    "        driver.close()\n",
    "        break\n",
    "    \n",
    "    \n",
    "    \n",
    "driver.quit()\n",
    "print(diccionario_resultados)\n",
    "\n",
    "\n"
   ]
  },
  {
   "cell_type": "code",
   "execution_count": 308,
   "metadata": {},
   "outputs": [
    {
     "data": {
      "text/plain": [
       "{'nombre': ['Pelota de tenis Dunlop Fort All Court x4 control',\n",
       "  'Pelota de tenis polivalente - ARTENGO Comfort * 4 Amarillo Caja 18 tubos'],\n",
       " 'precio': ['7,49 €', '84,99 €'],\n",
       " 'puntuación': ['4.7/5', '3.4/5']}"
      ]
     },
     "execution_count": 308,
     "metadata": {},
     "output_type": "execute_result"
    }
   ],
   "source": [
    "#app > main > div.list-body.svelte-4gq2qk > section.listing-section.svelte-4gq2qk > div > div:nth-child(1) > div.product-block-top-main.vtmn-flex.vtmn-flex-col.vtmn-w-full.vtmn-items-start > a.dpb-product-model-link.svelte-1bclr8g > span\n",
    "#app > main > div.list-body.svelte-4gq2qk > section.listing-section.svelte-4gq2qk > div > div:nth-child(3) > div.product-block-top-main.vtmn-flex.vtmn-flex-col.vtmn-w-full.vtmn-items-start > a.dpb-product-model-link.svelte-1bclr8g > span\n",
    "# //*[@id=\"app\"]/main/div[2]/section[2]/div/div[1]/div[3]/a[1]/span\n",
    "# //*[@id=\"app\"]/main/div[2]/section[2]/div/div[1]/div[3]/a[2]\n",
    "\n",
    "#app > main > div.list-body.svelte-4gq2qk > section.listing-section.svelte-4gq2qk > div > div:nth-child(1) > div.product-block-top-main.vtmn-flex.vtmn-flex-col.vtmn-w-full.vtmn-items-start > a.dpb-product-model-link.svelte-1bclr8g\n",
    "#app > main > div.list-body.svelte-4gq2qk > section.listing-section.svelte-4gq2qk > div > div:nth-child(3) > div.product-block-top-main.vtmn-flex.vtmn-flex-col.vtmn-w-full.vtmn-items-start > a.dpb-product-model-link.svelte-1bclr8g# //*[@id=\"app\"]/main/article/div[2]/section/h1\n",
    "#app > main > div.list-body.svelte-4gq2qk > section.listing-section.svelte-4gq2qk > div > div:nth-child(2) > div.product-block-top-main.vtmn-flex.vtmn-flex-col.vtmn-w-full.vtmn-items-start > a.dpb-product-model-link.svelte-1bclr8g\n",
    "\n",
    "\n",
    "#app > main > div.list-body.svelte-4gq2qk > section.listing-section.svelte-4gq2qk > div > div:nth-child(1) > div.product-block-top-main.vtmn-flex.vtmn-flex-col.vtmn-w-full.vtmn-items-start\n",
    "#app > main > div.list-body.svelte-4gq2qk > section.listing-section.svelte-4gq2qk > div > div:nth-child(2) > div.product-block-top-main.vtmn-flex.vtmn-flex-col.vtmn-w-full.vtmn-items-start\n",
    "#app > main > article > div.vtmn-relative.vtmn-z-\\[2\\] > section > h1\n",
    "# //*[@id=\"app\"]/main/article/div[2]/section/h1\n",
    "#app > main > div.list-body.svelte-4gq2qk > section.listing-section.svelte-4gq2qk > div > div:nth-child(1) > div.product-block-top-main.vtmn-flex.vtmn-flex-col.vtmn-w-full.vtmn-items-start > a.vtmn-block.vtmn-w-full.vtmn-no-underline.gt-small-desktop\\:vtmn-leading-normal.vtmn-uppercase.vtmn-text-left.vtmn-mt-1.product-title\n",
    "#app > main > div.list-body.svelte-4gq2qk > section.listing-section.svelte-4gq2qk > div > div:nth-child(3) > div.product-block-top-left.vtmn-top-1.vtmn-left-1.vtmn-w-full.vtmn-justify-start.vtmn-absolute.vtmn-items-start.vtmn-text-left.vtmn-break-words.vtmn-pointer-events-none.svelte-1hrjnd\n",
    "diccionario_resultados"
   ]
  },
  {
   "cell_type": "code",
   "execution_count": null,
   "metadata": {},
   "outputs": [],
   "source": []
  }
 ],
 "metadata": {
  "kernelspec": {
   "display_name": "base",
   "language": "python",
   "name": "python3"
  },
  "language_info": {
   "codemirror_mode": {
    "name": "ipython",
    "version": 3
   },
   "file_extension": ".py",
   "mimetype": "text/x-python",
   "name": "python",
   "nbconvert_exporter": "python",
   "pygments_lexer": "ipython3",
   "version": "3.11.8"
  }
 },
 "nbformat": 4,
 "nbformat_minor": 2
}
